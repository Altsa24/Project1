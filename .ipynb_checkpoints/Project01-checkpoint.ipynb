{
 "cells": [
  {
   "cell_type": "markdown",
   "metadata": {},
   "source": [
    "# Daily Gas Prices in US"
   ]
  },
  {
   "cell_type": "markdown",
   "metadata": {},
   "source": [
    "### Libraries"
   ]
  },
  {
   "cell_type": "code",
   "execution_count": 1,
   "metadata": {},
   "outputs": [],
   "source": [
    "import requests\n",
    "import pandas as pd"
   ]
  },
  {
   "cell_type": "markdown",
   "metadata": {},
   "source": [
    "## Data Pull & Cleaning"
   ]
  },
  {
   "cell_type": "markdown",
   "metadata": {},
   "source": [
    "### API Key"
   ]
  },
  {
   "cell_type": "code",
   "execution_count": 2,
   "metadata": {},
   "outputs": [],
   "source": [
    "#API_Keys\n",
    "gas_key = \"4KLQzviUEChEdBIa8D57vG:6XtcVLxYfEOpANfjsyKUMq\"\n",
    "g_key = \"\"\n",
    "eia_key = \"162281490b68ef33f84de64aa9d6945b\""
   ]
  },
  {
   "cell_type": "markdown",
   "metadata": {},
   "source": [
    "### Daily Gas Prices - Pull & Clean UP"
   ]
  },
  {
   "cell_type": "code",
   "execution_count": 3,
   "metadata": {},
   "outputs": [],
   "source": [
    "#import Gas Daily Prices\n",
    "url = \"https://api.collectapi.com/gasPrice/allUsaPrice\"\n",
    "\n",
    "headers = {\n",
    "    'content-type': \"application/json\",\n",
    "    'authorization': f\"apikey {gas_key}\"\n",
    "    }\n",
    "\n",
    "response = requests.request(\"GET\", url, headers=headers).json()\n",
    "\n",
    "#Defining Variables\n",
    "states = []\n",
    "gasoline=[]\n",
    "midGrade=[]\n",
    "premium=[]\n",
    "diesel=[]\n",
    "\n",
    "#Creating for cycle to extract data\n",
    "\n",
    "for x in response[\"result\"]:\n",
    "    states.append(x[\"name\"])\n",
    "    gasoline.append(x[\"gasoline\"])\n",
    "    midGrade.append(x[\"midGrade\"])\n",
    "    premium.append(x[\"premium\"])\n",
    "    diesel.append(x[\"diesel\"])\n",
    "    \n",
    "#create dataframe\n",
    "daily_gasoline_df = pd.DataFrame({\"State\":states,\"Gas\":gasoline,\"MidGrade\":midGrade,\"Premium\":premium,\"Diesel\":diesel})\n"
   ]
  },
  {
   "cell_type": "code",
   "execution_count": 4,
   "metadata": {},
   "outputs": [
    {
     "data": {
      "text/html": [
       "<div>\n",
       "<style scoped>\n",
       "    .dataframe tbody tr th:only-of-type {\n",
       "        vertical-align: middle;\n",
       "    }\n",
       "\n",
       "    .dataframe tbody tr th {\n",
       "        vertical-align: top;\n",
       "    }\n",
       "\n",
       "    .dataframe thead th {\n",
       "        text-align: right;\n",
       "    }\n",
       "</style>\n",
       "<table border=\"1\" class=\"dataframe\">\n",
       "  <thead>\n",
       "    <tr style=\"text-align: right;\">\n",
       "      <th></th>\n",
       "      <th>State</th>\n",
       "      <th>Gas</th>\n",
       "      <th>MidGrade</th>\n",
       "      <th>Premium</th>\n",
       "      <th>Diesel</th>\n",
       "    </tr>\n",
       "  </thead>\n",
       "  <tbody>\n",
       "    <tr>\n",
       "      <th>0</th>\n",
       "      <td>Alaska</td>\n",
       "      <td>2.334</td>\n",
       "      <td>2.454</td>\n",
       "      <td>2.607</td>\n",
       "      <td>2.349</td>\n",
       "    </tr>\n",
       "    <tr>\n",
       "      <th>1</th>\n",
       "      <td>Alabama</td>\n",
       "      <td>1.726</td>\n",
       "      <td>2.039</td>\n",
       "      <td>2.382</td>\n",
       "      <td>2.262</td>\n",
       "    </tr>\n",
       "    <tr>\n",
       "      <th>2</th>\n",
       "      <td>Arkansas</td>\n",
       "      <td>1.713</td>\n",
       "      <td>2.004</td>\n",
       "      <td>2.294</td>\n",
       "      <td>2.099</td>\n",
       "    </tr>\n",
       "    <tr>\n",
       "      <th>3</th>\n",
       "      <td>Arizona</td>\n",
       "      <td>2.212</td>\n",
       "      <td>2.488</td>\n",
       "      <td>2.744</td>\n",
       "      <td>2.495</td>\n",
       "    </tr>\n",
       "    <tr>\n",
       "      <th>4</th>\n",
       "      <td>California</td>\n",
       "      <td>2.951</td>\n",
       "      <td>3.123</td>\n",
       "      <td>3.238</td>\n",
       "      <td>3.267</td>\n",
       "    </tr>\n",
       "  </tbody>\n",
       "</table>\n",
       "</div>"
      ],
      "text/plain": [
       "        State    Gas  MidGrade  Premium  Diesel\n",
       "0      Alaska  2.334     2.454    2.607   2.349\n",
       "1     Alabama  1.726     2.039    2.382   2.262\n",
       "2    Arkansas  1.713     2.004    2.294   2.099\n",
       "3     Arizona  2.212     2.488    2.744   2.495\n",
       "4  California  2.951     3.123    3.238   3.267"
      ]
     },
     "execution_count": 4,
     "metadata": {},
     "output_type": "execute_result"
    }
   ],
   "source": [
    "#Change to FLOAT\n",
    "daily_gasoline_df['Gas'] = daily_gasoline_df['Gas'].astype(float)\n",
    "daily_gasoline_df['MidGrade'] = daily_gasoline_df['MidGrade'].astype(float)\n",
    "daily_gasoline_df['Premium'] = daily_gasoline_df['Premium'].astype(float)\n",
    "daily_gasoline_df['Diesel'] = daily_gasoline_df['Diesel'].astype(float)\n",
    "daily_gasoline_df.head()"
   ]
  },
  {
   "cell_type": "markdown",
   "metadata": {},
   "source": [
    "### Google GeoCoding Info"
   ]
  },
  {
   "cell_type": "code",
   "execution_count": 5,
   "metadata": {},
   "outputs": [
    {
     "data": {
      "text/html": [
       "<div>\n",
       "<style scoped>\n",
       "    .dataframe tbody tr th:only-of-type {\n",
       "        vertical-align: middle;\n",
       "    }\n",
       "\n",
       "    .dataframe tbody tr th {\n",
       "        vertical-align: top;\n",
       "    }\n",
       "\n",
       "    .dataframe thead th {\n",
       "        text-align: right;\n",
       "    }\n",
       "</style>\n",
       "<table border=\"1\" class=\"dataframe\">\n",
       "  <thead>\n",
       "    <tr style=\"text-align: right;\">\n",
       "      <th></th>\n",
       "      <th>State</th>\n",
       "      <th>State Code</th>\n",
       "      <th>State Latitude</th>\n",
       "      <th>State Longitude</th>\n",
       "    </tr>\n",
       "  </thead>\n",
       "  <tbody>\n",
       "    <tr>\n",
       "      <th>0</th>\n",
       "      <td>Alaska</td>\n",
       "      <td>AK</td>\n",
       "      <td>64.200841</td>\n",
       "      <td>-149.493673</td>\n",
       "    </tr>\n",
       "    <tr>\n",
       "      <th>1</th>\n",
       "      <td>Alabama</td>\n",
       "      <td>AL</td>\n",
       "      <td>32.318231</td>\n",
       "      <td>-86.902298</td>\n",
       "    </tr>\n",
       "    <tr>\n",
       "      <th>2</th>\n",
       "      <td>Arkansas</td>\n",
       "      <td>AR</td>\n",
       "      <td>35.201050</td>\n",
       "      <td>-91.831833</td>\n",
       "    </tr>\n",
       "    <tr>\n",
       "      <th>3</th>\n",
       "      <td>Arizona</td>\n",
       "      <td>AZ</td>\n",
       "      <td>34.048928</td>\n",
       "      <td>-111.093731</td>\n",
       "    </tr>\n",
       "    <tr>\n",
       "      <th>4</th>\n",
       "      <td>California</td>\n",
       "      <td>CA</td>\n",
       "      <td>36.778261</td>\n",
       "      <td>-119.417932</td>\n",
       "    </tr>\n",
       "  </tbody>\n",
       "</table>\n",
       "</div>"
      ],
      "text/plain": [
       "        State State Code  State Latitude  State Longitude\n",
       "0      Alaska         AK       64.200841      -149.493673\n",
       "1     Alabama         AL       32.318231       -86.902298\n",
       "2    Arkansas         AR       35.201050       -91.831833\n",
       "3     Arizona         AZ       34.048928      -111.093731\n",
       "4  California         CA       36.778261      -119.417932"
      ]
     },
     "execution_count": 5,
     "metadata": {},
     "output_type": "execute_result"
    }
   ],
   "source": [
    "#import State Information\n",
    "state_lat = []\n",
    "state_lng = []\n",
    "state_code = []\n",
    "\n",
    "\n",
    "for state in states:\n",
    "    # Build the endpoint URL\n",
    "    target_url = ('https://maps.googleapis.com/maps/api/geocode/json?'\n",
    "    'address={0}&key={1}').format(state, g_key)\n",
    "    geo_data = requests.get(target_url).json()\n",
    "    state_lat.append(geo_data['results'][0][\"geometry\"][\"location\"][\"lat\"])\n",
    "    state_lng.append(geo_data['results'][0][\"geometry\"][\"location\"][\"lng\"])\n",
    "    code = geo_data['results'][0][\"address_components\"][0][\"short_name\"]\n",
    "    \n",
    "    #correct to the State when compared with the City Name\n",
    "    if len(code)>2:\n",
    "        state_code.append(geo_data['results'][0][\"address_components\"][2][\"short_name\"])\n",
    "    else:\n",
    "        state_code.append(code)\n",
    "\n",
    "#Change US to NY\n",
    "\n",
    "state_code[34]= \"NY\"\n",
    "\n",
    "#create dataframe\n",
    "state_df = pd.DataFrame({\"State\":states,\"State Code\":state_code,\n",
    "                         \"State Latitude\": state_lat, \n",
    "                         \"State Longitude\": state_lng})\n",
    "state_df.head()"
   ]
  },
  {
   "cell_type": "markdown",
   "metadata": {},
   "source": [
    "### Gas Price Time Series"
   ]
  },
  {
   "cell_type": "code",
   "execution_count": 7,
   "metadata": {
    "scrolled": true
   },
   "outputs": [
    {
     "name": "stdout",
     "output_type": "stream",
     "text": [
      "Failed: AK\n",
      "Failed: AL\n",
      "Failed: AR\n",
      "Failed: AZ\n",
      "Failed: CA\n",
      "Failed: CO\n",
      "Failed: CT\n",
      "Failed: DC\n",
      "Failed: DE\n",
      "Failed: FL\n",
      "Failed: GA\n",
      "Failed: HI\n",
      "Failed: IA\n",
      "Failed: ID\n",
      "Failed: IL\n",
      "Failed: IN\n",
      "Failed: KS\n",
      "Failed: KY\n",
      "Failed: LA\n",
      "Failed: MA\n",
      "Failed: MD\n",
      "Failed: ME\n",
      "Failed: MI\n",
      "Failed: MN\n",
      "Failed: MO\n",
      "Failed: MS\n",
      "Failed: MT\n",
      "Failed: NC\n",
      "Failed: ND\n",
      "Failed: NE\n",
      "Failed: NH\n",
      "Failed: NJ\n",
      "Failed: NM\n",
      "Failed: NV\n",
      "Failed: NY\n",
      "Failed: OH\n",
      "Failed: OK\n",
      "Failed: OR\n",
      "Failed: PA\n",
      "Failed: RI\n",
      "Failed: SC\n",
      "Failed: SD\n",
      "Failed: TN\n",
      "Failed: TX\n",
      "Failed: UT\n",
      "Failed: VA\n",
      "Failed: VT\n",
      "Failed: WA\n",
      "Failed: WI\n",
      "Failed: WV\n",
      "Failed: WY\n"
     ]
    }
   ],
   "source": [
    "#import Gas Time Series\n",
    "url = \"http://api.eia.gov/series/?api_key=\"+eia_key+\"&series_id=PET.EMM_EPM0_PTE_S\"\n",
    "timeSeries = []\n",
    "\n",
    "statetimeline = dict()\n",
    "\n",
    "for code in state_code:\n",
    "    try:\n",
    "        query_url = url+code+\"_DPG.W\"\n",
    "        response = requests.get(query_url).json()\n",
    "\n",
    "        Statetimeline.update({code:response[\"series\"][0][\"data\"]})\n",
    "\n",
    "    except:\n",
    "        print(f\"Failed: {code}\")\n"
   ]
  },
  {
   "cell_type": "markdown",
   "metadata": {},
   "source": [
    "### GDP per State"
   ]
  },
  {
   "cell_type": "code",
   "execution_count": 9,
   "metadata": {},
   "outputs": [
    {
     "data": {
      "text/html": [
       "<div>\n",
       "<style scoped>\n",
       "    .dataframe tbody tr th:only-of-type {\n",
       "        vertical-align: middle;\n",
       "    }\n",
       "\n",
       "    .dataframe tbody tr th {\n",
       "        vertical-align: top;\n",
       "    }\n",
       "\n",
       "    .dataframe thead th {\n",
       "        text-align: right;\n",
       "    }\n",
       "</style>\n",
       "<table border=\"1\" class=\"dataframe\">\n",
       "  <thead>\n",
       "    <tr style=\"text-align: right;\">\n",
       "      <th></th>\n",
       "      <th>State</th>\n",
       "      <th>GDP per capita</th>\n",
       "    </tr>\n",
       "  </thead>\n",
       "  <tbody>\n",
       "    <tr>\n",
       "      <th>0</th>\n",
       "      <td>District of Columbia</td>\n",
       "      <td>200,277</td>\n",
       "    </tr>\n",
       "    <tr>\n",
       "      <th>1</th>\n",
       "      <td>New York</td>\n",
       "      <td>85,746</td>\n",
       "    </tr>\n",
       "    <tr>\n",
       "      <th>2</th>\n",
       "      <td>Massachusetts</td>\n",
       "      <td>82,480</td>\n",
       "    </tr>\n",
       "    <tr>\n",
       "      <th>3</th>\n",
       "      <td>Delaware</td>\n",
       "      <td>77,253</td>\n",
       "    </tr>\n",
       "    <tr>\n",
       "      <th>4</th>\n",
       "      <td>Connecticut</td>\n",
       "      <td>76,342</td>\n",
       "    </tr>\n",
       "  </tbody>\n",
       "</table>\n",
       "</div>"
      ],
      "text/plain": [
       "                  State GDP per capita\n",
       "0  District of Columbia        200,277\n",
       "1              New York         85,746\n",
       "2         Massachusetts         82,480\n",
       "3              Delaware         77,253\n",
       "4           Connecticut         76,342"
      ]
     },
     "execution_count": 9,
     "metadata": {},
     "output_type": "execute_result"
    }
   ],
   "source": [
    "#import Info\n",
    "gdp_df = pd.read_csv(\"GDP_sheet1.csv\")\n",
    "\n",
    "#Drop Rank\n",
    "gdp_df = gdp_df.drop(columns=\"rank\")\n",
    "gdp_df = gdp_df.rename(columns={\"US States\": \"State\",\n",
    "                               \"GDP per capita (current dollars)\":\"GDP per capita\"})\n",
    "gdp_df.head()"
   ]
  },
  {
   "cell_type": "markdown",
   "metadata": {},
   "source": [
    "### US Refinaries"
   ]
  },
  {
   "cell_type": "code",
   "execution_count": 38,
   "metadata": {
    "scrolled": true
   },
   "outputs": [],
   "source": [
    "#import Info\n",
    "refineries_df = pd.read_csv(\"Refineries.csv\")\n",
    "refineries_df = refineries_df.rename(columns={\"Unnamed: 1\":\"State\"})\n",
    "refineries_df = refineries_df.rename(columns={\"List of oil refineries in the US\":\"Refinery\"})\n",
    "refineries_df[\"Refinery\"] = refineries_df[\"Refinery\"].str.replace(r\"\\(.*\\)\",\"\")\n",
    "refineries_df = refineries_df.drop_duplicates()\n",
    "refineries_df = refineries_df.drop_duplicates(subset=\"Refinery\",keep=False)\n",
    "refineries_df = refineries_df.merge(state_df,left_on=\"State\",right_on=\"State\")"
   ]
  },
  {
   "cell_type": "code",
   "execution_count": 39,
   "metadata": {},
   "outputs": [
    {
     "name": "stdout",
     "output_type": "stream",
     "text": [
      "St. Rose Refinery  not found\n",
      "Rogerslacy Refinery  not found\n",
      "Greenville Refinery  not found\n",
      "Bloomfield Refinery  not found\n",
      "Lima Refinery  not found\n",
      "Wamsutta Oil Refinery  not found\n",
      "Independent Refinery  not found\n",
      "Nixon Refinery  not found\n",
      "Douglas Refinery  not found\n"
     ]
    }
   ],
   "source": [
    "# geocoordinates\n",
    "target_coordinates = refineries_df[[\"State Latitude\", \"State Longitude\"]]\n",
    "target_coordinates = target_coordinates.values.tolist()\n",
    "\n",
    "target_type = \"refinery\"\n",
    "\n",
    "refinery_lat=[]\n",
    "refinery_lng = []\n",
    "\n",
    "# base url\n",
    "base_url = \"https://maps.googleapis.com/maps/api/place/textsearch/json\"\n",
    "\n",
    "for i in range(0,len(target_coordinates)):\n",
    "    coord = f\"{target_coordinates[i][0]},{target_coordinates[i][1]}\"\n",
    "    target_search = refineries_df.iloc[i][0]\n",
    "    # set up a parameters dictionary\n",
    "    params = {\n",
    "        \"query\": target_search,\n",
    "        \"key\": g_key}\n",
    "    # run a request using our params dictionary\n",
    "    try:\n",
    "        response = requests.get(base_url, params=params).json()\n",
    "        refinery_lat.append(response[\"results\"][0][\"geometry\"][\"location\"][\"lat\"])\n",
    "        refinery_lng.append(response[\"results\"][0][\"geometry\"][\"location\"][\"lng\"])\n",
    "    except:\n",
    "        print(f\"{target_search} not found\")"
   ]
  },
  {
   "cell_type": "code",
   "execution_count": null,
   "metadata": {},
   "outputs": [],
   "source": []
  },
  {
   "cell_type": "code",
   "execution_count": null,
   "metadata": {},
   "outputs": [],
   "source": []
  },
  {
   "cell_type": "markdown",
   "metadata": {},
   "source": [
    "### Merging Information"
   ]
  },
  {
   "cell_type": "code",
   "execution_count": null,
   "metadata": {},
   "outputs": [],
   "source": [
    "daily_gasoline_df = daily_gasoline_df.merge(state_df,left_on=\"State\",right_on=\"State\")\n",
    "daily_gasoline_df = daily_gasoline_df.merge(gdp_df,on=\"State\",how=\"left\")\n",
    "daily_gasoline_df"
   ]
  },
  {
   "cell_type": "markdown",
   "metadata": {},
   "source": [
    "## Data Analysis"
   ]
  },
  {
   "cell_type": "markdown",
   "metadata": {},
   "source": [
    "### GeoLocation Gas Price Variation"
   ]
  },
  {
   "cell_type": "code",
   "execution_count": null,
   "metadata": {},
   "outputs": [],
   "source": [
    "daily_gasoline_df.plot.scatter(x=\"State Latitude\",y=\"Gas\", c=\"State Longitude\", colormap = 'viridis')\n"
   ]
  },
  {
   "cell_type": "code",
   "execution_count": null,
   "metadata": {},
   "outputs": [],
   "source": [
    "daily_gasoline_df.plot.scatter(x=\"State Longitude\",y=\"Gas\", c=\"State Latitude\", colormap = 'viridis')\n"
   ]
  },
  {
   "cell_type": "code",
   "execution_count": null,
   "metadata": {},
   "outputs": [],
   "source": []
  }
 ],
 "metadata": {
  "kernelspec": {
   "display_name": "Python [conda env:LearnPython] *",
   "language": "python",
   "name": "conda-env-LearnPython-py"
  },
  "language_info": {
   "codemirror_mode": {
    "name": "ipython",
    "version": 3
   },
   "file_extension": ".py",
   "mimetype": "text/x-python",
   "name": "python",
   "nbconvert_exporter": "python",
   "pygments_lexer": "ipython3",
   "version": "3.7.7"
  }
 },
 "nbformat": 4,
 "nbformat_minor": 4
}
