{
 "cells": [
  {
   "cell_type": "markdown",
   "metadata": {},
   "source": [
    "# Daily Gas Prices in US"
   ]
  },
  {
   "cell_type": "markdown",
   "metadata": {},
   "source": [
    "### Libraries"
   ]
  },
  {
   "cell_type": "code",
   "execution_count": 1,
   "metadata": {},
   "outputs": [],
   "source": [
    "import plotly.graph_objects as go\n",
    "import pandas as pd\n",
    "import matplotlib.pyplot as plt\n",
    "import scipy.stats as sts\n",
    "import numpy as np\n",
    "from scipy.stats import linregress\n",
    "import plotly.express as px"
   ]
  },
  {
   "cell_type": "markdown",
   "metadata": {},
   "source": [
    "### Importing Data"
   ]
  },
  {
   "cell_type": "code",
   "execution_count": 2,
   "metadata": {},
   "outputs": [],
   "source": [
    "working_df = pd.read_csv(\"working_data.csv\")"
   ]
  },
  {
   "cell_type": "code",
   "execution_count": 3,
   "metadata": {},
   "outputs": [],
   "source": [
    "# definir archivos\n",
    "autopath = \"autosbystate.csv\"\n",
    "autos_df = pd.read_csv(autopath)\n",
    "gaspath = \"gasoline0406.csv\"\n",
    "gas_df = pd.read_csv(gaspath)\n",
    "distance_df = pd.read_csv(\"working_data.csv\")"
   ]
  },
  {
   "cell_type": "markdown",
   "metadata": {},
   "source": [
    "## Data Analysis"
   ]
  },
  {
   "cell_type": "markdown",
   "metadata": {},
   "source": [
    "### Data Analysis - Map Analysis"
   ]
  },
  {
   "cell_type": "code",
   "execution_count": 3,
   "metadata": {},
   "outputs": [
    {
     "ename": "ValueError",
     "evalue": "\nThe orca executable is required to export figures as static images,\nbut it could not be found on the system path.\n\nSearched for executable 'orca' on the following path:\n    /Users/tiagolopes/opt/anaconda3/envs/LearnPython/bin\n    /Users/tiagolopes/opt/anaconda3/condabin\n    /Library/Frameworks/Python.framework/Versions/3.7/bin\n    /Library/Frameworks/Python.framework/Versions/3.7/bin\n    /usr/local/bin\n    /usr/bin\n    /bin\n    /usr/sbin\n    /sbin\n    /Library/TeX/texbin\n    /Library/Apple/usr/bin\n\nIf you haven't installed orca yet, you can do so using conda as follows:\n\n    $ conda install -c plotly plotly-orca\n\nAlternatively, see other installation methods in the orca project README at\nhttps://github.com/plotly/orca\n\nAfter installation is complete, no further configuration should be needed.\n\nIf you have installed orca, then for some reason plotly.py was unable to\nlocate it. In this case, set the `plotly.io.orca.config.executable`\nproperty to the full path of your orca executable. For example:\n\n    >>> plotly.io.orca.config.executable = '/path/to/orca'\n\nAfter updating this executable property, try the export operation again.\nIf it is successful then you may want to save this configuration so that it\nwill be applied automatically in future sessions. You can do this as follows:\n\n    >>> plotly.io.orca.config.save()\n\nIf you're still having trouble, feel free to ask for help on the forums at\nhttps://community.plot.ly/c/api/python\n",
     "output_type": "error",
     "traceback": [
      "\u001b[0;31m---------------------------------------------------------------------------\u001b[0m",
      "\u001b[0;31mValueError\u001b[0m                                Traceback (most recent call last)",
      "\u001b[0;32m<ipython-input-3-64d11cfa189e>\u001b[0m in \u001b[0;36m<module>\u001b[0;34m\u001b[0m\n\u001b[1;32m     25\u001b[0m     \u001b[0mgeo_scope\u001b[0m\u001b[0;34m=\u001b[0m\u001b[0;34m'usa'\u001b[0m\u001b[0;34m,\u001b[0m \u001b[0;31m# limite map scope to USA\u001b[0m\u001b[0;34m\u001b[0m\u001b[0;34m\u001b[0m\u001b[0m\n\u001b[1;32m     26\u001b[0m )\n\u001b[0;32m---> 27\u001b[0;31m \u001b[0mfig\u001b[0m\u001b[0;34m.\u001b[0m\u001b[0mwrite_image\u001b[0m\u001b[0;34m(\u001b[0m\u001b[0;34m\"Output/fig1.png\"\u001b[0m\u001b[0;34m)\u001b[0m\u001b[0;34m\u001b[0m\u001b[0;34m\u001b[0m\u001b[0m\n\u001b[0m\u001b[1;32m     28\u001b[0m \u001b[0mfig\u001b[0m\u001b[0;34m.\u001b[0m\u001b[0mshow\u001b[0m\u001b[0;34m(\u001b[0m\u001b[0;34m)\u001b[0m\u001b[0;34m\u001b[0m\u001b[0;34m\u001b[0m\u001b[0m\n",
      "\u001b[0;32m~/opt/anaconda3/envs/LearnPython/lib/python3.7/site-packages/plotly/basedatatypes.py\u001b[0m in \u001b[0;36mwrite_image\u001b[0;34m(self, *args, **kwargs)\u001b[0m\n\u001b[1;32m   3191\u001b[0m         \u001b[0;32mimport\u001b[0m \u001b[0mplotly\u001b[0m\u001b[0;34m.\u001b[0m\u001b[0mio\u001b[0m \u001b[0;32mas\u001b[0m \u001b[0mpio\u001b[0m\u001b[0;34m\u001b[0m\u001b[0;34m\u001b[0m\u001b[0m\n\u001b[1;32m   3192\u001b[0m \u001b[0;34m\u001b[0m\u001b[0m\n\u001b[0;32m-> 3193\u001b[0;31m         \u001b[0;32mreturn\u001b[0m \u001b[0mpio\u001b[0m\u001b[0;34m.\u001b[0m\u001b[0mwrite_image\u001b[0m\u001b[0;34m(\u001b[0m\u001b[0mself\u001b[0m\u001b[0;34m,\u001b[0m \u001b[0;34m*\u001b[0m\u001b[0margs\u001b[0m\u001b[0;34m,\u001b[0m \u001b[0;34m**\u001b[0m\u001b[0mkwargs\u001b[0m\u001b[0;34m)\u001b[0m\u001b[0;34m\u001b[0m\u001b[0;34m\u001b[0m\u001b[0m\n\u001b[0m\u001b[1;32m   3194\u001b[0m \u001b[0;34m\u001b[0m\u001b[0m\n\u001b[1;32m   3195\u001b[0m     \u001b[0;31m# Static helpers\u001b[0m\u001b[0;34m\u001b[0m\u001b[0;34m\u001b[0m\u001b[0;34m\u001b[0m\u001b[0m\n",
      "\u001b[0;32m~/opt/anaconda3/envs/LearnPython/lib/python3.7/site-packages/plotly/io/_orca.py\u001b[0m in \u001b[0;36mwrite_image\u001b[0;34m(fig, file, format, scale, width, height, validate)\u001b[0m\n\u001b[1;32m   1768\u001b[0m     \u001b[0;31m# Do this first so we don't create a file if image conversion fails\u001b[0m\u001b[0;34m\u001b[0m\u001b[0;34m\u001b[0m\u001b[0;34m\u001b[0m\u001b[0m\n\u001b[1;32m   1769\u001b[0m     img_data = to_image(\n\u001b[0;32m-> 1770\u001b[0;31m         \u001b[0mfig\u001b[0m\u001b[0;34m,\u001b[0m \u001b[0mformat\u001b[0m\u001b[0;34m=\u001b[0m\u001b[0mformat\u001b[0m\u001b[0;34m,\u001b[0m \u001b[0mscale\u001b[0m\u001b[0;34m=\u001b[0m\u001b[0mscale\u001b[0m\u001b[0;34m,\u001b[0m \u001b[0mwidth\u001b[0m\u001b[0;34m=\u001b[0m\u001b[0mwidth\u001b[0m\u001b[0;34m,\u001b[0m \u001b[0mheight\u001b[0m\u001b[0;34m=\u001b[0m\u001b[0mheight\u001b[0m\u001b[0;34m,\u001b[0m \u001b[0mvalidate\u001b[0m\u001b[0;34m=\u001b[0m\u001b[0mvalidate\u001b[0m\u001b[0;34m\u001b[0m\u001b[0;34m\u001b[0m\u001b[0m\n\u001b[0m\u001b[1;32m   1771\u001b[0m     )\n\u001b[1;32m   1772\u001b[0m \u001b[0;34m\u001b[0m\u001b[0m\n",
      "\u001b[0;32m~/opt/anaconda3/envs/LearnPython/lib/python3.7/site-packages/plotly/io/_orca.py\u001b[0m in \u001b[0;36mto_image\u001b[0;34m(fig, format, width, height, scale, validate)\u001b[0m\n\u001b[1;32m   1533\u001b[0m     \u001b[0;31m# Make sure orca sever is running\u001b[0m\u001b[0;34m\u001b[0m\u001b[0;34m\u001b[0m\u001b[0;34m\u001b[0m\u001b[0m\n\u001b[1;32m   1534\u001b[0m     \u001b[0;31m# -------------------------------\u001b[0m\u001b[0;34m\u001b[0m\u001b[0;34m\u001b[0m\u001b[0;34m\u001b[0m\u001b[0m\n\u001b[0;32m-> 1535\u001b[0;31m     \u001b[0mensure_server\u001b[0m\u001b[0;34m(\u001b[0m\u001b[0;34m)\u001b[0m\u001b[0;34m\u001b[0m\u001b[0;34m\u001b[0m\u001b[0m\n\u001b[0m\u001b[1;32m   1536\u001b[0m \u001b[0;34m\u001b[0m\u001b[0m\n\u001b[1;32m   1537\u001b[0m     \u001b[0;31m# Handle defaults\u001b[0m\u001b[0;34m\u001b[0m\u001b[0;34m\u001b[0m\u001b[0;34m\u001b[0m\u001b[0m\n",
      "\u001b[0;32m~/opt/anaconda3/envs/LearnPython/lib/python3.7/site-packages/plotly/io/_orca.py\u001b[0m in \u001b[0;36mensure_server\u001b[0;34m()\u001b[0m\n\u001b[1;32m   1388\u001b[0m         \u001b[0;31m# Validate orca executable only if server_url is not provided\u001b[0m\u001b[0;34m\u001b[0m\u001b[0;34m\u001b[0m\u001b[0;34m\u001b[0m\u001b[0m\n\u001b[1;32m   1389\u001b[0m         \u001b[0;32mif\u001b[0m \u001b[0mstatus\u001b[0m\u001b[0;34m.\u001b[0m\u001b[0mstate\u001b[0m \u001b[0;34m==\u001b[0m \u001b[0;34m\"unvalidated\"\u001b[0m\u001b[0;34m:\u001b[0m\u001b[0;34m\u001b[0m\u001b[0;34m\u001b[0m\u001b[0m\n\u001b[0;32m-> 1390\u001b[0;31m             \u001b[0mvalidate_executable\u001b[0m\u001b[0;34m(\u001b[0m\u001b[0;34m)\u001b[0m\u001b[0;34m\u001b[0m\u001b[0;34m\u001b[0m\u001b[0m\n\u001b[0m\u001b[1;32m   1391\u001b[0m         \u001b[0;31m# Acquire lock to make sure that we keep the properties of orca_state\u001b[0m\u001b[0;34m\u001b[0m\u001b[0;34m\u001b[0m\u001b[0;34m\u001b[0m\u001b[0m\n\u001b[1;32m   1392\u001b[0m         \u001b[0;31m# consistent across threads\u001b[0m\u001b[0;34m\u001b[0m\u001b[0;34m\u001b[0m\u001b[0;34m\u001b[0m\u001b[0m\n",
      "\u001b[0;32m~/opt/anaconda3/envs/LearnPython/lib/python3.7/site-packages/plotly/io/_orca.py\u001b[0m in \u001b[0;36mvalidate_executable\u001b[0;34m()\u001b[0m\n\u001b[1;32m   1085\u001b[0m                 \u001b[0mexecutable\u001b[0m\u001b[0;34m=\u001b[0m\u001b[0mconfig\u001b[0m\u001b[0;34m.\u001b[0m\u001b[0mexecutable\u001b[0m\u001b[0;34m,\u001b[0m\u001b[0;34m\u001b[0m\u001b[0;34m\u001b[0m\u001b[0m\n\u001b[1;32m   1086\u001b[0m                 \u001b[0mformatted_path\u001b[0m\u001b[0;34m=\u001b[0m\u001b[0mformatted_path\u001b[0m\u001b[0;34m,\u001b[0m\u001b[0;34m\u001b[0m\u001b[0;34m\u001b[0m\u001b[0m\n\u001b[0;32m-> 1087\u001b[0;31m                 \u001b[0minstructions\u001b[0m\u001b[0;34m=\u001b[0m\u001b[0minstall_location_instructions\u001b[0m\u001b[0;34m,\u001b[0m\u001b[0;34m\u001b[0m\u001b[0;34m\u001b[0m\u001b[0m\n\u001b[0m\u001b[1;32m   1088\u001b[0m             )\n\u001b[1;32m   1089\u001b[0m         )\n",
      "\u001b[0;31mValueError\u001b[0m: \nThe orca executable is required to export figures as static images,\nbut it could not be found on the system path.\n\nSearched for executable 'orca' on the following path:\n    /Users/tiagolopes/opt/anaconda3/envs/LearnPython/bin\n    /Users/tiagolopes/opt/anaconda3/condabin\n    /Library/Frameworks/Python.framework/Versions/3.7/bin\n    /Library/Frameworks/Python.framework/Versions/3.7/bin\n    /usr/local/bin\n    /usr/bin\n    /bin\n    /usr/sbin\n    /sbin\n    /Library/TeX/texbin\n    /Library/Apple/usr/bin\n\nIf you haven't installed orca yet, you can do so using conda as follows:\n\n    $ conda install -c plotly plotly-orca\n\nAlternatively, see other installation methods in the orca project README at\nhttps://github.com/plotly/orca\n\nAfter installation is complete, no further configuration should be needed.\n\nIf you have installed orca, then for some reason plotly.py was unable to\nlocate it. In this case, set the `plotly.io.orca.config.executable`\nproperty to the full path of your orca executable. For example:\n\n    >>> plotly.io.orca.config.executable = '/path/to/orca'\n\nAfter updating this executable property, try the export operation again.\nIf it is successful then you may want to save this configuration so that it\nwill be applied automatically in future sessions. You can do this as follows:\n\n    >>> plotly.io.orca.config.save()\n\nIf you're still having trouble, feel free to ask for help on the forums at\nhttps://community.plot.ly/c/api/python\n"
     ]
    }
   ],
   "source": [
    "maps_df = working_df\n",
    "maps_df[\"Refinery Count\"] = maps_df[\"Refinery Count\"].fillna(0)\n",
    "maps_df=maps_df.round(3)\n",
    "\n",
    "for col in maps_df.columns:\n",
    "    maps_df[col]=maps_df[col].astype(str)\n",
    "\n",
    "maps_df[\"text\"] = maps_df[\"State\"] + '<br>'+ \\\n",
    "    \"Gas Price=\"+maps_df[\"Gas\"]+ '<br>'+ \\\n",
    "    \"GDP per Capita=\"+maps_df[\"GDP per capita\"] + '<br>'+ \\\n",
    "    \"# of Refineries=\"+maps_df[\"Refinery Count\"] + '<br>'+ \\\n",
    "    \"Total Vehicles=\"+maps_df[\"TOTAL MOTOR VEHICLES\"]\n",
    "\n",
    "fig = go.Figure(data=go.Choropleth(\n",
    "    locations=maps_df['State Code'], # Spatial coordinates\n",
    "    z = maps_df['Gas'].astype(float), # Data to be color-coded\n",
    "    locationmode = 'USA-states', # set of locations match entries in `locations`\n",
    "    colorscale = 'Blues',\n",
    "    text=maps_df['text'],\n",
    "    colorbar_title = \"Gas Price (USD)\",\n",
    "))\n",
    "\n",
    "fig.update_layout(\n",
    "    title_text = '2021 Gas Price by State',\n",
    "    geo_scope='usa', # limite map scope to USA\n",
    ")\n",
    "fig.write_image(\"Output/fig1.png\")\n",
    "fig.show()"
   ]
  },
  {
   "cell_type": "code",
   "execution_count": null,
   "metadata": {},
   "outputs": [],
   "source": [
    "maps_df_2 = maps_df.loc[maps_df[\"State Code\"]!= \"DC\"]\n",
    "\n",
    "fig = go.Figure(data=go.Choropleth(\n",
    "    locations=maps_df_2['State Code'], # Spatial coordinates\n",
    "    z = maps_df_2['GDP per capita'].astype(float), # Data to be color-coded\n",
    "    locationmode = 'USA-states', # set of locations match entries in `locations`\n",
    "    colorscale = 'blues',\n",
    "    colorbar_title = \"GDP per Capita(USD)\",\n",
    "))\n",
    "\n",
    "fig.update_layout(\n",
    "    title_text = '2021 GDP per Capita by State',\n",
    "    geo_scope='usa', # limite map scope to USA\n",
    ")\n",
    "fig.write_html('first_figure.html', auto_open=True)\n",
    "#fig.show()"
   ]
  },
  {
   "cell_type": "code",
   "execution_count": null,
   "metadata": {},
   "outputs": [],
   "source": [
    "fig = go.Figure(data=go.Choropleth(\n",
    "    locations=maps_df['State Code'], # Spatial coordinates\n",
    "    z = maps_df['TOTAL MOTOR VEHICLES'].astype(float), # Data to be color-coded\n",
    "    locationmode = 'USA-states', # set of locations match entries in `locations`\n",
    "    colorscale = 'blues',\n",
    "    colorbar_title = \"GDP per Capita(USD)\",\n",
    "))\n",
    "\n",
    "fig.update_layout(\n",
    "    title_text = '2021 GDP per Capita by State',\n",
    "    geo_scope='usa', # limite map scope to USA\n",
    ")\n",
    "fig.write_html('second_figure.html', auto_open=True)\n",
    "#fig.show()"
   ]
  },
  {
   "cell_type": "code",
   "execution_count": null,
   "metadata": {},
   "outputs": [],
   "source": [
    "working_df['GDP per capita']= working_df['GDP per capita'].replace(\",\",\"\").astype(float)\n",
    "working_df['GDP per capita']= working_df['GDP per capita']\n",
    "working_df_woDC = working_df.loc[(working_df['State Code'] != \"DC\") ]\n",
    "gas_list=[\"Gas\",\"Premium\",\"Diesel\",\"MidGrade\"]\n",
    "for x in gas_list:\n",
    "    fig = go.Figure(data=px.scatter(x=working_df_woDC['GDP per capita'],\n",
    "                                y=working_df_woDC[x],color=working_df_woDC['GDP per capita'],trendline=\"ols\",\n",
    "                                text=working_df_woDC['State'])) # hover text goes here\n",
    "    plot_=x+\"(plot).html\"\n",
    "\n",
    "    fig.update_layout(title= x+\"Vs\"+\"GDP\")\n",
    "    fig.write_html(plot_, auto_open=True)"
   ]
  },
  {
   "cell_type": "code",
   "execution_count": null,
   "metadata": {},
   "outputs": [],
   "source": [
    "for x in gas_list:\n",
    "    df = px.data.tips()\n",
    "    fig = px.box(df, y=working_df_woDC[x])\n",
    "    box_plot_=x+\"(plot).html\"\n",
    "    fig.update_layout(title= x+\" \"+\"Boxplot\")\n",
    "    fig.write_html(box_plot_, auto_open=True)"
   ]
  },
  {
   "cell_type": "code",
   "execution_count": null,
   "metadata": {},
   "outputs": [],
   "source": [
    "for x in gas_list:\n",
    "    fig = go.Figure(data=px.scatter(x=working_df['State Latitude'],\n",
    "                                y=working_df[x],color=working_df['GDP per capita'],trendline=\"ols\",\n",
    "                                text=working_df['State'])) # hover text goes here\n",
    "    plot_=x+\"Latitud(plot).html\"\n",
    "\n",
    "    fig.update_layout(title= \"Latitude vs \" + x +\" Price\")\n",
    "    fig.write_html(plot_, auto_open=True)"
   ]
  },
  {
   "cell_type": "code",
   "execution_count": null,
   "metadata": {},
   "outputs": [],
   "source": [
    "\n",
    "for x in gas_list:\n",
    "    fig = go.Figure(data=px.scatter(x=working_df['State Longitude'],\n",
    "                                y=working_df[x],color=working_df['GDP per capita'],trendline=\"ols\",\n",
    "                                text=working_df['State'])) # hover text goes here\n",
    "    plot_=x+\"Longitude(plot).html\"\n",
    "\n",
    "    fig.update_layout(title= \"Longitude vs \" + x +\" Price\")\n",
    "    fig.write_html(plot_, auto_open=True)"
   ]
  },
  {
   "cell_type": "code",
   "execution_count": null,
   "metadata": {},
   "outputs": [],
   "source": [
    "autos_df = autos_df.rename(columns={\"STATE\": \"states\"})\n",
    "gas_autos_df = pd.merge(gas_df,autos_df, on='states',  how='outer')\n",
    "gas_autos_df = gas_autos_df.rename(columns={\"premium\": \"Premium\",\"gasoline\": \"Gas\",\"midGrade\": \"MidGrade\",\"diesel\": \"Diesel\"})\n",
    "gas_autos_df['TOTAL MOTOR VEHICLES'] = gas_autos_df['TOTAL AUTOMOBILES'] + gas_autos_df['TOTAL BUSES'] + gas_autos_df['TOTAL TRUCKS']+ gas_autos_df['TOTAL MOTORCYCLES']\n",
    "\n",
    "for x in gas_list:\n",
    "    fig = go.Figure(data=px.scatter(x=gas_autos_df['TOTAL MOTOR VEHICLES'],\n",
    "                                y=gas_autos_df[x],color=gas_autos_df['TOTAL MOTOR VEHICLES'],trendline=\"ols\",\n",
    "                                text=gas_autos_df['states'])) # hover text goes here\n",
    "    plot_=x+\"Cars(plot).html\"\n",
    "\n",
    "    fig.update_layout(title= \"Cars vs \" + x +\" Price\")\n",
    "    fig.write_html(plot_, auto_open=True)"
   ]
  },
  {
   "cell_type": "code",
   "execution_count": null,
   "metadata": {},
   "outputs": [],
   "source": [
    "    fig = go.Figure(data=px.scatter(x=distance_df[\"Mean Distance (km)\"]/1000,\n",
    "                                y=distance_df[\"Gas\"],trendline=\"ols\",\n",
    "                                text=distance_df['State'])) # hover text goes here\n",
    "    plot_=\"Mean_distance(plot).html\"\n",
    "\n",
    "    fig.update_layout(title= \"Distances Refinery vs Mean Gas Price\")\n",
    "    fig.write_html(plot_, auto_open=True)"
   ]
  },
  {
   "cell_type": "code",
   "execution_count": null,
   "metadata": {},
   "outputs": [],
   "source": [
    "    fig = go.Figure(data=px.scatter(x=distance_df[\"Min Distance (km)\"]/1000,\n",
    "                                y=distance_df[\"Gas\"],trendline=\"ols\",\n",
    "                                text=distance_df['State'])) # hover text goes here\n",
    "    plot_=x+\"Longitude(plot).html\"\n",
    "\n",
    "    fig.update_layout(title= \"Distances Refinery vs Min Gas Price\")\n",
    "    fig.write_html(plot_, auto_open=True)"
   ]
  }
 ],
 "metadata": {
  "kernelspec": {
   "display_name": "Python [conda env:LearnPython] *",
   "language": "python",
   "name": "conda-env-LearnPython-py"
  },
  "language_info": {
   "codemirror_mode": {
    "name": "ipython",
    "version": 3
   },
   "file_extension": ".py",
   "mimetype": "text/x-python",
   "name": "python",
   "nbconvert_exporter": "python",
   "pygments_lexer": "ipython3",
   "version": "3.7.7"
  }
 },
 "nbformat": 4,
 "nbformat_minor": 4
}
