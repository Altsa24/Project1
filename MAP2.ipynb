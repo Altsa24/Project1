{
 "cells": [
  {
   "cell_type": "code",
   "execution_count": 6,
   "metadata": {},
   "outputs": [
    {
     "data": {
      "application/vnd.plotly.v1+json": {
       "config": {
        "plotlyServerURL": "https://plot.ly"
       },
       "data": [
        {
         "colorbar": {
          "title": {
           "text": "Gas Price (USD)"
          }
         },
         "colorscale": [
          [
           0,
           "rgb(247,251,255)"
          ],
          [
           0.125,
           "rgb(222,235,247)"
          ],
          [
           0.25,
           "rgb(198,219,239)"
          ],
          [
           0.375,
           "rgb(158,202,225)"
          ],
          [
           0.5,
           "rgb(107,174,214)"
          ],
          [
           0.625,
           "rgb(66,146,198)"
          ],
          [
           0.75,
           "rgb(33,113,181)"
          ],
          [
           0.875,
           "rgb(8,81,156)"
          ],
          [
           1,
           "rgb(8,48,107)"
          ]
         ],
         "locationmode": "USA-states",
         "locations": [
          "AK",
          "AL",
          "AR",
          "AZ",
          "CA",
          "CO",
          "CT",
          "DC",
          "DE",
          "FL",
          "GA",
          "HI",
          "IA",
          "ID",
          "IL",
          "IN",
          "KS",
          "KY",
          "LA",
          "MA",
          "MD",
          "ME",
          "MI",
          "MN",
          "MO",
          "MS",
          "MT",
          "NC",
          "ND",
          "NE",
          "NH",
          "NJ",
          "NM",
          "NV",
          "NY",
          "OH",
          "OK",
          "OR",
          "PA",
          "RI",
          "SC",
          "SD",
          "TN",
          "TX",
          "UT",
          "VA",
          "VT",
          "WA",
          "WI",
          "WV",
          "WY"
         ],
         "text": [
          "Alaska<br>Gas Price=2.388<br>GDP per Capita=73205.0<br># of Refineries=4.0<br>Total Vehicles=804505",
          "Alabama<br>Gas Price=1.779<br>GDP per Capita=45219.0<br># of Refineries=3.0<br>Total Vehicles=5056073",
          "Arkansas<br>Gas Price=1.78<br>GDP per Capita=42454.0<br># of Refineries=1.0<br>Total Vehicles=2833697",
          "Arizona<br>Gas Price=2.264<br>GDP per Capita=48055.0<br># of Refineries=0.0<br>Total Vehicles=5964434",
          "California<br>Gas Price=2.977<br>GDP per Capita=74205.0<br># of Refineries=16.0<br>Total Vehicles=30795141",
          "Colorado<br>Gas Price=2.283<br>GDP per Capita=63882.0<br># of Refineries=1.0<br>Total Vehicles=5259960",
          "Connecticut<br>Gas Price=2.056<br>GDP per Capita=76342.0<br># of Refineries=0.0<br>Total Vehicles=2826350",
          "District of Columbia<br>Gas Price=2.178<br>GDP per Capita=200277.0<br># of Refineries=0.0<br>Total Vehicles=346016",
          "Delaware<br>Gas Price=1.991<br>GDP per Capita=77253.0<br># of Refineries=1.0<br>Total Vehicles=970733",
          "Florida<br>Gas Price=2.008<br>GDP per Capita=48318.0<br># of Refineries=0.0<br>Total Vehicles=16959269",
          "Georgia<br>Gas Price=1.855<br>GDP per Capita=55832.0<br># of Refineries=1.0<br>Total Vehicles=8442325",
          "Hawaii<br>Gas Price=3.201<br>GDP per Capita=64096.0<br># of Refineries=1.0<br>Total Vehicles=1259541",
          "Iowa<br>Gas Price=2.033<br>GDP per Capita=59977.0<br># of Refineries=0.0<br>Total Vehicles=3750077",
          "Idaho<br>Gas Price=2.297<br>GDP per Capita=43430.0<br># of Refineries=0.0<br>Total Vehicles=1835903",
          "Illinois<br>Gas Price=2.307<br>GDP per Capita=67268.0<br># of Refineries=4.0<br>Total Vehicles=10890760",
          "Indiana<br>Gas Price=2.095<br>GDP per Capita=55172.0<br># of Refineries=2.0<br>Total Vehicles=6170034",
          "Kansas<br>Gas Price=1.863<br>GDP per Capita=56334.0<br># of Refineries=2.0<br>Total Vehicles=2717873",
          "Kentucky<br>Gas Price=1.984<br>GDP per Capita=46898.0<br># of Refineries=2.0<br>Total Vehicles=4293205",
          "Louisiana<br>Gas Price=1.743<br>GDP per Capita=53589.0<br># of Refineries=16.0<br>Total Vehicles=3906812",
          "Massachusetts<br>Gas Price=2.04<br>GDP per Capita=82480.0<br># of Refineries=0.0<br>Total Vehicles=5065221",
          "Maryland<br>Gas Price=2.103<br>GDP per Capita=68573.0<br># of Refineries=0.0<br>Total Vehicles=4357598",
          "Maine<br>Gas Price=2.054<br>GDP per Capita=47969.0<br># of Refineries=0.0<br>Total Vehicles=1094388",
          "Michigan<br>Gas Price=2.089<br>GDP per Capita=53209.0<br># of Refineries=1.0<br>Total Vehicles=8518097",
          "Minnesota<br>Gas Price=2.005<br>GDP per Capita=64675.0<br># of Refineries=2.0<br>Total Vehicles=5682653",
          "Missouri<br>Gas Price=1.837<br>GDP per Capita=51699.0<br># of Refineries=0.0<br>Total Vehicles=5568736",
          "Mississippi<br>Gas Price=1.713<br>GDP per Capita=37948.0<br># of Refineries=4.0<br>Total Vehicles=2057476",
          "Montana<br>Gas Price=2.007<br>GDP per Capita=46609.0<br># of Refineries=3.0<br>Total Vehicles=1863918",
          "North Carolina<br>Gas Price=1.965<br>GDP per Capita=54441.0<br># of Refineries=0.0<br>Total Vehicles=8070717",
          "North Dakota<br>Gas Price=1.974<br>GDP per Capita=72597.0<br># of Refineries=2.0<br>Total Vehicles=1056758",
          "Nebraska<br>Gas Price=1.971<br>GDP per Capita=63942.0<br># of Refineries=0.0<br>Total Vehicles=1965105",
          "New Hampshire<br>Gas Price=2.016<br>GDP per Capita=63067.0<br># of Refineries=0.0<br>Total Vehicles=1319117",
          "New Jersey<br>Gas Price=2.085<br>GDP per Capita=69378.0<br># of Refineries=6.0<br>Total Vehicles=6057711",
          "New Mexico<br>Gas Price=1.969<br>GDP per Capita=46954.0<br># of Refineries=3.0<br>Total Vehicles=1740002",
          "Nevada<br>Gas Price=2.519<br>GDP per Capita=55269.0<br># of Refineries=1.0<br>Total Vehicles=2455442",
          "New York<br>Gas Price=2.218<br>GDP per Capita=85746.0<br># of Refineries=0.0<br>Total Vehicles=10857455",
          "Ohio<br>Gas Price=2.034<br>GDP per Capita=57492.0<br># of Refineries=4.0<br>Total Vehicles=10809247",
          "Oklahoma<br>Gas Price=1.807<br>GDP per Capita=50613.0<br># of Refineries=4.0<br>Total Vehicles=3744178",
          "Oregon<br>Gas Price=2.537<br>GDP per Capita=56956.0<br># of Refineries=0.0<br>Total Vehicles=4103451",
          "Pennsylvania<br>Gas Price=2.311<br>GDP per Capita=61594.0<br># of Refineries=6.0<br>Total Vehicles=10689206",
          "Rhode Island<br>Gas Price=2.036<br>GDP per Capita=57852.0<br># of Refineries=0.0<br>Total Vehicles=872814",
          "South Carolina<br>Gas Price=1.831<br>GDP per Capita=45280.0<br># of Refineries=0.0<br>Total Vehicles=4404100",
          "South Dakota<br>Gas Price=1.979<br>GDP per Capita=58624.0<br># of Refineries=0.0<br>Total Vehicles=1258356",
          "Tennessee<br>Gas Price=1.858<br>GDP per Capita=53933.0<br># of Refineries=1.0<br>Total Vehicles=5800489",
          "Texas<br>Gas Price=1.797<br>GDP per Capita=61167.0<br># of Refineries=21.0<br>Total Vehicles=22130765",
          "Utah<br>Gas Price=2.288<br>GDP per Capita=55550.0<br># of Refineries=3.0<br>Total Vehicles=2355773",
          "Virginia<br>Gas Price=1.853<br>GDP per Capita=62563.0<br># of Refineries=0.0<br>Total Vehicles=7514484",
          "Vermont<br>Gas Price=2.046<br>GDP per Capita=53523.0<br># of Refineries=0.0<br>Total Vehicles=621608",
          "Washington<br>Gas Price=2.623<br>GDP per Capita=74182.0<br># of Refineries=5.0<br>Total Vehicles=7256196",
          "Wisconsin<br>Gas Price=2.04<br>GDP per Capita=57720.0<br># of Refineries=1.0<br>Total Vehicles=5596635",
          "West Virginia<br>Gas Price=2.028<br>GDP per Capita=43053.0<br># of Refineries=1.0<br>Total Vehicles=1691237",
          "Wyoming<br>Gas Price=2.037<br>GDP per Capita=69900.0<br># of Refineries=6.0<br>Total Vehicles=819257"
         ],
         "type": "choropleth",
         "z": [
          2.388,
          1.779,
          1.78,
          2.264,
          2.977,
          2.283,
          2.056,
          2.178,
          1.991,
          2.008,
          1.855,
          3.201,
          2.033,
          2.297,
          2.307,
          2.095,
          1.863,
          1.984,
          1.743,
          2.04,
          2.103,
          2.054,
          2.089,
          2.005,
          1.837,
          1.713,
          2.007,
          1.965,
          1.974,
          1.971,
          2.016,
          2.085,
          1.969,
          2.519,
          2.218,
          2.034,
          1.807,
          2.537,
          2.311,
          2.036,
          1.831,
          1.979,
          1.858,
          1.797,
          2.288,
          1.853,
          2.046,
          2.623,
          2.04,
          2.028,
          2.037
         ]
        }
       ],
       "layout": {
        "geo": {
         "scope": "usa"
        },
        "template": {
         "data": {
          "bar": [
           {
            "error_x": {
             "color": "#2a3f5f"
            },
            "error_y": {
             "color": "#2a3f5f"
            },
            "marker": {
             "line": {
              "color": "#E5ECF6",
              "width": 0.5
             }
            },
            "type": "bar"
           }
          ],
          "barpolar": [
           {
            "marker": {
             "line": {
              "color": "#E5ECF6",
              "width": 0.5
             }
            },
            "type": "barpolar"
           }
          ],
          "carpet": [
           {
            "aaxis": {
             "endlinecolor": "#2a3f5f",
             "gridcolor": "white",
             "linecolor": "white",
             "minorgridcolor": "white",
             "startlinecolor": "#2a3f5f"
            },
            "baxis": {
             "endlinecolor": "#2a3f5f",
             "gridcolor": "white",
             "linecolor": "white",
             "minorgridcolor": "white",
             "startlinecolor": "#2a3f5f"
            },
            "type": "carpet"
           }
          ],
          "choropleth": [
           {
            "colorbar": {
             "outlinewidth": 0,
             "ticks": ""
            },
            "type": "choropleth"
           }
          ],
          "contour": [
           {
            "colorbar": {
             "outlinewidth": 0,
             "ticks": ""
            },
            "colorscale": [
             [
              0,
              "#0d0887"
             ],
             [
              0.1111111111111111,
              "#46039f"
             ],
             [
              0.2222222222222222,
              "#7201a8"
             ],
             [
              0.3333333333333333,
              "#9c179e"
             ],
             [
              0.4444444444444444,
              "#bd3786"
             ],
             [
              0.5555555555555556,
              "#d8576b"
             ],
             [
              0.6666666666666666,
              "#ed7953"
             ],
             [
              0.7777777777777778,
              "#fb9f3a"
             ],
             [
              0.8888888888888888,
              "#fdca26"
             ],
             [
              1,
              "#f0f921"
             ]
            ],
            "type": "contour"
           }
          ],
          "contourcarpet": [
           {
            "colorbar": {
             "outlinewidth": 0,
             "ticks": ""
            },
            "type": "contourcarpet"
           }
          ],
          "heatmap": [
           {
            "colorbar": {
             "outlinewidth": 0,
             "ticks": ""
            },
            "colorscale": [
             [
              0,
              "#0d0887"
             ],
             [
              0.1111111111111111,
              "#46039f"
             ],
             [
              0.2222222222222222,
              "#7201a8"
             ],
             [
              0.3333333333333333,
              "#9c179e"
             ],
             [
              0.4444444444444444,
              "#bd3786"
             ],
             [
              0.5555555555555556,
              "#d8576b"
             ],
             [
              0.6666666666666666,
              "#ed7953"
             ],
             [
              0.7777777777777778,
              "#fb9f3a"
             ],
             [
              0.8888888888888888,
              "#fdca26"
             ],
             [
              1,
              "#f0f921"
             ]
            ],
            "type": "heatmap"
           }
          ],
          "heatmapgl": [
           {
            "colorbar": {
             "outlinewidth": 0,
             "ticks": ""
            },
            "colorscale": [
             [
              0,
              "#0d0887"
             ],
             [
              0.1111111111111111,
              "#46039f"
             ],
             [
              0.2222222222222222,
              "#7201a8"
             ],
             [
              0.3333333333333333,
              "#9c179e"
             ],
             [
              0.4444444444444444,
              "#bd3786"
             ],
             [
              0.5555555555555556,
              "#d8576b"
             ],
             [
              0.6666666666666666,
              "#ed7953"
             ],
             [
              0.7777777777777778,
              "#fb9f3a"
             ],
             [
              0.8888888888888888,
              "#fdca26"
             ],
             [
              1,
              "#f0f921"
             ]
            ],
            "type": "heatmapgl"
           }
          ],
          "histogram": [
           {
            "marker": {
             "colorbar": {
              "outlinewidth": 0,
              "ticks": ""
             }
            },
            "type": "histogram"
           }
          ],
          "histogram2d": [
           {
            "colorbar": {
             "outlinewidth": 0,
             "ticks": ""
            },
            "colorscale": [
             [
              0,
              "#0d0887"
             ],
             [
              0.1111111111111111,
              "#46039f"
             ],
             [
              0.2222222222222222,
              "#7201a8"
             ],
             [
              0.3333333333333333,
              "#9c179e"
             ],
             [
              0.4444444444444444,
              "#bd3786"
             ],
             [
              0.5555555555555556,
              "#d8576b"
             ],
             [
              0.6666666666666666,
              "#ed7953"
             ],
             [
              0.7777777777777778,
              "#fb9f3a"
             ],
             [
              0.8888888888888888,
              "#fdca26"
             ],
             [
              1,
              "#f0f921"
             ]
            ],
            "type": "histogram2d"
           }
          ],
          "histogram2dcontour": [
           {
            "colorbar": {
             "outlinewidth": 0,
             "ticks": ""
            },
            "colorscale": [
             [
              0,
              "#0d0887"
             ],
             [
              0.1111111111111111,
              "#46039f"
             ],
             [
              0.2222222222222222,
              "#7201a8"
             ],
             [
              0.3333333333333333,
              "#9c179e"
             ],
             [
              0.4444444444444444,
              "#bd3786"
             ],
             [
              0.5555555555555556,
              "#d8576b"
             ],
             [
              0.6666666666666666,
              "#ed7953"
             ],
             [
              0.7777777777777778,
              "#fb9f3a"
             ],
             [
              0.8888888888888888,
              "#fdca26"
             ],
             [
              1,
              "#f0f921"
             ]
            ],
            "type": "histogram2dcontour"
           }
          ],
          "mesh3d": [
           {
            "colorbar": {
             "outlinewidth": 0,
             "ticks": ""
            },
            "type": "mesh3d"
           }
          ],
          "parcoords": [
           {
            "line": {
             "colorbar": {
              "outlinewidth": 0,
              "ticks": ""
             }
            },
            "type": "parcoords"
           }
          ],
          "pie": [
           {
            "automargin": true,
            "type": "pie"
           }
          ],
          "scatter": [
           {
            "marker": {
             "colorbar": {
              "outlinewidth": 0,
              "ticks": ""
             }
            },
            "type": "scatter"
           }
          ],
          "scatter3d": [
           {
            "line": {
             "colorbar": {
              "outlinewidth": 0,
              "ticks": ""
             }
            },
            "marker": {
             "colorbar": {
              "outlinewidth": 0,
              "ticks": ""
             }
            },
            "type": "scatter3d"
           }
          ],
          "scattercarpet": [
           {
            "marker": {
             "colorbar": {
              "outlinewidth": 0,
              "ticks": ""
             }
            },
            "type": "scattercarpet"
           }
          ],
          "scattergeo": [
           {
            "marker": {
             "colorbar": {
              "outlinewidth": 0,
              "ticks": ""
             }
            },
            "type": "scattergeo"
           }
          ],
          "scattergl": [
           {
            "marker": {
             "colorbar": {
              "outlinewidth": 0,
              "ticks": ""
             }
            },
            "type": "scattergl"
           }
          ],
          "scattermapbox": [
           {
            "marker": {
             "colorbar": {
              "outlinewidth": 0,
              "ticks": ""
             }
            },
            "type": "scattermapbox"
           }
          ],
          "scatterpolar": [
           {
            "marker": {
             "colorbar": {
              "outlinewidth": 0,
              "ticks": ""
             }
            },
            "type": "scatterpolar"
           }
          ],
          "scatterpolargl": [
           {
            "marker": {
             "colorbar": {
              "outlinewidth": 0,
              "ticks": ""
             }
            },
            "type": "scatterpolargl"
           }
          ],
          "scatterternary": [
           {
            "marker": {
             "colorbar": {
              "outlinewidth": 0,
              "ticks": ""
             }
            },
            "type": "scatterternary"
           }
          ],
          "surface": [
           {
            "colorbar": {
             "outlinewidth": 0,
             "ticks": ""
            },
            "colorscale": [
             [
              0,
              "#0d0887"
             ],
             [
              0.1111111111111111,
              "#46039f"
             ],
             [
              0.2222222222222222,
              "#7201a8"
             ],
             [
              0.3333333333333333,
              "#9c179e"
             ],
             [
              0.4444444444444444,
              "#bd3786"
             ],
             [
              0.5555555555555556,
              "#d8576b"
             ],
             [
              0.6666666666666666,
              "#ed7953"
             ],
             [
              0.7777777777777778,
              "#fb9f3a"
             ],
             [
              0.8888888888888888,
              "#fdca26"
             ],
             [
              1,
              "#f0f921"
             ]
            ],
            "type": "surface"
           }
          ],
          "table": [
           {
            "cells": {
             "fill": {
              "color": "#EBF0F8"
             },
             "line": {
              "color": "white"
             }
            },
            "header": {
             "fill": {
              "color": "#C8D4E3"
             },
             "line": {
              "color": "white"
             }
            },
            "type": "table"
           }
          ]
         },
         "layout": {
          "annotationdefaults": {
           "arrowcolor": "#2a3f5f",
           "arrowhead": 0,
           "arrowwidth": 1
          },
          "coloraxis": {
           "colorbar": {
            "outlinewidth": 0,
            "ticks": ""
           }
          },
          "colorscale": {
           "diverging": [
            [
             0,
             "#8e0152"
            ],
            [
             0.1,
             "#c51b7d"
            ],
            [
             0.2,
             "#de77ae"
            ],
            [
             0.3,
             "#f1b6da"
            ],
            [
             0.4,
             "#fde0ef"
            ],
            [
             0.5,
             "#f7f7f7"
            ],
            [
             0.6,
             "#e6f5d0"
            ],
            [
             0.7,
             "#b8e186"
            ],
            [
             0.8,
             "#7fbc41"
            ],
            [
             0.9,
             "#4d9221"
            ],
            [
             1,
             "#276419"
            ]
           ],
           "sequential": [
            [
             0,
             "#0d0887"
            ],
            [
             0.1111111111111111,
             "#46039f"
            ],
            [
             0.2222222222222222,
             "#7201a8"
            ],
            [
             0.3333333333333333,
             "#9c179e"
            ],
            [
             0.4444444444444444,
             "#bd3786"
            ],
            [
             0.5555555555555556,
             "#d8576b"
            ],
            [
             0.6666666666666666,
             "#ed7953"
            ],
            [
             0.7777777777777778,
             "#fb9f3a"
            ],
            [
             0.8888888888888888,
             "#fdca26"
            ],
            [
             1,
             "#f0f921"
            ]
           ],
           "sequentialminus": [
            [
             0,
             "#0d0887"
            ],
            [
             0.1111111111111111,
             "#46039f"
            ],
            [
             0.2222222222222222,
             "#7201a8"
            ],
            [
             0.3333333333333333,
             "#9c179e"
            ],
            [
             0.4444444444444444,
             "#bd3786"
            ],
            [
             0.5555555555555556,
             "#d8576b"
            ],
            [
             0.6666666666666666,
             "#ed7953"
            ],
            [
             0.7777777777777778,
             "#fb9f3a"
            ],
            [
             0.8888888888888888,
             "#fdca26"
            ],
            [
             1,
             "#f0f921"
            ]
           ]
          },
          "colorway": [
           "#636efa",
           "#EF553B",
           "#00cc96",
           "#ab63fa",
           "#FFA15A",
           "#19d3f3",
           "#FF6692",
           "#B6E880",
           "#FF97FF",
           "#FECB52"
          ],
          "font": {
           "color": "#2a3f5f"
          },
          "geo": {
           "bgcolor": "white",
           "lakecolor": "white",
           "landcolor": "#E5ECF6",
           "showlakes": true,
           "showland": true,
           "subunitcolor": "white"
          },
          "hoverlabel": {
           "align": "left"
          },
          "hovermode": "closest",
          "mapbox": {
           "style": "light"
          },
          "paper_bgcolor": "white",
          "plot_bgcolor": "#E5ECF6",
          "polar": {
           "angularaxis": {
            "gridcolor": "white",
            "linecolor": "white",
            "ticks": ""
           },
           "bgcolor": "#E5ECF6",
           "radialaxis": {
            "gridcolor": "white",
            "linecolor": "white",
            "ticks": ""
           }
          },
          "scene": {
           "xaxis": {
            "backgroundcolor": "#E5ECF6",
            "gridcolor": "white",
            "gridwidth": 2,
            "linecolor": "white",
            "showbackground": true,
            "ticks": "",
            "zerolinecolor": "white"
           },
           "yaxis": {
            "backgroundcolor": "#E5ECF6",
            "gridcolor": "white",
            "gridwidth": 2,
            "linecolor": "white",
            "showbackground": true,
            "ticks": "",
            "zerolinecolor": "white"
           },
           "zaxis": {
            "backgroundcolor": "#E5ECF6",
            "gridcolor": "white",
            "gridwidth": 2,
            "linecolor": "white",
            "showbackground": true,
            "ticks": "",
            "zerolinecolor": "white"
           }
          },
          "shapedefaults": {
           "line": {
            "color": "#2a3f5f"
           }
          },
          "ternary": {
           "aaxis": {
            "gridcolor": "white",
            "linecolor": "white",
            "ticks": ""
           },
           "baxis": {
            "gridcolor": "white",
            "linecolor": "white",
            "ticks": ""
           },
           "bgcolor": "#E5ECF6",
           "caxis": {
            "gridcolor": "white",
            "linecolor": "white",
            "ticks": ""
           }
          },
          "title": {
           "x": 0.05
          },
          "xaxis": {
           "automargin": true,
           "gridcolor": "white",
           "linecolor": "white",
           "ticks": "",
           "title": {
            "standoff": 15
           },
           "zerolinecolor": "white",
           "zerolinewidth": 2
          },
          "yaxis": {
           "automargin": true,
           "gridcolor": "white",
           "linecolor": "white",
           "ticks": "",
           "title": {
            "standoff": 15
           },
           "zerolinecolor": "white",
           "zerolinewidth": 2
          }
         }
        },
        "title": {
         "text": "2021 Gas Price by State"
        }
       }
      },
      "text/html": [
       "<div>\n",
       "        \n",
       "        \n",
       "            <div id=\"158c75fb-559e-4d70-93f2-ddf1150ef7f4\" class=\"plotly-graph-div\" style=\"height:525px; width:100%;\"></div>\n",
       "            <script type=\"text/javascript\">\n",
       "                require([\"plotly\"], function(Plotly) {\n",
       "                    window.PLOTLYENV=window.PLOTLYENV || {};\n",
       "                    \n",
       "                if (document.getElementById(\"158c75fb-559e-4d70-93f2-ddf1150ef7f4\")) {\n",
       "                    Plotly.newPlot(\n",
       "                        '158c75fb-559e-4d70-93f2-ddf1150ef7f4',\n",
       "                        [{\"colorbar\": {\"title\": {\"text\": \"Gas Price (USD)\"}}, \"colorscale\": [[0.0, \"rgb(247,251,255)\"], [0.125, \"rgb(222,235,247)\"], [0.25, \"rgb(198,219,239)\"], [0.375, \"rgb(158,202,225)\"], [0.5, \"rgb(107,174,214)\"], [0.625, \"rgb(66,146,198)\"], [0.75, \"rgb(33,113,181)\"], [0.875, \"rgb(8,81,156)\"], [1.0, \"rgb(8,48,107)\"]], \"locationmode\": \"USA-states\", \"locations\": [\"AK\", \"AL\", \"AR\", \"AZ\", \"CA\", \"CO\", \"CT\", \"DC\", \"DE\", \"FL\", \"GA\", \"HI\", \"IA\", \"ID\", \"IL\", \"IN\", \"KS\", \"KY\", \"LA\", \"MA\", \"MD\", \"ME\", \"MI\", \"MN\", \"MO\", \"MS\", \"MT\", \"NC\", \"ND\", \"NE\", \"NH\", \"NJ\", \"NM\", \"NV\", \"NY\", \"OH\", \"OK\", \"OR\", \"PA\", \"RI\", \"SC\", \"SD\", \"TN\", \"TX\", \"UT\", \"VA\", \"VT\", \"WA\", \"WI\", \"WV\", \"WY\"], \"text\": [\"Alaska<br>Gas Price=2.388<br>GDP per Capita=73205.0<br># of Refineries=4.0<br>Total Vehicles=804505\", \"Alabama<br>Gas Price=1.779<br>GDP per Capita=45219.0<br># of Refineries=3.0<br>Total Vehicles=5056073\", \"Arkansas<br>Gas Price=1.78<br>GDP per Capita=42454.0<br># of Refineries=1.0<br>Total Vehicles=2833697\", \"Arizona<br>Gas Price=2.264<br>GDP per Capita=48055.0<br># of Refineries=0.0<br>Total Vehicles=5964434\", \"California<br>Gas Price=2.977<br>GDP per Capita=74205.0<br># of Refineries=16.0<br>Total Vehicles=30795141\", \"Colorado<br>Gas Price=2.283<br>GDP per Capita=63882.0<br># of Refineries=1.0<br>Total Vehicles=5259960\", \"Connecticut<br>Gas Price=2.056<br>GDP per Capita=76342.0<br># of Refineries=0.0<br>Total Vehicles=2826350\", \"District of Columbia<br>Gas Price=2.178<br>GDP per Capita=200277.0<br># of Refineries=0.0<br>Total Vehicles=346016\", \"Delaware<br>Gas Price=1.991<br>GDP per Capita=77253.0<br># of Refineries=1.0<br>Total Vehicles=970733\", \"Florida<br>Gas Price=2.008<br>GDP per Capita=48318.0<br># of Refineries=0.0<br>Total Vehicles=16959269\", \"Georgia<br>Gas Price=1.855<br>GDP per Capita=55832.0<br># of Refineries=1.0<br>Total Vehicles=8442325\", \"Hawaii<br>Gas Price=3.201<br>GDP per Capita=64096.0<br># of Refineries=1.0<br>Total Vehicles=1259541\", \"Iowa<br>Gas Price=2.033<br>GDP per Capita=59977.0<br># of Refineries=0.0<br>Total Vehicles=3750077\", \"Idaho<br>Gas Price=2.297<br>GDP per Capita=43430.0<br># of Refineries=0.0<br>Total Vehicles=1835903\", \"Illinois<br>Gas Price=2.307<br>GDP per Capita=67268.0<br># of Refineries=4.0<br>Total Vehicles=10890760\", \"Indiana<br>Gas Price=2.095<br>GDP per Capita=55172.0<br># of Refineries=2.0<br>Total Vehicles=6170034\", \"Kansas<br>Gas Price=1.863<br>GDP per Capita=56334.0<br># of Refineries=2.0<br>Total Vehicles=2717873\", \"Kentucky<br>Gas Price=1.984<br>GDP per Capita=46898.0<br># of Refineries=2.0<br>Total Vehicles=4293205\", \"Louisiana<br>Gas Price=1.743<br>GDP per Capita=53589.0<br># of Refineries=16.0<br>Total Vehicles=3906812\", \"Massachusetts<br>Gas Price=2.04<br>GDP per Capita=82480.0<br># of Refineries=0.0<br>Total Vehicles=5065221\", \"Maryland<br>Gas Price=2.103<br>GDP per Capita=68573.0<br># of Refineries=0.0<br>Total Vehicles=4357598\", \"Maine<br>Gas Price=2.054<br>GDP per Capita=47969.0<br># of Refineries=0.0<br>Total Vehicles=1094388\", \"Michigan<br>Gas Price=2.089<br>GDP per Capita=53209.0<br># of Refineries=1.0<br>Total Vehicles=8518097\", \"Minnesota<br>Gas Price=2.005<br>GDP per Capita=64675.0<br># of Refineries=2.0<br>Total Vehicles=5682653\", \"Missouri<br>Gas Price=1.837<br>GDP per Capita=51699.0<br># of Refineries=0.0<br>Total Vehicles=5568736\", \"Mississippi<br>Gas Price=1.713<br>GDP per Capita=37948.0<br># of Refineries=4.0<br>Total Vehicles=2057476\", \"Montana<br>Gas Price=2.007<br>GDP per Capita=46609.0<br># of Refineries=3.0<br>Total Vehicles=1863918\", \"North Carolina<br>Gas Price=1.965<br>GDP per Capita=54441.0<br># of Refineries=0.0<br>Total Vehicles=8070717\", \"North Dakota<br>Gas Price=1.974<br>GDP per Capita=72597.0<br># of Refineries=2.0<br>Total Vehicles=1056758\", \"Nebraska<br>Gas Price=1.971<br>GDP per Capita=63942.0<br># of Refineries=0.0<br>Total Vehicles=1965105\", \"New Hampshire<br>Gas Price=2.016<br>GDP per Capita=63067.0<br># of Refineries=0.0<br>Total Vehicles=1319117\", \"New Jersey<br>Gas Price=2.085<br>GDP per Capita=69378.0<br># of Refineries=6.0<br>Total Vehicles=6057711\", \"New Mexico<br>Gas Price=1.969<br>GDP per Capita=46954.0<br># of Refineries=3.0<br>Total Vehicles=1740002\", \"Nevada<br>Gas Price=2.519<br>GDP per Capita=55269.0<br># of Refineries=1.0<br>Total Vehicles=2455442\", \"New York<br>Gas Price=2.218<br>GDP per Capita=85746.0<br># of Refineries=0.0<br>Total Vehicles=10857455\", \"Ohio<br>Gas Price=2.034<br>GDP per Capita=57492.0<br># of Refineries=4.0<br>Total Vehicles=10809247\", \"Oklahoma<br>Gas Price=1.807<br>GDP per Capita=50613.0<br># of Refineries=4.0<br>Total Vehicles=3744178\", \"Oregon<br>Gas Price=2.537<br>GDP per Capita=56956.0<br># of Refineries=0.0<br>Total Vehicles=4103451\", \"Pennsylvania<br>Gas Price=2.311<br>GDP per Capita=61594.0<br># of Refineries=6.0<br>Total Vehicles=10689206\", \"Rhode Island<br>Gas Price=2.036<br>GDP per Capita=57852.0<br># of Refineries=0.0<br>Total Vehicles=872814\", \"South Carolina<br>Gas Price=1.831<br>GDP per Capita=45280.0<br># of Refineries=0.0<br>Total Vehicles=4404100\", \"South Dakota<br>Gas Price=1.979<br>GDP per Capita=58624.0<br># of Refineries=0.0<br>Total Vehicles=1258356\", \"Tennessee<br>Gas Price=1.858<br>GDP per Capita=53933.0<br># of Refineries=1.0<br>Total Vehicles=5800489\", \"Texas<br>Gas Price=1.797<br>GDP per Capita=61167.0<br># of Refineries=21.0<br>Total Vehicles=22130765\", \"Utah<br>Gas Price=2.288<br>GDP per Capita=55550.0<br># of Refineries=3.0<br>Total Vehicles=2355773\", \"Virginia<br>Gas Price=1.853<br>GDP per Capita=62563.0<br># of Refineries=0.0<br>Total Vehicles=7514484\", \"Vermont<br>Gas Price=2.046<br>GDP per Capita=53523.0<br># of Refineries=0.0<br>Total Vehicles=621608\", \"Washington<br>Gas Price=2.623<br>GDP per Capita=74182.0<br># of Refineries=5.0<br>Total Vehicles=7256196\", \"Wisconsin<br>Gas Price=2.04<br>GDP per Capita=57720.0<br># of Refineries=1.0<br>Total Vehicles=5596635\", \"West Virginia<br>Gas Price=2.028<br>GDP per Capita=43053.0<br># of Refineries=1.0<br>Total Vehicles=1691237\", \"Wyoming<br>Gas Price=2.037<br>GDP per Capita=69900.0<br># of Refineries=6.0<br>Total Vehicles=819257\"], \"type\": \"choropleth\", \"z\": [2.388, 1.779, 1.78, 2.264, 2.977, 2.283, 2.056, 2.178, 1.991, 2.008, 1.855, 3.201, 2.033, 2.297, 2.307, 2.095, 1.863, 1.984, 1.743, 2.04, 2.103, 2.054, 2.089, 2.005, 1.837, 1.713, 2.007, 1.965, 1.974, 1.971, 2.016, 2.085, 1.969, 2.519, 2.218, 2.034, 1.807, 2.537, 2.311, 2.036, 1.831, 1.979, 1.858, 1.797, 2.288, 1.853, 2.046, 2.623, 2.04, 2.028, 2.037]}],\n",
       "                        {\"geo\": {\"scope\": \"usa\"}, \"template\": {\"data\": {\"bar\": [{\"error_x\": {\"color\": \"#2a3f5f\"}, \"error_y\": {\"color\": \"#2a3f5f\"}, \"marker\": {\"line\": {\"color\": \"#E5ECF6\", \"width\": 0.5}}, \"type\": \"bar\"}], \"barpolar\": [{\"marker\": {\"line\": {\"color\": \"#E5ECF6\", \"width\": 0.5}}, \"type\": \"barpolar\"}], \"carpet\": [{\"aaxis\": {\"endlinecolor\": \"#2a3f5f\", \"gridcolor\": \"white\", \"linecolor\": \"white\", \"minorgridcolor\": \"white\", \"startlinecolor\": \"#2a3f5f\"}, \"baxis\": {\"endlinecolor\": \"#2a3f5f\", \"gridcolor\": \"white\", \"linecolor\": \"white\", \"minorgridcolor\": \"white\", \"startlinecolor\": \"#2a3f5f\"}, \"type\": \"carpet\"}], \"choropleth\": [{\"colorbar\": {\"outlinewidth\": 0, \"ticks\": \"\"}, \"type\": \"choropleth\"}], \"contour\": [{\"colorbar\": {\"outlinewidth\": 0, \"ticks\": \"\"}, \"colorscale\": [[0.0, \"#0d0887\"], [0.1111111111111111, \"#46039f\"], [0.2222222222222222, \"#7201a8\"], [0.3333333333333333, \"#9c179e\"], [0.4444444444444444, \"#bd3786\"], [0.5555555555555556, \"#d8576b\"], [0.6666666666666666, \"#ed7953\"], [0.7777777777777778, \"#fb9f3a\"], [0.8888888888888888, \"#fdca26\"], [1.0, \"#f0f921\"]], \"type\": \"contour\"}], \"contourcarpet\": [{\"colorbar\": {\"outlinewidth\": 0, \"ticks\": \"\"}, \"type\": \"contourcarpet\"}], \"heatmap\": [{\"colorbar\": {\"outlinewidth\": 0, \"ticks\": \"\"}, \"colorscale\": [[0.0, \"#0d0887\"], [0.1111111111111111, \"#46039f\"], [0.2222222222222222, \"#7201a8\"], [0.3333333333333333, \"#9c179e\"], [0.4444444444444444, \"#bd3786\"], [0.5555555555555556, \"#d8576b\"], [0.6666666666666666, \"#ed7953\"], [0.7777777777777778, \"#fb9f3a\"], [0.8888888888888888, \"#fdca26\"], [1.0, \"#f0f921\"]], \"type\": \"heatmap\"}], \"heatmapgl\": [{\"colorbar\": {\"outlinewidth\": 0, \"ticks\": \"\"}, \"colorscale\": [[0.0, \"#0d0887\"], [0.1111111111111111, \"#46039f\"], [0.2222222222222222, \"#7201a8\"], [0.3333333333333333, \"#9c179e\"], [0.4444444444444444, \"#bd3786\"], [0.5555555555555556, \"#d8576b\"], [0.6666666666666666, \"#ed7953\"], [0.7777777777777778, \"#fb9f3a\"], [0.8888888888888888, \"#fdca26\"], [1.0, \"#f0f921\"]], \"type\": \"heatmapgl\"}], \"histogram\": [{\"marker\": {\"colorbar\": {\"outlinewidth\": 0, \"ticks\": \"\"}}, \"type\": \"histogram\"}], \"histogram2d\": [{\"colorbar\": {\"outlinewidth\": 0, \"ticks\": \"\"}, \"colorscale\": [[0.0, \"#0d0887\"], [0.1111111111111111, \"#46039f\"], [0.2222222222222222, \"#7201a8\"], [0.3333333333333333, \"#9c179e\"], [0.4444444444444444, \"#bd3786\"], [0.5555555555555556, \"#d8576b\"], [0.6666666666666666, \"#ed7953\"], [0.7777777777777778, \"#fb9f3a\"], [0.8888888888888888, \"#fdca26\"], [1.0, \"#f0f921\"]], \"type\": \"histogram2d\"}], \"histogram2dcontour\": [{\"colorbar\": {\"outlinewidth\": 0, \"ticks\": \"\"}, \"colorscale\": [[0.0, \"#0d0887\"], [0.1111111111111111, \"#46039f\"], [0.2222222222222222, \"#7201a8\"], [0.3333333333333333, \"#9c179e\"], [0.4444444444444444, \"#bd3786\"], [0.5555555555555556, \"#d8576b\"], [0.6666666666666666, \"#ed7953\"], [0.7777777777777778, \"#fb9f3a\"], [0.8888888888888888, \"#fdca26\"], [1.0, \"#f0f921\"]], \"type\": \"histogram2dcontour\"}], \"mesh3d\": [{\"colorbar\": {\"outlinewidth\": 0, \"ticks\": \"\"}, \"type\": \"mesh3d\"}], \"parcoords\": [{\"line\": {\"colorbar\": {\"outlinewidth\": 0, \"ticks\": \"\"}}, \"type\": \"parcoords\"}], \"pie\": [{\"automargin\": true, \"type\": \"pie\"}], \"scatter\": [{\"marker\": {\"colorbar\": {\"outlinewidth\": 0, \"ticks\": \"\"}}, \"type\": \"scatter\"}], \"scatter3d\": [{\"line\": {\"colorbar\": {\"outlinewidth\": 0, \"ticks\": \"\"}}, \"marker\": {\"colorbar\": {\"outlinewidth\": 0, \"ticks\": \"\"}}, \"type\": \"scatter3d\"}], \"scattercarpet\": [{\"marker\": {\"colorbar\": {\"outlinewidth\": 0, \"ticks\": \"\"}}, \"type\": \"scattercarpet\"}], \"scattergeo\": [{\"marker\": {\"colorbar\": {\"outlinewidth\": 0, \"ticks\": \"\"}}, \"type\": \"scattergeo\"}], \"scattergl\": [{\"marker\": {\"colorbar\": {\"outlinewidth\": 0, \"ticks\": \"\"}}, \"type\": \"scattergl\"}], \"scattermapbox\": [{\"marker\": {\"colorbar\": {\"outlinewidth\": 0, \"ticks\": \"\"}}, \"type\": \"scattermapbox\"}], \"scatterpolar\": [{\"marker\": {\"colorbar\": {\"outlinewidth\": 0, \"ticks\": \"\"}}, \"type\": \"scatterpolar\"}], \"scatterpolargl\": [{\"marker\": {\"colorbar\": {\"outlinewidth\": 0, \"ticks\": \"\"}}, \"type\": \"scatterpolargl\"}], \"scatterternary\": [{\"marker\": {\"colorbar\": {\"outlinewidth\": 0, \"ticks\": \"\"}}, \"type\": \"scatterternary\"}], \"surface\": [{\"colorbar\": {\"outlinewidth\": 0, \"ticks\": \"\"}, \"colorscale\": [[0.0, \"#0d0887\"], [0.1111111111111111, \"#46039f\"], [0.2222222222222222, \"#7201a8\"], [0.3333333333333333, \"#9c179e\"], [0.4444444444444444, \"#bd3786\"], [0.5555555555555556, \"#d8576b\"], [0.6666666666666666, \"#ed7953\"], [0.7777777777777778, \"#fb9f3a\"], [0.8888888888888888, \"#fdca26\"], [1.0, \"#f0f921\"]], \"type\": \"surface\"}], \"table\": [{\"cells\": {\"fill\": {\"color\": \"#EBF0F8\"}, \"line\": {\"color\": \"white\"}}, \"header\": {\"fill\": {\"color\": \"#C8D4E3\"}, \"line\": {\"color\": \"white\"}}, \"type\": \"table\"}]}, \"layout\": {\"annotationdefaults\": {\"arrowcolor\": \"#2a3f5f\", \"arrowhead\": 0, \"arrowwidth\": 1}, \"coloraxis\": {\"colorbar\": {\"outlinewidth\": 0, \"ticks\": \"\"}}, \"colorscale\": {\"diverging\": [[0, \"#8e0152\"], [0.1, \"#c51b7d\"], [0.2, \"#de77ae\"], [0.3, \"#f1b6da\"], [0.4, \"#fde0ef\"], [0.5, \"#f7f7f7\"], [0.6, \"#e6f5d0\"], [0.7, \"#b8e186\"], [0.8, \"#7fbc41\"], [0.9, \"#4d9221\"], [1, \"#276419\"]], \"sequential\": [[0.0, \"#0d0887\"], [0.1111111111111111, \"#46039f\"], [0.2222222222222222, \"#7201a8\"], [0.3333333333333333, \"#9c179e\"], [0.4444444444444444, \"#bd3786\"], [0.5555555555555556, \"#d8576b\"], [0.6666666666666666, \"#ed7953\"], [0.7777777777777778, \"#fb9f3a\"], [0.8888888888888888, \"#fdca26\"], [1.0, \"#f0f921\"]], \"sequentialminus\": [[0.0, \"#0d0887\"], [0.1111111111111111, \"#46039f\"], [0.2222222222222222, \"#7201a8\"], [0.3333333333333333, \"#9c179e\"], [0.4444444444444444, \"#bd3786\"], [0.5555555555555556, \"#d8576b\"], [0.6666666666666666, \"#ed7953\"], [0.7777777777777778, \"#fb9f3a\"], [0.8888888888888888, \"#fdca26\"], [1.0, \"#f0f921\"]]}, \"colorway\": [\"#636efa\", \"#EF553B\", \"#00cc96\", \"#ab63fa\", \"#FFA15A\", \"#19d3f3\", \"#FF6692\", \"#B6E880\", \"#FF97FF\", \"#FECB52\"], \"font\": {\"color\": \"#2a3f5f\"}, \"geo\": {\"bgcolor\": \"white\", \"lakecolor\": \"white\", \"landcolor\": \"#E5ECF6\", \"showlakes\": true, \"showland\": true, \"subunitcolor\": \"white\"}, \"hoverlabel\": {\"align\": \"left\"}, \"hovermode\": \"closest\", \"mapbox\": {\"style\": \"light\"}, \"paper_bgcolor\": \"white\", \"plot_bgcolor\": \"#E5ECF6\", \"polar\": {\"angularaxis\": {\"gridcolor\": \"white\", \"linecolor\": \"white\", \"ticks\": \"\"}, \"bgcolor\": \"#E5ECF6\", \"radialaxis\": {\"gridcolor\": \"white\", \"linecolor\": \"white\", \"ticks\": \"\"}}, \"scene\": {\"xaxis\": {\"backgroundcolor\": \"#E5ECF6\", \"gridcolor\": \"white\", \"gridwidth\": 2, \"linecolor\": \"white\", \"showbackground\": true, \"ticks\": \"\", \"zerolinecolor\": \"white\"}, \"yaxis\": {\"backgroundcolor\": \"#E5ECF6\", \"gridcolor\": \"white\", \"gridwidth\": 2, \"linecolor\": \"white\", \"showbackground\": true, \"ticks\": \"\", \"zerolinecolor\": \"white\"}, \"zaxis\": {\"backgroundcolor\": \"#E5ECF6\", \"gridcolor\": \"white\", \"gridwidth\": 2, \"linecolor\": \"white\", \"showbackground\": true, \"ticks\": \"\", \"zerolinecolor\": \"white\"}}, \"shapedefaults\": {\"line\": {\"color\": \"#2a3f5f\"}}, \"ternary\": {\"aaxis\": {\"gridcolor\": \"white\", \"linecolor\": \"white\", \"ticks\": \"\"}, \"baxis\": {\"gridcolor\": \"white\", \"linecolor\": \"white\", \"ticks\": \"\"}, \"bgcolor\": \"#E5ECF6\", \"caxis\": {\"gridcolor\": \"white\", \"linecolor\": \"white\", \"ticks\": \"\"}}, \"title\": {\"x\": 0.05}, \"xaxis\": {\"automargin\": true, \"gridcolor\": \"white\", \"linecolor\": \"white\", \"ticks\": \"\", \"title\": {\"standoff\": 15}, \"zerolinecolor\": \"white\", \"zerolinewidth\": 2}, \"yaxis\": {\"automargin\": true, \"gridcolor\": \"white\", \"linecolor\": \"white\", \"ticks\": \"\", \"title\": {\"standoff\": 15}, \"zerolinecolor\": \"white\", \"zerolinewidth\": 2}}}, \"title\": {\"text\": \"2021 Gas Price by State\"}},\n",
       "                        {\"responsive\": true}\n",
       "                    ).then(function(){\n",
       "                            \n",
       "var gd = document.getElementById('158c75fb-559e-4d70-93f2-ddf1150ef7f4');\n",
       "var x = new MutationObserver(function (mutations, observer) {{\n",
       "        var display = window.getComputedStyle(gd).display;\n",
       "        if (!display || display === 'none') {{\n",
       "            console.log([gd, 'removed!']);\n",
       "            Plotly.purge(gd);\n",
       "            observer.disconnect();\n",
       "        }}\n",
       "}});\n",
       "\n",
       "// Listen for the removal of the full notebook cells\n",
       "var notebookContainer = gd.closest('#notebook-container');\n",
       "if (notebookContainer) {{\n",
       "    x.observe(notebookContainer, {childList: true});\n",
       "}}\n",
       "\n",
       "// Listen for the clearing of the current output cell\n",
       "var outputEl = gd.closest('.output');\n",
       "if (outputEl) {{\n",
       "    x.observe(outputEl, {childList: true});\n",
       "}}\n",
       "\n",
       "                        })\n",
       "                };\n",
       "                });\n",
       "            </script>\n",
       "        </div>"
      ]
     },
     "metadata": {},
     "output_type": "display_data"
    },
    {
     "data": {
      "text/html": [
       "<div>\n",
       "<style scoped>\n",
       "    .dataframe tbody tr th:only-of-type {\n",
       "        vertical-align: middle;\n",
       "    }\n",
       "\n",
       "    .dataframe tbody tr th {\n",
       "        vertical-align: top;\n",
       "    }\n",
       "\n",
       "    .dataframe thead th {\n",
       "        text-align: right;\n",
       "    }\n",
       "</style>\n",
       "<table border=\"1\" class=\"dataframe\">\n",
       "  <thead>\n",
       "    <tr style=\"text-align: right;\">\n",
       "      <th></th>\n",
       "      <th>Unnamed: 0</th>\n",
       "      <th>State</th>\n",
       "      <th>Gas</th>\n",
       "      <th>MidGrade</th>\n",
       "      <th>Premium</th>\n",
       "      <th>Diesel</th>\n",
       "      <th>State Code</th>\n",
       "      <th>State Latitude</th>\n",
       "      <th>State Longitude</th>\n",
       "      <th>GDP per capita</th>\n",
       "      <th>...</th>\n",
       "      <th>PUBLIC BUSES</th>\n",
       "      <th>TOTAL BUSES</th>\n",
       "      <th>PRIVATE AND COMMERCIAL TRUCKS</th>\n",
       "      <th>PUBLIC TRUCKS</th>\n",
       "      <th>TOTAL TRUCKS</th>\n",
       "      <th>PRIVATE AND COMMERCIAL MOTORCYCLES</th>\n",
       "      <th>PUBLIC MOTORCYCLES</th>\n",
       "      <th>TOTAL MOTORCYCLES</th>\n",
       "      <th>TOTAL MOTOR VEHICLES</th>\n",
       "      <th>text</th>\n",
       "    </tr>\n",
       "  </thead>\n",
       "  <tbody>\n",
       "    <tr>\n",
       "      <th>0</th>\n",
       "      <td>0</td>\n",
       "      <td>Alaska</td>\n",
       "      <td>2.388</td>\n",
       "      <td>2.503</td>\n",
       "      <td>2.645</td>\n",
       "      <td>2.385</td>\n",
       "      <td>AK</td>\n",
       "      <td>64.201</td>\n",
       "      <td>-149.494</td>\n",
       "      <td>73205.0</td>\n",
       "      <td>...</td>\n",
       "      <td>584</td>\n",
       "      <td>8080</td>\n",
       "      <td>573399</td>\n",
       "      <td>17680</td>\n",
       "      <td>591079</td>\n",
       "      <td>31852</td>\n",
       "      <td>7</td>\n",
       "      <td>31859</td>\n",
       "      <td>804505</td>\n",
       "      <td>Alaska&lt;br&gt;Gas Price=2.388&lt;br&gt;GDP per Capita=73...</td>\n",
       "    </tr>\n",
       "    <tr>\n",
       "      <th>1</th>\n",
       "      <td>1</td>\n",
       "      <td>Alabama</td>\n",
       "      <td>1.779</td>\n",
       "      <td>2.104</td>\n",
       "      <td>2.43</td>\n",
       "      <td>2.279</td>\n",
       "      <td>AL</td>\n",
       "      <td>32.318</td>\n",
       "      <td>-86.902</td>\n",
       "      <td>45219.0</td>\n",
       "      <td>...</td>\n",
       "      <td>132</td>\n",
       "      <td>5682</td>\n",
       "      <td>2806624</td>\n",
       "      <td>66119</td>\n",
       "      <td>2872743</td>\n",
       "      <td>111247</td>\n",
       "      <td>938</td>\n",
       "      <td>112185</td>\n",
       "      <td>5056073</td>\n",
       "      <td>Alabama&lt;br&gt;Gas Price=1.779&lt;br&gt;GDP per Capita=4...</td>\n",
       "    </tr>\n",
       "    <tr>\n",
       "      <th>2</th>\n",
       "      <td>2</td>\n",
       "      <td>Arkansas</td>\n",
       "      <td>1.78</td>\n",
       "      <td>2.055</td>\n",
       "      <td>2.342</td>\n",
       "      <td>2.123</td>\n",
       "      <td>AR</td>\n",
       "      <td>35.201</td>\n",
       "      <td>-91.832</td>\n",
       "      <td>42454.0</td>\n",
       "      <td>...</td>\n",
       "      <td>712</td>\n",
       "      <td>11941</td>\n",
       "      <td>1778174</td>\n",
       "      <td>27336</td>\n",
       "      <td>1805510</td>\n",
       "      <td>89457</td>\n",
       "      <td>—</td>\n",
       "      <td>89457</td>\n",
       "      <td>2833697</td>\n",
       "      <td>Arkansas&lt;br&gt;Gas Price=1.78&lt;br&gt;GDP per Capita=4...</td>\n",
       "    </tr>\n",
       "    <tr>\n",
       "      <th>3</th>\n",
       "      <td>3</td>\n",
       "      <td>Arizona</td>\n",
       "      <td>2.264</td>\n",
       "      <td>2.539</td>\n",
       "      <td>2.792</td>\n",
       "      <td>2.504</td>\n",
       "      <td>AZ</td>\n",
       "      <td>34.049</td>\n",
       "      <td>-111.094</td>\n",
       "      <td>48055.0</td>\n",
       "      <td>...</td>\n",
       "      <td>7543</td>\n",
       "      <td>9051</td>\n",
       "      <td>3356363</td>\n",
       "      <td>43341</td>\n",
       "      <td>3399704</td>\n",
       "      <td>164053</td>\n",
       "      <td>2</td>\n",
       "      <td>164055</td>\n",
       "      <td>5964434</td>\n",
       "      <td>Arizona&lt;br&gt;Gas Price=2.264&lt;br&gt;GDP per Capita=4...</td>\n",
       "    </tr>\n",
       "    <tr>\n",
       "      <th>4</th>\n",
       "      <td>4</td>\n",
       "      <td>California</td>\n",
       "      <td>2.977</td>\n",
       "      <td>3.15</td>\n",
       "      <td>3.265</td>\n",
       "      <td>3.283</td>\n",
       "      <td>CA</td>\n",
       "      <td>36.778</td>\n",
       "      <td>-119.418</td>\n",
       "      <td>74205.0</td>\n",
       "      <td>...</td>\n",
       "      <td>64664</td>\n",
       "      <td>99917</td>\n",
       "      <td>14693888</td>\n",
       "      <td>297826</td>\n",
       "      <td>14991714</td>\n",
       "      <td>828083</td>\n",
       "      <td>14460</td>\n",
       "      <td>842543</td>\n",
       "      <td>30795141</td>\n",
       "      <td>California&lt;br&gt;Gas Price=2.977&lt;br&gt;GDP per Capit...</td>\n",
       "    </tr>\n",
       "    <tr>\n",
       "      <th>5</th>\n",
       "      <td>5</td>\n",
       "      <td>Colorado</td>\n",
       "      <td>2.283</td>\n",
       "      <td>2.585</td>\n",
       "      <td>2.853</td>\n",
       "      <td>2.279</td>\n",
       "      <td>CO</td>\n",
       "      <td>39.55</td>\n",
       "      <td>-105.782</td>\n",
       "      <td>63882.0</td>\n",
       "      <td>...</td>\n",
       "      <td>7307</td>\n",
       "      <td>13305</td>\n",
       "      <td>3231050</td>\n",
       "      <td>40545</td>\n",
       "      <td>3271595</td>\n",
       "      <td>190002</td>\n",
       "      <td>—</td>\n",
       "      <td>190002</td>\n",
       "      <td>5259960</td>\n",
       "      <td>Colorado&lt;br&gt;Gas Price=2.283&lt;br&gt;GDP per Capita=...</td>\n",
       "    </tr>\n",
       "    <tr>\n",
       "      <th>6</th>\n",
       "      <td>6</td>\n",
       "      <td>Connecticut</td>\n",
       "      <td>2.056</td>\n",
       "      <td>2.425</td>\n",
       "      <td>2.651</td>\n",
       "      <td>2.729</td>\n",
       "      <td>CT</td>\n",
       "      <td>41.603</td>\n",
       "      <td>-73.088</td>\n",
       "      <td>76342.0</td>\n",
       "      <td>...</td>\n",
       "      <td>36</td>\n",
       "      <td>11378</td>\n",
       "      <td>1417371</td>\n",
       "      <td>5131</td>\n",
       "      <td>1422502</td>\n",
       "      <td>90111</td>\n",
       "      <td>20</td>\n",
       "      <td>90131</td>\n",
       "      <td>2826350</td>\n",
       "      <td>Connecticut&lt;br&gt;Gas Price=2.056&lt;br&gt;GDP per Capi...</td>\n",
       "    </tr>\n",
       "    <tr>\n",
       "      <th>7</th>\n",
       "      <td>7</td>\n",
       "      <td>District of Columbia</td>\n",
       "      <td>2.178</td>\n",
       "      <td>2.698</td>\n",
       "      <td>2.825</td>\n",
       "      <td>2.813</td>\n",
       "      <td>DC</td>\n",
       "      <td>38.907</td>\n",
       "      <td>-77.037</td>\n",
       "      <td>200277.0</td>\n",
       "      <td>...</td>\n",
       "      <td>3883</td>\n",
       "      <td>4885</td>\n",
       "      <td>113857</td>\n",
       "      <td>14843</td>\n",
       "      <td>128700</td>\n",
       "      <td>3897</td>\n",
       "      <td>393</td>\n",
       "      <td>4290</td>\n",
       "      <td>346016</td>\n",
       "      <td>District of Columbia&lt;br&gt;Gas Price=2.178&lt;br&gt;GDP...</td>\n",
       "    </tr>\n",
       "    <tr>\n",
       "      <th>8</th>\n",
       "      <td>8</td>\n",
       "      <td>Delaware</td>\n",
       "      <td>1.991</td>\n",
       "      <td>2.387</td>\n",
       "      <td>2.597</td>\n",
       "      <td>2.305</td>\n",
       "      <td>DE</td>\n",
       "      <td>38.911</td>\n",
       "      <td>-75.528</td>\n",
       "      <td>77253.0</td>\n",
       "      <td>...</td>\n",
       "      <td>428</td>\n",
       "      <td>3763</td>\n",
       "      <td>516931</td>\n",
       "      <td>3030</td>\n",
       "      <td>519961</td>\n",
       "      <td>27810</td>\n",
       "      <td>—</td>\n",
       "      <td>27810</td>\n",
       "      <td>970733</td>\n",
       "      <td>Delaware&lt;br&gt;Gas Price=1.991&lt;br&gt;GDP per Capita=...</td>\n",
       "    </tr>\n",
       "    <tr>\n",
       "      <th>9</th>\n",
       "      <td>9</td>\n",
       "      <td>Florida</td>\n",
       "      <td>2.008</td>\n",
       "      <td>2.357</td>\n",
       "      <td>2.642</td>\n",
       "      <td>2.431</td>\n",
       "      <td>FL</td>\n",
       "      <td>27.665</td>\n",
       "      <td>-81.516</td>\n",
       "      <td>48318.0</td>\n",
       "      <td>...</td>\n",
       "      <td>34592</td>\n",
       "      <td>59596</td>\n",
       "      <td>8396619</td>\n",
       "      <td>138294</td>\n",
       "      <td>8534913</td>\n",
       "      <td>583685</td>\n",
       "      <td>2582</td>\n",
       "      <td>586267</td>\n",
       "      <td>16959269</td>\n",
       "      <td>Florida&lt;br&gt;Gas Price=2.008&lt;br&gt;GDP per Capita=4...</td>\n",
       "    </tr>\n",
       "    <tr>\n",
       "      <th>10</th>\n",
       "      <td>10</td>\n",
       "      <td>Georgia</td>\n",
       "      <td>1.855</td>\n",
       "      <td>2.166</td>\n",
       "      <td>2.467</td>\n",
       "      <td>2.487</td>\n",
       "      <td>GA</td>\n",
       "      <td>32.166</td>\n",
       "      <td>-82.9</td>\n",
       "      <td>55832.0</td>\n",
       "      <td>...</td>\n",
       "      <td>24254</td>\n",
       "      <td>36418</td>\n",
       "      <td>4583971</td>\n",
       "      <td>81959</td>\n",
       "      <td>4665930</td>\n",
       "      <td>203064</td>\n",
       "      <td>858</td>\n",
       "      <td>203922</td>\n",
       "      <td>8442325</td>\n",
       "      <td>Georgia&lt;br&gt;Gas Price=1.855&lt;br&gt;GDP per Capita=5...</td>\n",
       "    </tr>\n",
       "    <tr>\n",
       "      <th>11</th>\n",
       "      <td>11</td>\n",
       "      <td>Hawaii</td>\n",
       "      <td>3.201</td>\n",
       "      <td>3.358</td>\n",
       "      <td>3.57</td>\n",
       "      <td>4.012</td>\n",
       "      <td>HI</td>\n",
       "      <td>19.897</td>\n",
       "      <td>-155.583</td>\n",
       "      <td>64096.0</td>\n",
       "      <td>...</td>\n",
       "      <td>1288</td>\n",
       "      <td>3033</td>\n",
       "      <td>693360</td>\n",
       "      <td>15186</td>\n",
       "      <td>708546</td>\n",
       "      <td>35203</td>\n",
       "      <td>373</td>\n",
       "      <td>35576</td>\n",
       "      <td>1259541</td>\n",
       "      <td>Hawaii&lt;br&gt;Gas Price=3.201&lt;br&gt;GDP per Capita=64...</td>\n",
       "    </tr>\n",
       "    <tr>\n",
       "      <th>12</th>\n",
       "      <td>12</td>\n",
       "      <td>Iowa</td>\n",
       "      <td>2.033</td>\n",
       "      <td>2.16</td>\n",
       "      <td>2.572</td>\n",
       "      <td>2.162</td>\n",
       "      <td>IA</td>\n",
       "      <td>41.878</td>\n",
       "      <td>-93.098</td>\n",
       "      <td>59977.0</td>\n",
       "      <td>...</td>\n",
       "      <td>5339</td>\n",
       "      <td>9284</td>\n",
       "      <td>2253531</td>\n",
       "      <td>23663</td>\n",
       "      <td>2277194</td>\n",
       "      <td>194273</td>\n",
       "      <td>330</td>\n",
       "      <td>194603</td>\n",
       "      <td>3750077</td>\n",
       "      <td>Iowa&lt;br&gt;Gas Price=2.033&lt;br&gt;GDP per Capita=5997...</td>\n",
       "    </tr>\n",
       "    <tr>\n",
       "      <th>13</th>\n",
       "      <td>13</td>\n",
       "      <td>Idaho</td>\n",
       "      <td>2.297</td>\n",
       "      <td>2.47</td>\n",
       "      <td>2.665</td>\n",
       "      <td>2.336</td>\n",
       "      <td>ID</td>\n",
       "      <td>44.068</td>\n",
       "      <td>-114.742</td>\n",
       "      <td>43430.0</td>\n",
       "      <td>...</td>\n",
       "      <td>627</td>\n",
       "      <td>3870</td>\n",
       "      <td>1208288</td>\n",
       "      <td>10442</td>\n",
       "      <td>1218730</td>\n",
       "      <td>63266</td>\n",
       "      <td>31</td>\n",
       "      <td>63297</td>\n",
       "      <td>1835903</td>\n",
       "      <td>Idaho&lt;br&gt;Gas Price=2.297&lt;br&gt;GDP per Capita=434...</td>\n",
       "    </tr>\n",
       "    <tr>\n",
       "      <th>14</th>\n",
       "      <td>14</td>\n",
       "      <td>Illinois</td>\n",
       "      <td>2.307</td>\n",
       "      <td>2.645</td>\n",
       "      <td>3.032</td>\n",
       "      <td>2.405</td>\n",
       "      <td>IL</td>\n",
       "      <td>40.633</td>\n",
       "      <td>-89.399</td>\n",
       "      <td>67268.0</td>\n",
       "      <td>...</td>\n",
       "      <td>182</td>\n",
       "      <td>34359</td>\n",
       "      <td>5806097</td>\n",
       "      <td>60517</td>\n",
       "      <td>5866614</td>\n",
       "      <td>333943</td>\n",
       "      <td>—</td>\n",
       "      <td>333943</td>\n",
       "      <td>10890760</td>\n",
       "      <td>Illinois&lt;br&gt;Gas Price=2.307&lt;br&gt;GDP per Capita=...</td>\n",
       "    </tr>\n",
       "    <tr>\n",
       "      <th>15</th>\n",
       "      <td>15</td>\n",
       "      <td>Indiana</td>\n",
       "      <td>2.095</td>\n",
       "      <td>2.393</td>\n",
       "      <td>2.71</td>\n",
       "      <td>2.507</td>\n",
       "      <td>IN</td>\n",
       "      <td>40.267</td>\n",
       "      <td>-86.135</td>\n",
       "      <td>55172.0</td>\n",
       "      <td>...</td>\n",
       "      <td>13498</td>\n",
       "      <td>20725</td>\n",
       "      <td>3627258</td>\n",
       "      <td>10032</td>\n",
       "      <td>3637290</td>\n",
       "      <td>250579</td>\n",
       "      <td>—</td>\n",
       "      <td>250579</td>\n",
       "      <td>6170034</td>\n",
       "      <td>Indiana&lt;br&gt;Gas Price=2.095&lt;br&gt;GDP per Capita=5...</td>\n",
       "    </tr>\n",
       "    <tr>\n",
       "      <th>16</th>\n",
       "      <td>16</td>\n",
       "      <td>Kansas</td>\n",
       "      <td>1.863</td>\n",
       "      <td>2.106</td>\n",
       "      <td>2.341</td>\n",
       "      <td>2.066</td>\n",
       "      <td>KS</td>\n",
       "      <td>39.012</td>\n",
       "      <td>-98.484</td>\n",
       "      <td>56334.0</td>\n",
       "      <td>...</td>\n",
       "      <td>2267</td>\n",
       "      <td>6228</td>\n",
       "      <td>1618733</td>\n",
       "      <td>9761</td>\n",
       "      <td>1628494</td>\n",
       "      <td>95892</td>\n",
       "      <td>—</td>\n",
       "      <td>95892</td>\n",
       "      <td>2717873</td>\n",
       "      <td>Kansas&lt;br&gt;Gas Price=1.863&lt;br&gt;GDP per Capita=56...</td>\n",
       "    </tr>\n",
       "    <tr>\n",
       "      <th>17</th>\n",
       "      <td>17</td>\n",
       "      <td>Kentucky</td>\n",
       "      <td>1.984</td>\n",
       "      <td>2.303</td>\n",
       "      <td>2.613</td>\n",
       "      <td>2.33</td>\n",
       "      <td>KY</td>\n",
       "      <td>37.839</td>\n",
       "      <td>-84.27</td>\n",
       "      <td>46898.0</td>\n",
       "      <td>...</td>\n",
       "      <td>9353</td>\n",
       "      <td>10759</td>\n",
       "      <td>2439925</td>\n",
       "      <td>50273</td>\n",
       "      <td>2490198</td>\n",
       "      <td>101085</td>\n",
       "      <td>78</td>\n",
       "      <td>101163</td>\n",
       "      <td>4293205</td>\n",
       "      <td>Kentucky&lt;br&gt;Gas Price=1.984&lt;br&gt;GDP per Capita=...</td>\n",
       "    </tr>\n",
       "    <tr>\n",
       "      <th>18</th>\n",
       "      <td>18</td>\n",
       "      <td>Louisiana</td>\n",
       "      <td>1.743</td>\n",
       "      <td>2.048</td>\n",
       "      <td>2.346</td>\n",
       "      <td>2.247</td>\n",
       "      <td>LA</td>\n",
       "      <td>30.984</td>\n",
       "      <td>-91.962</td>\n",
       "      <td>53589.0</td>\n",
       "      <td>...</td>\n",
       "      <td>6977</td>\n",
       "      <td>29160</td>\n",
       "      <td>2320545</td>\n",
       "      <td>54007</td>\n",
       "      <td>2374552</td>\n",
       "      <td>113664</td>\n",
       "      <td>—</td>\n",
       "      <td>113664</td>\n",
       "      <td>3906812</td>\n",
       "      <td>Louisiana&lt;br&gt;Gas Price=1.743&lt;br&gt;GDP per Capita...</td>\n",
       "    </tr>\n",
       "    <tr>\n",
       "      <th>19</th>\n",
       "      <td>19</td>\n",
       "      <td>Massachusetts</td>\n",
       "      <td>2.04</td>\n",
       "      <td>2.389</td>\n",
       "      <td>2.598</td>\n",
       "      <td>2.63</td>\n",
       "      <td>MA</td>\n",
       "      <td>42.407</td>\n",
       "      <td>-71.382</td>\n",
       "      <td>82480.0</td>\n",
       "      <td>...</td>\n",
       "      <td>243</td>\n",
       "      <td>13498</td>\n",
       "      <td>2662640</td>\n",
       "      <td>11684</td>\n",
       "      <td>2674324</td>\n",
       "      <td>168931</td>\n",
       "      <td>—</td>\n",
       "      <td>168931</td>\n",
       "      <td>5065221</td>\n",
       "      <td>Massachusetts&lt;br&gt;Gas Price=2.04&lt;br&gt;GDP per Cap...</td>\n",
       "    </tr>\n",
       "    <tr>\n",
       "      <th>20</th>\n",
       "      <td>20</td>\n",
       "      <td>Maryland</td>\n",
       "      <td>2.103</td>\n",
       "      <td>2.531</td>\n",
       "      <td>2.764</td>\n",
       "      <td>2.389</td>\n",
       "      <td>MD</td>\n",
       "      <td>39.046</td>\n",
       "      <td>-76.641</td>\n",
       "      <td>68573.0</td>\n",
       "      <td>...</td>\n",
       "      <td>7739</td>\n",
       "      <td>22972</td>\n",
       "      <td>2167715</td>\n",
       "      <td>41730</td>\n",
       "      <td>2209445</td>\n",
       "      <td>118201</td>\n",
       "      <td>76</td>\n",
       "      <td>118277</td>\n",
       "      <td>4357598</td>\n",
       "      <td>Maryland&lt;br&gt;Gas Price=2.103&lt;br&gt;GDP per Capita=...</td>\n",
       "    </tr>\n",
       "    <tr>\n",
       "      <th>21</th>\n",
       "      <td>21</td>\n",
       "      <td>Maine</td>\n",
       "      <td>2.054</td>\n",
       "      <td>2.379</td>\n",
       "      <td>2.638</td>\n",
       "      <td>2.524</td>\n",
       "      <td>ME</td>\n",
       "      <td>45.254</td>\n",
       "      <td>-69.445</td>\n",
       "      <td>47969.0</td>\n",
       "      <td>...</td>\n",
       "      <td>3026</td>\n",
       "      <td>4339</td>\n",
       "      <td>643010</td>\n",
       "      <td>8339</td>\n",
       "      <td>651349</td>\n",
       "      <td>51466</td>\n",
       "      <td>1</td>\n",
       "      <td>51467</td>\n",
       "      <td>1094388</td>\n",
       "      <td>Maine&lt;br&gt;Gas Price=2.054&lt;br&gt;GDP per Capita=479...</td>\n",
       "    </tr>\n",
       "    <tr>\n",
       "      <th>22</th>\n",
       "      <td>22</td>\n",
       "      <td>Michigan</td>\n",
       "      <td>2.089</td>\n",
       "      <td>2.395</td>\n",
       "      <td>2.724</td>\n",
       "      <td>2.445</td>\n",
       "      <td>MI</td>\n",
       "      <td>44.315</td>\n",
       "      <td>-85.602</td>\n",
       "      <td>53209.0</td>\n",
       "      <td>...</td>\n",
       "      <td>5340</td>\n",
       "      <td>8737</td>\n",
       "      <td>4947020</td>\n",
       "      <td>46380</td>\n",
       "      <td>4993400</td>\n",
       "      <td>258487</td>\n",
       "      <td>—</td>\n",
       "      <td>258487</td>\n",
       "      <td>8518097</td>\n",
       "      <td>Michigan&lt;br&gt;Gas Price=2.089&lt;br&gt;GDP per Capita=...</td>\n",
       "    </tr>\n",
       "    <tr>\n",
       "      <th>23</th>\n",
       "      <td>23</td>\n",
       "      <td>Minnesota</td>\n",
       "      <td>2.005</td>\n",
       "      <td>2.206</td>\n",
       "      <td>2.524</td>\n",
       "      <td>2.323</td>\n",
       "      <td>MN</td>\n",
       "      <td>46.73</td>\n",
       "      <td>-94.686</td>\n",
       "      <td>64675.0</td>\n",
       "      <td>...</td>\n",
       "      <td>5642</td>\n",
       "      <td>19980</td>\n",
       "      <td>3243782</td>\n",
       "      <td>31148</td>\n",
       "      <td>3274930</td>\n",
       "      <td>241556</td>\n",
       "      <td>—</td>\n",
       "      <td>241556</td>\n",
       "      <td>5682653</td>\n",
       "      <td>Minnesota&lt;br&gt;Gas Price=2.005&lt;br&gt;GDP per Capita...</td>\n",
       "    </tr>\n",
       "    <tr>\n",
       "      <th>24</th>\n",
       "      <td>24</td>\n",
       "      <td>Missouri</td>\n",
       "      <td>1.837</td>\n",
       "      <td>2.063</td>\n",
       "      <td>2.325</td>\n",
       "      <td>2.007</td>\n",
       "      <td>MO</td>\n",
       "      <td>37.964</td>\n",
       "      <td>-91.832</td>\n",
       "      <td>51699.0</td>\n",
       "      <td>...</td>\n",
       "      <td>123</td>\n",
       "      <td>27180</td>\n",
       "      <td>3227854</td>\n",
       "      <td>34358</td>\n",
       "      <td>3262212</td>\n",
       "      <td>138294</td>\n",
       "      <td>—</td>\n",
       "      <td>138294</td>\n",
       "      <td>5568736</td>\n",
       "      <td>Missouri&lt;br&gt;Gas Price=1.837&lt;br&gt;GDP per Capita=...</td>\n",
       "    </tr>\n",
       "    <tr>\n",
       "      <th>25</th>\n",
       "      <td>25</td>\n",
       "      <td>Mississippi</td>\n",
       "      <td>1.713</td>\n",
       "      <td>2.0</td>\n",
       "      <td>2.323</td>\n",
       "      <td>2.113</td>\n",
       "      <td>MS</td>\n",
       "      <td>32.355</td>\n",
       "      <td>-89.399</td>\n",
       "      <td>37948.0</td>\n",
       "      <td>...</td>\n",
       "      <td>5995</td>\n",
       "      <td>8018</td>\n",
       "      <td>1190809</td>\n",
       "      <td>7661</td>\n",
       "      <td>1198470</td>\n",
       "      <td>28124</td>\n",
       "      <td>—</td>\n",
       "      <td>28124</td>\n",
       "      <td>2057476</td>\n",
       "      <td>Mississippi&lt;br&gt;Gas Price=1.713&lt;br&gt;GDP per Capi...</td>\n",
       "    </tr>\n",
       "    <tr>\n",
       "      <th>26</th>\n",
       "      <td>26</td>\n",
       "      <td>Montana</td>\n",
       "      <td>2.007</td>\n",
       "      <td>2.222</td>\n",
       "      <td>2.471</td>\n",
       "      <td>2.171</td>\n",
       "      <td>MT</td>\n",
       "      <td>46.88</td>\n",
       "      <td>-110.363</td>\n",
       "      <td>46609.0</td>\n",
       "      <td>...</td>\n",
       "      <td>164</td>\n",
       "      <td>4702</td>\n",
       "      <td>1104946</td>\n",
       "      <td>6223</td>\n",
       "      <td>1111169</td>\n",
       "      <td>256587</td>\n",
       "      <td>4</td>\n",
       "      <td>306655</td>\n",
       "      <td>1863918</td>\n",
       "      <td>Montana&lt;br&gt;Gas Price=2.007&lt;br&gt;GDP per Capita=4...</td>\n",
       "    </tr>\n",
       "    <tr>\n",
       "      <th>27</th>\n",
       "      <td>27</td>\n",
       "      <td>North Carolina</td>\n",
       "      <td>1.965</td>\n",
       "      <td>2.283</td>\n",
       "      <td>2.599</td>\n",
       "      <td>2.423</td>\n",
       "      <td>NC</td>\n",
       "      <td>35.76</td>\n",
       "      <td>-79.019</td>\n",
       "      <td>54441.0</td>\n",
       "      <td>...</td>\n",
       "      <td>20840</td>\n",
       "      <td>32493</td>\n",
       "      <td>4458666</td>\n",
       "      <td>72797</td>\n",
       "      <td>4531463</td>\n",
       "      <td>188580</td>\n",
       "      <td>263</td>\n",
       "      <td>188843</td>\n",
       "      <td>8070717</td>\n",
       "      <td>North Carolina&lt;br&gt;Gas Price=1.965&lt;br&gt;GDP per C...</td>\n",
       "    </tr>\n",
       "    <tr>\n",
       "      <th>28</th>\n",
       "      <td>28</td>\n",
       "      <td>North Dakota</td>\n",
       "      <td>1.974</td>\n",
       "      <td>2.175</td>\n",
       "      <td>2.39</td>\n",
       "      <td>2.06</td>\n",
       "      <td>ND</td>\n",
       "      <td>47.551</td>\n",
       "      <td>-101.002</td>\n",
       "      <td>72597.0</td>\n",
       "      <td>...</td>\n",
       "      <td>1874</td>\n",
       "      <td>3331</td>\n",
       "      <td>711318</td>\n",
       "      <td>13623</td>\n",
       "      <td>724941</td>\n",
       "      <td>51927</td>\n",
       "      <td>14</td>\n",
       "      <td>51941</td>\n",
       "      <td>1056758</td>\n",
       "      <td>North Dakota&lt;br&gt;Gas Price=1.974&lt;br&gt;GDP per Cap...</td>\n",
       "    </tr>\n",
       "    <tr>\n",
       "      <th>29</th>\n",
       "      <td>29</td>\n",
       "      <td>Nebraska</td>\n",
       "      <td>1.971</td>\n",
       "      <td>2.064</td>\n",
       "      <td>2.402</td>\n",
       "      <td>2.156</td>\n",
       "      <td>NE</td>\n",
       "      <td>41.493</td>\n",
       "      <td>-99.902</td>\n",
       "      <td>63942.0</td>\n",
       "      <td>...</td>\n",
       "      <td>38</td>\n",
       "      <td>13564</td>\n",
       "      <td>1190469</td>\n",
       "      <td>28296</td>\n",
       "      <td>1218765</td>\n",
       "      <td>55716</td>\n",
       "      <td>20</td>\n",
       "      <td>55736</td>\n",
       "      <td>1965105</td>\n",
       "      <td>Nebraska&lt;br&gt;Gas Price=1.971&lt;br&gt;GDP per Capita=...</td>\n",
       "    </tr>\n",
       "    <tr>\n",
       "      <th>30</th>\n",
       "      <td>30</td>\n",
       "      <td>New Hampshire</td>\n",
       "      <td>2.016</td>\n",
       "      <td>2.397</td>\n",
       "      <td>2.643</td>\n",
       "      <td>2.526</td>\n",
       "      <td>NH</td>\n",
       "      <td>43.194</td>\n",
       "      <td>-71.572</td>\n",
       "      <td>63067.0</td>\n",
       "      <td>...</td>\n",
       "      <td>2305</td>\n",
       "      <td>2871</td>\n",
       "      <td>726620</td>\n",
       "      <td>5447</td>\n",
       "      <td>732067</td>\n",
       "      <td>78702</td>\n",
       "      <td>96</td>\n",
       "      <td>78798</td>\n",
       "      <td>1319117</td>\n",
       "      <td>New Hampshire&lt;br&gt;Gas Price=2.016&lt;br&gt;GDP per Ca...</td>\n",
       "    </tr>\n",
       "    <tr>\n",
       "      <th>31</th>\n",
       "      <td>31</td>\n",
       "      <td>New Jersey</td>\n",
       "      <td>2.085</td>\n",
       "      <td>2.473</td>\n",
       "      <td>2.663</td>\n",
       "      <td>2.524</td>\n",
       "      <td>NJ</td>\n",
       "      <td>40.058</td>\n",
       "      <td>-74.406</td>\n",
       "      <td>69378.0</td>\n",
       "      <td>...</td>\n",
       "      <td>2230</td>\n",
       "      <td>25097</td>\n",
       "      <td>3045425</td>\n",
       "      <td>35511</td>\n",
       "      <td>3080936</td>\n",
       "      <td>152979</td>\n",
       "      <td>—</td>\n",
       "      <td>152979</td>\n",
       "      <td>6057711</td>\n",
       "      <td>New Jersey&lt;br&gt;Gas Price=2.085&lt;br&gt;GDP per Capit...</td>\n",
       "    </tr>\n",
       "    <tr>\n",
       "      <th>32</th>\n",
       "      <td>32</td>\n",
       "      <td>New Mexico</td>\n",
       "      <td>1.969</td>\n",
       "      <td>2.263</td>\n",
       "      <td>2.507</td>\n",
       "      <td>2.373</td>\n",
       "      <td>NM</td>\n",
       "      <td>34.52</td>\n",
       "      <td>-105.87</td>\n",
       "      <td>46954.0</td>\n",
       "      <td>...</td>\n",
       "      <td>207</td>\n",
       "      <td>6278</td>\n",
       "      <td>1043650</td>\n",
       "      <td>22862</td>\n",
       "      <td>1066512</td>\n",
       "      <td>57718</td>\n",
       "      <td>—</td>\n",
       "      <td>57718</td>\n",
       "      <td>1740002</td>\n",
       "      <td>New Mexico&lt;br&gt;Gas Price=1.969&lt;br&gt;GDP per Capit...</td>\n",
       "    </tr>\n",
       "    <tr>\n",
       "      <th>33</th>\n",
       "      <td>33</td>\n",
       "      <td>Nevada</td>\n",
       "      <td>2.519</td>\n",
       "      <td>2.719</td>\n",
       "      <td>2.892</td>\n",
       "      <td>2.584</td>\n",
       "      <td>NV</td>\n",
       "      <td>38.803</td>\n",
       "      <td>-116.419</td>\n",
       "      <td>55269.0</td>\n",
       "      <td>...</td>\n",
       "      <td>2694</td>\n",
       "      <td>3198</td>\n",
       "      <td>1313087</td>\n",
       "      <td>15617</td>\n",
       "      <td>1328704</td>\n",
       "      <td>76027</td>\n",
       "      <td>5</td>\n",
       "      <td>76032</td>\n",
       "      <td>2455442</td>\n",
       "      <td>Nevada&lt;br&gt;Gas Price=2.519&lt;br&gt;GDP per Capita=55...</td>\n",
       "    </tr>\n",
       "    <tr>\n",
       "      <th>34</th>\n",
       "      <td>34</td>\n",
       "      <td>New York</td>\n",
       "      <td>2.218</td>\n",
       "      <td>2.551</td>\n",
       "      <td>2.772</td>\n",
       "      <td>2.837</td>\n",
       "      <td>NY</td>\n",
       "      <td>40.713</td>\n",
       "      <td>-74.006</td>\n",
       "      <td>85746.0</td>\n",
       "      <td>...</td>\n",
       "      <td>5807</td>\n",
       "      <td>80446</td>\n",
       "      <td>5780052</td>\n",
       "      <td>41744</td>\n",
       "      <td>5821796</td>\n",
       "      <td>392176</td>\n",
       "      <td>2</td>\n",
       "      <td>392178</td>\n",
       "      <td>10857455</td>\n",
       "      <td>New York&lt;br&gt;Gas Price=2.218&lt;br&gt;GDP per Capita=...</td>\n",
       "    </tr>\n",
       "    <tr>\n",
       "      <th>35</th>\n",
       "      <td>35</td>\n",
       "      <td>Ohio</td>\n",
       "      <td>2.034</td>\n",
       "      <td>2.349</td>\n",
       "      <td>2.68</td>\n",
       "      <td>2.445</td>\n",
       "      <td>OH</td>\n",
       "      <td>40.417</td>\n",
       "      <td>-82.907</td>\n",
       "      <td>57492.0</td>\n",
       "      <td>...</td>\n",
       "      <td>6556</td>\n",
       "      <td>41255</td>\n",
       "      <td>5686290</td>\n",
       "      <td>66056</td>\n",
       "      <td>5752346</td>\n",
       "      <td>410165</td>\n",
       "      <td>22</td>\n",
       "      <td>410187</td>\n",
       "      <td>10809247</td>\n",
       "      <td>Ohio&lt;br&gt;Gas Price=2.034&lt;br&gt;GDP per Capita=5749...</td>\n",
       "    </tr>\n",
       "    <tr>\n",
       "      <th>36</th>\n",
       "      <td>36</td>\n",
       "      <td>Oklahoma</td>\n",
       "      <td>1.807</td>\n",
       "      <td>2.036</td>\n",
       "      <td>2.235</td>\n",
       "      <td>1.993</td>\n",
       "      <td>OK</td>\n",
       "      <td>35.468</td>\n",
       "      <td>-97.516</td>\n",
       "      <td>50613.0</td>\n",
       "      <td>...</td>\n",
       "      <td>1285</td>\n",
       "      <td>3155</td>\n",
       "      <td>2249920</td>\n",
       "      <td>17289</td>\n",
       "      <td>2267209</td>\n",
       "      <td>136189</td>\n",
       "      <td>1</td>\n",
       "      <td>136190</td>\n",
       "      <td>3744178</td>\n",
       "      <td>Oklahoma&lt;br&gt;Gas Price=1.807&lt;br&gt;GDP per Capita=...</td>\n",
       "    </tr>\n",
       "    <tr>\n",
       "      <th>37</th>\n",
       "      <td>37</td>\n",
       "      <td>Oregon</td>\n",
       "      <td>2.537</td>\n",
       "      <td>2.704</td>\n",
       "      <td>2.87</td>\n",
       "      <td>2.585</td>\n",
       "      <td>OR</td>\n",
       "      <td>43.804</td>\n",
       "      <td>-120.554</td>\n",
       "      <td>56956.0</td>\n",
       "      <td>...</td>\n",
       "      <td>9150</td>\n",
       "      <td>17691</td>\n",
       "      <td>2354242</td>\n",
       "      <td>46319</td>\n",
       "      <td>2400561</td>\n",
       "      <td>141987</td>\n",
       "      <td>751</td>\n",
       "      <td>142738</td>\n",
       "      <td>4103451</td>\n",
       "      <td>Oregon&lt;br&gt;Gas Price=2.537&lt;br&gt;GDP per Capita=56...</td>\n",
       "    </tr>\n",
       "    <tr>\n",
       "      <th>38</th>\n",
       "      <td>38</td>\n",
       "      <td>Pennsylvania</td>\n",
       "      <td>2.311</td>\n",
       "      <td>2.611</td>\n",
       "      <td>2.888</td>\n",
       "      <td>2.742</td>\n",
       "      <td>PA</td>\n",
       "      <td>41.203</td>\n",
       "      <td>-77.195</td>\n",
       "      <td>61594.0</td>\n",
       "      <td>...</td>\n",
       "      <td>2743</td>\n",
       "      <td>55935</td>\n",
       "      <td>5719230</td>\n",
       "      <td>73616</td>\n",
       "      <td>5792846</td>\n",
       "      <td>376390</td>\n",
       "      <td>768</td>\n",
       "      <td>377158</td>\n",
       "      <td>10689206</td>\n",
       "      <td>Pennsylvania&lt;br&gt;Gas Price=2.311&lt;br&gt;GDP per Cap...</td>\n",
       "    </tr>\n",
       "    <tr>\n",
       "      <th>39</th>\n",
       "      <td>39</td>\n",
       "      <td>Rhode Island</td>\n",
       "      <td>2.036</td>\n",
       "      <td>2.407</td>\n",
       "      <td>2.628</td>\n",
       "      <td>2.703</td>\n",
       "      <td>RI</td>\n",
       "      <td>41.58</td>\n",
       "      <td>-71.477</td>\n",
       "      <td>57852.0</td>\n",
       "      <td>...</td>\n",
       "      <td>401</td>\n",
       "      <td>2273</td>\n",
       "      <td>410744</td>\n",
       "      <td>8570</td>\n",
       "      <td>419314</td>\n",
       "      <td>30814</td>\n",
       "      <td>100</td>\n",
       "      <td>30914</td>\n",
       "      <td>872814</td>\n",
       "      <td>Rhode Island&lt;br&gt;Gas Price=2.036&lt;br&gt;GDP per Cap...</td>\n",
       "    </tr>\n",
       "    <tr>\n",
       "      <th>40</th>\n",
       "      <td>40</td>\n",
       "      <td>South Carolina</td>\n",
       "      <td>1.831</td>\n",
       "      <td>2.151</td>\n",
       "      <td>2.462</td>\n",
       "      <td>2.27</td>\n",
       "      <td>SC</td>\n",
       "      <td>33.836</td>\n",
       "      <td>-81.164</td>\n",
       "      <td>45280.0</td>\n",
       "      <td>...</td>\n",
       "      <td>12252</td>\n",
       "      <td>17728</td>\n",
       "      <td>2342149</td>\n",
       "      <td>117690</td>\n",
       "      <td>2459839</td>\n",
       "      <td>117660</td>\n",
       "      <td>472</td>\n",
       "      <td>118132</td>\n",
       "      <td>4404100</td>\n",
       "      <td>South Carolina&lt;br&gt;Gas Price=1.831&lt;br&gt;GDP per C...</td>\n",
       "    </tr>\n",
       "    <tr>\n",
       "      <th>41</th>\n",
       "      <td>41</td>\n",
       "      <td>South Dakota</td>\n",
       "      <td>1.979</td>\n",
       "      <td>2.06</td>\n",
       "      <td>2.364</td>\n",
       "      <td>2.16</td>\n",
       "      <td>SD</td>\n",
       "      <td>43.97</td>\n",
       "      <td>-99.902</td>\n",
       "      <td>58624.0</td>\n",
       "      <td>...</td>\n",
       "      <td>2614</td>\n",
       "      <td>2614</td>\n",
       "      <td>769748</td>\n",
       "      <td>15353</td>\n",
       "      <td>785101</td>\n",
       "      <td>116807</td>\n",
       "      <td>654</td>\n",
       "      <td>117461</td>\n",
       "      <td>1258356</td>\n",
       "      <td>South Dakota&lt;br&gt;Gas Price=1.979&lt;br&gt;GDP per Cap...</td>\n",
       "    </tr>\n",
       "    <tr>\n",
       "      <th>42</th>\n",
       "      <td>42</td>\n",
       "      <td>Tennessee</td>\n",
       "      <td>1.858</td>\n",
       "      <td>2.175</td>\n",
       "      <td>2.498</td>\n",
       "      <td>2.316</td>\n",
       "      <td>TN</td>\n",
       "      <td>35.517</td>\n",
       "      <td>-86.58</td>\n",
       "      <td>53933.0</td>\n",
       "      <td>...</td>\n",
       "      <td>26240</td>\n",
       "      <td>29158</td>\n",
       "      <td>3201416</td>\n",
       "      <td>78943</td>\n",
       "      <td>3280359</td>\n",
       "      <td>163619</td>\n",
       "      <td>2349</td>\n",
       "      <td>165968</td>\n",
       "      <td>5800489</td>\n",
       "      <td>Tennessee&lt;br&gt;Gas Price=1.858&lt;br&gt;GDP per Capita...</td>\n",
       "    </tr>\n",
       "    <tr>\n",
       "      <th>43</th>\n",
       "      <td>43</td>\n",
       "      <td>Texas</td>\n",
       "      <td>1.797</td>\n",
       "      <td>2.102</td>\n",
       "      <td>2.385</td>\n",
       "      <td>2.105</td>\n",
       "      <td>TX</td>\n",
       "      <td>31.969</td>\n",
       "      <td>-99.902</td>\n",
       "      <td>61167.0</td>\n",
       "      <td>...</td>\n",
       "      <td>48718</td>\n",
       "      <td>67143</td>\n",
       "      <td>13341345</td>\n",
       "      <td>180708</td>\n",
       "      <td>13522053</td>\n",
       "      <td>363764</td>\n",
       "      <td>926</td>\n",
       "      <td>364690</td>\n",
       "      <td>22130765</td>\n",
       "      <td>Texas&lt;br&gt;Gas Price=1.797&lt;br&gt;GDP per Capita=611...</td>\n",
       "    </tr>\n",
       "    <tr>\n",
       "      <th>44</th>\n",
       "      <td>44</td>\n",
       "      <td>Utah</td>\n",
       "      <td>2.288</td>\n",
       "      <td>2.446</td>\n",
       "      <td>2.613</td>\n",
       "      <td>2.295</td>\n",
       "      <td>UT</td>\n",
       "      <td>39.321</td>\n",
       "      <td>-111.094</td>\n",
       "      <td>55550.0</td>\n",
       "      <td>...</td>\n",
       "      <td>3649</td>\n",
       "      <td>6109</td>\n",
       "      <td>1319576</td>\n",
       "      <td>21043</td>\n",
       "      <td>1340619</td>\n",
       "      <td>83792</td>\n",
       "      <td>201</td>\n",
       "      <td>83993</td>\n",
       "      <td>2355773</td>\n",
       "      <td>Utah&lt;br&gt;Gas Price=2.288&lt;br&gt;GDP per Capita=5555...</td>\n",
       "    </tr>\n",
       "    <tr>\n",
       "      <th>45</th>\n",
       "      <td>45</td>\n",
       "      <td>Virginia</td>\n",
       "      <td>1.853</td>\n",
       "      <td>2.235</td>\n",
       "      <td>2.525</td>\n",
       "      <td>2.363</td>\n",
       "      <td>VA</td>\n",
       "      <td>37.432</td>\n",
       "      <td>-78.657</td>\n",
       "      <td>62563.0</td>\n",
       "      <td>...</td>\n",
       "      <td>25946</td>\n",
       "      <td>34268</td>\n",
       "      <td>3964313</td>\n",
       "      <td>70613</td>\n",
       "      <td>4034926</td>\n",
       "      <td>193298</td>\n",
       "      <td>653</td>\n",
       "      <td>193951</td>\n",
       "      <td>7514484</td>\n",
       "      <td>Virginia&lt;br&gt;Gas Price=1.853&lt;br&gt;GDP per Capita=...</td>\n",
       "    </tr>\n",
       "    <tr>\n",
       "      <th>46</th>\n",
       "      <td>46</td>\n",
       "      <td>Vermont</td>\n",
       "      <td>2.046</td>\n",
       "      <td>2.413</td>\n",
       "      <td>2.679</td>\n",
       "      <td>2.512</td>\n",
       "      <td>VT</td>\n",
       "      <td>44.559</td>\n",
       "      <td>-72.578</td>\n",
       "      <td>53523.0</td>\n",
       "      <td>...</td>\n",
       "      <td>748</td>\n",
       "      <td>1070</td>\n",
       "      <td>360231</td>\n",
       "      <td>7416</td>\n",
       "      <td>367647</td>\n",
       "      <td>30955</td>\n",
       "      <td>—</td>\n",
       "      <td>30955</td>\n",
       "      <td>621608</td>\n",
       "      <td>Vermont&lt;br&gt;Gas Price=2.046&lt;br&gt;GDP per Capita=5...</td>\n",
       "    </tr>\n",
       "    <tr>\n",
       "      <th>47</th>\n",
       "      <td>47</td>\n",
       "      <td>Washington</td>\n",
       "      <td>2.623</td>\n",
       "      <td>2.821</td>\n",
       "      <td>2.976</td>\n",
       "      <td>2.688</td>\n",
       "      <td>WA</td>\n",
       "      <td>47.751</td>\n",
       "      <td>-120.74</td>\n",
       "      <td>74182.0</td>\n",
       "      <td>...</td>\n",
       "      <td>18125</td>\n",
       "      <td>23566</td>\n",
       "      <td>3963375</td>\n",
       "      <td>112089</td>\n",
       "      <td>4075464</td>\n",
       "      <td>231400</td>\n",
       "      <td>1</td>\n",
       "      <td>231401</td>\n",
       "      <td>7256196</td>\n",
       "      <td>Washington&lt;br&gt;Gas Price=2.623&lt;br&gt;GDP per Capit...</td>\n",
       "    </tr>\n",
       "    <tr>\n",
       "      <th>48</th>\n",
       "      <td>48</td>\n",
       "      <td>Wisconsin</td>\n",
       "      <td>2.04</td>\n",
       "      <td>2.336</td>\n",
       "      <td>2.726</td>\n",
       "      <td>2.083</td>\n",
       "      <td>WI</td>\n",
       "      <td>43.784</td>\n",
       "      <td>-88.788</td>\n",
       "      <td>57720.0</td>\n",
       "      <td>...</td>\n",
       "      <td>4</td>\n",
       "      <td>15567</td>\n",
       "      <td>3108154</td>\n",
       "      <td>55660</td>\n",
       "      <td>3163814</td>\n",
       "      <td>324260</td>\n",
       "      <td>410</td>\n",
       "      <td>324670</td>\n",
       "      <td>5596635</td>\n",
       "      <td>Wisconsin&lt;br&gt;Gas Price=2.04&lt;br&gt;GDP per Capita=...</td>\n",
       "    </tr>\n",
       "    <tr>\n",
       "      <th>49</th>\n",
       "      <td>49</td>\n",
       "      <td>West Virginia</td>\n",
       "      <td>2.028</td>\n",
       "      <td>2.288</td>\n",
       "      <td>2.576</td>\n",
       "      <td>2.375</td>\n",
       "      <td>WV</td>\n",
       "      <td>38.598</td>\n",
       "      <td>-80.455</td>\n",
       "      <td>43053.0</td>\n",
       "      <td>...</td>\n",
       "      <td>3098</td>\n",
       "      <td>3342</td>\n",
       "      <td>1037704</td>\n",
       "      <td>26625</td>\n",
       "      <td>1064329</td>\n",
       "      <td>59236</td>\n",
       "      <td>1346</td>\n",
       "      <td>60582</td>\n",
       "      <td>1691237</td>\n",
       "      <td>West Virginia&lt;br&gt;Gas Price=2.028&lt;br&gt;GDP per Ca...</td>\n",
       "    </tr>\n",
       "    <tr>\n",
       "      <th>50</th>\n",
       "      <td>50</td>\n",
       "      <td>Wyoming</td>\n",
       "      <td>2.037</td>\n",
       "      <td>2.249</td>\n",
       "      <td>2.477</td>\n",
       "      <td>2.314</td>\n",
       "      <td>WY</td>\n",
       "      <td>43.076</td>\n",
       "      <td>-107.29</td>\n",
       "      <td>69900.0</td>\n",
       "      <td>...</td>\n",
       "      <td>1554</td>\n",
       "      <td>4219</td>\n",
       "      <td>579881</td>\n",
       "      <td>12674</td>\n",
       "      <td>592555</td>\n",
       "      <td>28956</td>\n",
       "      <td>4</td>\n",
       "      <td>28960</td>\n",
       "      <td>819257</td>\n",
       "      <td>Wyoming&lt;br&gt;Gas Price=2.037&lt;br&gt;GDP per Capita=6...</td>\n",
       "    </tr>\n",
       "  </tbody>\n",
       "</table>\n",
       "<p>51 rows × 27 columns</p>\n",
       "</div>"
      ],
      "text/plain": [
       "   Unnamed: 0                 State    Gas MidGrade Premium Diesel State Code  \\\n",
       "0           0                Alaska  2.388    2.503   2.645  2.385         AK   \n",
       "1           1               Alabama  1.779    2.104    2.43  2.279         AL   \n",
       "2           2              Arkansas   1.78    2.055   2.342  2.123         AR   \n",
       "3           3               Arizona  2.264    2.539   2.792  2.504         AZ   \n",
       "4           4            California  2.977     3.15   3.265  3.283         CA   \n",
       "5           5              Colorado  2.283    2.585   2.853  2.279         CO   \n",
       "6           6           Connecticut  2.056    2.425   2.651  2.729         CT   \n",
       "7           7  District of Columbia  2.178    2.698   2.825  2.813         DC   \n",
       "8           8              Delaware  1.991    2.387   2.597  2.305         DE   \n",
       "9           9               Florida  2.008    2.357   2.642  2.431         FL   \n",
       "10         10               Georgia  1.855    2.166   2.467  2.487         GA   \n",
       "11         11                Hawaii  3.201    3.358    3.57  4.012         HI   \n",
       "12         12                  Iowa  2.033     2.16   2.572  2.162         IA   \n",
       "13         13                 Idaho  2.297     2.47   2.665  2.336         ID   \n",
       "14         14              Illinois  2.307    2.645   3.032  2.405         IL   \n",
       "15         15               Indiana  2.095    2.393    2.71  2.507         IN   \n",
       "16         16                Kansas  1.863    2.106   2.341  2.066         KS   \n",
       "17         17              Kentucky  1.984    2.303   2.613   2.33         KY   \n",
       "18         18             Louisiana  1.743    2.048   2.346  2.247         LA   \n",
       "19         19         Massachusetts   2.04    2.389   2.598   2.63         MA   \n",
       "20         20              Maryland  2.103    2.531   2.764  2.389         MD   \n",
       "21         21                 Maine  2.054    2.379   2.638  2.524         ME   \n",
       "22         22              Michigan  2.089    2.395   2.724  2.445         MI   \n",
       "23         23             Minnesota  2.005    2.206   2.524  2.323         MN   \n",
       "24         24              Missouri  1.837    2.063   2.325  2.007         MO   \n",
       "25         25           Mississippi  1.713      2.0   2.323  2.113         MS   \n",
       "26         26               Montana  2.007    2.222   2.471  2.171         MT   \n",
       "27         27        North Carolina  1.965    2.283   2.599  2.423         NC   \n",
       "28         28          North Dakota  1.974    2.175    2.39   2.06         ND   \n",
       "29         29              Nebraska  1.971    2.064   2.402  2.156         NE   \n",
       "30         30         New Hampshire  2.016    2.397   2.643  2.526         NH   \n",
       "31         31            New Jersey  2.085    2.473   2.663  2.524         NJ   \n",
       "32         32            New Mexico  1.969    2.263   2.507  2.373         NM   \n",
       "33         33                Nevada  2.519    2.719   2.892  2.584         NV   \n",
       "34         34              New York  2.218    2.551   2.772  2.837         NY   \n",
       "35         35                  Ohio  2.034    2.349    2.68  2.445         OH   \n",
       "36         36              Oklahoma  1.807    2.036   2.235  1.993         OK   \n",
       "37         37                Oregon  2.537    2.704    2.87  2.585         OR   \n",
       "38         38          Pennsylvania  2.311    2.611   2.888  2.742         PA   \n",
       "39         39          Rhode Island  2.036    2.407   2.628  2.703         RI   \n",
       "40         40        South Carolina  1.831    2.151   2.462   2.27         SC   \n",
       "41         41          South Dakota  1.979     2.06   2.364   2.16         SD   \n",
       "42         42             Tennessee  1.858    2.175   2.498  2.316         TN   \n",
       "43         43                 Texas  1.797    2.102   2.385  2.105         TX   \n",
       "44         44                  Utah  2.288    2.446   2.613  2.295         UT   \n",
       "45         45              Virginia  1.853    2.235   2.525  2.363         VA   \n",
       "46         46               Vermont  2.046    2.413   2.679  2.512         VT   \n",
       "47         47            Washington  2.623    2.821   2.976  2.688         WA   \n",
       "48         48             Wisconsin   2.04    2.336   2.726  2.083         WI   \n",
       "49         49         West Virginia  2.028    2.288   2.576  2.375         WV   \n",
       "50         50               Wyoming  2.037    2.249   2.477  2.314         WY   \n",
       "\n",
       "   State Latitude State Longitude GDP per capita  ... PUBLIC BUSES  \\\n",
       "0          64.201        -149.494        73205.0  ...          584   \n",
       "1          32.318         -86.902        45219.0  ...          132   \n",
       "2          35.201         -91.832        42454.0  ...          712   \n",
       "3          34.049        -111.094        48055.0  ...         7543   \n",
       "4          36.778        -119.418        74205.0  ...        64664   \n",
       "5           39.55        -105.782        63882.0  ...         7307   \n",
       "6          41.603         -73.088        76342.0  ...           36   \n",
       "7          38.907         -77.037       200277.0  ...         3883   \n",
       "8          38.911         -75.528        77253.0  ...          428   \n",
       "9          27.665         -81.516        48318.0  ...        34592   \n",
       "10         32.166           -82.9        55832.0  ...        24254   \n",
       "11         19.897        -155.583        64096.0  ...         1288   \n",
       "12         41.878         -93.098        59977.0  ...         5339   \n",
       "13         44.068        -114.742        43430.0  ...          627   \n",
       "14         40.633         -89.399        67268.0  ...          182   \n",
       "15         40.267         -86.135        55172.0  ...        13498   \n",
       "16         39.012         -98.484        56334.0  ...         2267   \n",
       "17         37.839          -84.27        46898.0  ...         9353   \n",
       "18         30.984         -91.962        53589.0  ...         6977   \n",
       "19         42.407         -71.382        82480.0  ...          243   \n",
       "20         39.046         -76.641        68573.0  ...         7739   \n",
       "21         45.254         -69.445        47969.0  ...         3026   \n",
       "22         44.315         -85.602        53209.0  ...         5340   \n",
       "23          46.73         -94.686        64675.0  ...         5642   \n",
       "24         37.964         -91.832        51699.0  ...          123   \n",
       "25         32.355         -89.399        37948.0  ...         5995   \n",
       "26          46.88        -110.363        46609.0  ...          164   \n",
       "27          35.76         -79.019        54441.0  ...        20840   \n",
       "28         47.551        -101.002        72597.0  ...         1874   \n",
       "29         41.493         -99.902        63942.0  ...           38   \n",
       "30         43.194         -71.572        63067.0  ...         2305   \n",
       "31         40.058         -74.406        69378.0  ...         2230   \n",
       "32          34.52         -105.87        46954.0  ...          207   \n",
       "33         38.803        -116.419        55269.0  ...         2694   \n",
       "34         40.713         -74.006        85746.0  ...         5807   \n",
       "35         40.417         -82.907        57492.0  ...         6556   \n",
       "36         35.468         -97.516        50613.0  ...         1285   \n",
       "37         43.804        -120.554        56956.0  ...         9150   \n",
       "38         41.203         -77.195        61594.0  ...         2743   \n",
       "39          41.58         -71.477        57852.0  ...          401   \n",
       "40         33.836         -81.164        45280.0  ...        12252   \n",
       "41          43.97         -99.902        58624.0  ...         2614   \n",
       "42         35.517          -86.58        53933.0  ...        26240   \n",
       "43         31.969         -99.902        61167.0  ...        48718   \n",
       "44         39.321        -111.094        55550.0  ...         3649   \n",
       "45         37.432         -78.657        62563.0  ...        25946   \n",
       "46         44.559         -72.578        53523.0  ...          748   \n",
       "47         47.751         -120.74        74182.0  ...        18125   \n",
       "48         43.784         -88.788        57720.0  ...            4   \n",
       "49         38.598         -80.455        43053.0  ...         3098   \n",
       "50         43.076         -107.29        69900.0  ...         1554   \n",
       "\n",
       "   TOTAL BUSES PRIVATE AND COMMERCIAL TRUCKS PUBLIC TRUCKS TOTAL TRUCKS  \\\n",
       "0         8080                        573399         17680       591079   \n",
       "1         5682                       2806624         66119      2872743   \n",
       "2        11941                       1778174         27336      1805510   \n",
       "3         9051                       3356363         43341      3399704   \n",
       "4        99917                      14693888        297826     14991714   \n",
       "5        13305                       3231050         40545      3271595   \n",
       "6        11378                       1417371          5131      1422502   \n",
       "7         4885                        113857         14843       128700   \n",
       "8         3763                        516931          3030       519961   \n",
       "9        59596                       8396619        138294      8534913   \n",
       "10       36418                       4583971         81959      4665930   \n",
       "11        3033                        693360         15186       708546   \n",
       "12        9284                       2253531         23663      2277194   \n",
       "13        3870                       1208288         10442      1218730   \n",
       "14       34359                       5806097         60517      5866614   \n",
       "15       20725                       3627258         10032      3637290   \n",
       "16        6228                       1618733          9761      1628494   \n",
       "17       10759                       2439925         50273      2490198   \n",
       "18       29160                       2320545         54007      2374552   \n",
       "19       13498                       2662640         11684      2674324   \n",
       "20       22972                       2167715         41730      2209445   \n",
       "21        4339                        643010          8339       651349   \n",
       "22        8737                       4947020         46380      4993400   \n",
       "23       19980                       3243782         31148      3274930   \n",
       "24       27180                       3227854         34358      3262212   \n",
       "25        8018                       1190809          7661      1198470   \n",
       "26        4702                       1104946          6223      1111169   \n",
       "27       32493                       4458666         72797      4531463   \n",
       "28        3331                        711318         13623       724941   \n",
       "29       13564                       1190469         28296      1218765   \n",
       "30        2871                        726620          5447       732067   \n",
       "31       25097                       3045425         35511      3080936   \n",
       "32        6278                       1043650         22862      1066512   \n",
       "33        3198                       1313087         15617      1328704   \n",
       "34       80446                       5780052         41744      5821796   \n",
       "35       41255                       5686290         66056      5752346   \n",
       "36        3155                       2249920         17289      2267209   \n",
       "37       17691                       2354242         46319      2400561   \n",
       "38       55935                       5719230         73616      5792846   \n",
       "39        2273                        410744          8570       419314   \n",
       "40       17728                       2342149        117690      2459839   \n",
       "41        2614                        769748         15353       785101   \n",
       "42       29158                       3201416         78943      3280359   \n",
       "43       67143                      13341345        180708     13522053   \n",
       "44        6109                       1319576         21043      1340619   \n",
       "45       34268                       3964313         70613      4034926   \n",
       "46        1070                        360231          7416       367647   \n",
       "47       23566                       3963375        112089      4075464   \n",
       "48       15567                       3108154         55660      3163814   \n",
       "49        3342                       1037704         26625      1064329   \n",
       "50        4219                        579881         12674       592555   \n",
       "\n",
       "   PRIVATE AND COMMERCIAL MOTORCYCLES PUBLIC MOTORCYCLES TOTAL MOTORCYCLES  \\\n",
       "0                               31852                  7             31859   \n",
       "1                              111247                938            112185   \n",
       "2                               89457                 —              89457   \n",
       "3                              164053                  2            164055   \n",
       "4                              828083              14460            842543   \n",
       "5                              190002                 —             190002   \n",
       "6                               90111                 20             90131   \n",
       "7                                3897                393              4290   \n",
       "8                               27810                 —              27810   \n",
       "9                              583685               2582            586267   \n",
       "10                             203064                858            203922   \n",
       "11                              35203                373             35576   \n",
       "12                             194273                330            194603   \n",
       "13                              63266                 31             63297   \n",
       "14                             333943                 —             333943   \n",
       "15                             250579                 —             250579   \n",
       "16                              95892                 —              95892   \n",
       "17                             101085                 78            101163   \n",
       "18                             113664                 —             113664   \n",
       "19                             168931                 —             168931   \n",
       "20                             118201                 76            118277   \n",
       "21                              51466                  1             51467   \n",
       "22                             258487                 —             258487   \n",
       "23                             241556                 —             241556   \n",
       "24                             138294                 —             138294   \n",
       "25                              28124                 —              28124   \n",
       "26                             256587                  4            306655   \n",
       "27                             188580                263            188843   \n",
       "28                              51927                 14             51941   \n",
       "29                              55716                 20             55736   \n",
       "30                              78702                 96             78798   \n",
       "31                             152979                 —             152979   \n",
       "32                              57718                 —              57718   \n",
       "33                              76027                  5             76032   \n",
       "34                             392176                  2            392178   \n",
       "35                             410165                 22            410187   \n",
       "36                             136189                  1            136190   \n",
       "37                             141987                751            142738   \n",
       "38                             376390                768            377158   \n",
       "39                              30814                100             30914   \n",
       "40                             117660                472            118132   \n",
       "41                             116807                654            117461   \n",
       "42                             163619               2349            165968   \n",
       "43                             363764                926            364690   \n",
       "44                              83792                201             83993   \n",
       "45                             193298                653            193951   \n",
       "46                              30955                 —              30955   \n",
       "47                             231400                  1            231401   \n",
       "48                             324260                410            324670   \n",
       "49                              59236               1346             60582   \n",
       "50                              28956                  4             28960   \n",
       "\n",
       "   TOTAL MOTOR VEHICLES                                               text  \n",
       "0                804505  Alaska<br>Gas Price=2.388<br>GDP per Capita=73...  \n",
       "1               5056073  Alabama<br>Gas Price=1.779<br>GDP per Capita=4...  \n",
       "2               2833697  Arkansas<br>Gas Price=1.78<br>GDP per Capita=4...  \n",
       "3               5964434  Arizona<br>Gas Price=2.264<br>GDP per Capita=4...  \n",
       "4              30795141  California<br>Gas Price=2.977<br>GDP per Capit...  \n",
       "5               5259960  Colorado<br>Gas Price=2.283<br>GDP per Capita=...  \n",
       "6               2826350  Connecticut<br>Gas Price=2.056<br>GDP per Capi...  \n",
       "7                346016  District of Columbia<br>Gas Price=2.178<br>GDP...  \n",
       "8                970733  Delaware<br>Gas Price=1.991<br>GDP per Capita=...  \n",
       "9              16959269  Florida<br>Gas Price=2.008<br>GDP per Capita=4...  \n",
       "10              8442325  Georgia<br>Gas Price=1.855<br>GDP per Capita=5...  \n",
       "11              1259541  Hawaii<br>Gas Price=3.201<br>GDP per Capita=64...  \n",
       "12              3750077  Iowa<br>Gas Price=2.033<br>GDP per Capita=5997...  \n",
       "13              1835903  Idaho<br>Gas Price=2.297<br>GDP per Capita=434...  \n",
       "14             10890760  Illinois<br>Gas Price=2.307<br>GDP per Capita=...  \n",
       "15              6170034  Indiana<br>Gas Price=2.095<br>GDP per Capita=5...  \n",
       "16              2717873  Kansas<br>Gas Price=1.863<br>GDP per Capita=56...  \n",
       "17              4293205  Kentucky<br>Gas Price=1.984<br>GDP per Capita=...  \n",
       "18              3906812  Louisiana<br>Gas Price=1.743<br>GDP per Capita...  \n",
       "19              5065221  Massachusetts<br>Gas Price=2.04<br>GDP per Cap...  \n",
       "20              4357598  Maryland<br>Gas Price=2.103<br>GDP per Capita=...  \n",
       "21              1094388  Maine<br>Gas Price=2.054<br>GDP per Capita=479...  \n",
       "22              8518097  Michigan<br>Gas Price=2.089<br>GDP per Capita=...  \n",
       "23              5682653  Minnesota<br>Gas Price=2.005<br>GDP per Capita...  \n",
       "24              5568736  Missouri<br>Gas Price=1.837<br>GDP per Capita=...  \n",
       "25              2057476  Mississippi<br>Gas Price=1.713<br>GDP per Capi...  \n",
       "26              1863918  Montana<br>Gas Price=2.007<br>GDP per Capita=4...  \n",
       "27              8070717  North Carolina<br>Gas Price=1.965<br>GDP per C...  \n",
       "28              1056758  North Dakota<br>Gas Price=1.974<br>GDP per Cap...  \n",
       "29              1965105  Nebraska<br>Gas Price=1.971<br>GDP per Capita=...  \n",
       "30              1319117  New Hampshire<br>Gas Price=2.016<br>GDP per Ca...  \n",
       "31              6057711  New Jersey<br>Gas Price=2.085<br>GDP per Capit...  \n",
       "32              1740002  New Mexico<br>Gas Price=1.969<br>GDP per Capit...  \n",
       "33              2455442  Nevada<br>Gas Price=2.519<br>GDP per Capita=55...  \n",
       "34             10857455  New York<br>Gas Price=2.218<br>GDP per Capita=...  \n",
       "35             10809247  Ohio<br>Gas Price=2.034<br>GDP per Capita=5749...  \n",
       "36              3744178  Oklahoma<br>Gas Price=1.807<br>GDP per Capita=...  \n",
       "37              4103451  Oregon<br>Gas Price=2.537<br>GDP per Capita=56...  \n",
       "38             10689206  Pennsylvania<br>Gas Price=2.311<br>GDP per Cap...  \n",
       "39               872814  Rhode Island<br>Gas Price=2.036<br>GDP per Cap...  \n",
       "40              4404100  South Carolina<br>Gas Price=1.831<br>GDP per C...  \n",
       "41              1258356  South Dakota<br>Gas Price=1.979<br>GDP per Cap...  \n",
       "42              5800489  Tennessee<br>Gas Price=1.858<br>GDP per Capita...  \n",
       "43             22130765  Texas<br>Gas Price=1.797<br>GDP per Capita=611...  \n",
       "44              2355773  Utah<br>Gas Price=2.288<br>GDP per Capita=5555...  \n",
       "45              7514484  Virginia<br>Gas Price=1.853<br>GDP per Capita=...  \n",
       "46               621608  Vermont<br>Gas Price=2.046<br>GDP per Capita=5...  \n",
       "47              7256196  Washington<br>Gas Price=2.623<br>GDP per Capit...  \n",
       "48              5596635  Wisconsin<br>Gas Price=2.04<br>GDP per Capita=...  \n",
       "49              1691237  West Virginia<br>Gas Price=2.028<br>GDP per Ca...  \n",
       "50               819257  Wyoming<br>Gas Price=2.037<br>GDP per Capita=6...  \n",
       "\n",
       "[51 rows x 27 columns]"
      ]
     },
     "execution_count": 6,
     "metadata": {},
     "output_type": "execute_result"
    }
   ],
   "source": [
    "import plotly.graph_objects as go\n",
    "\n",
    "import pandas as pd\n",
    "df = pd.read_csv('working_data.csv')\n",
    "\n",
    "df[\"Refinery Count\"] = df[\"Refinery Count\"].fillna(0)\n",
    "df=df.round(3)\n",
    "\n",
    "\n",
    "for col in df.columns:\n",
    "    df[col]=df[col].astype(str)\n",
    "\n",
    "df[\"text\"] = df[\"State\"] + '<br>'+ \\\n",
    "    \"Gas Price=\"+df[\"Gas\"]+ '<br>'+ \\\n",
    "    \"GDP per Capita=\"+df[\"GDP per capita\"] + '<br>'+ \\\n",
    "    \"# of Refineries=\"+df[\"Refinery Count\"] + '<br>'+ \\\n",
    "    \"Total Vehicles=\"+df[\"TOTAL MOTOR VEHICLES\"]\n",
    "\n",
    "fig = go.Figure(data=go.Choropleth(\n",
    "    locations=df['State Code'], # Spatial coordinates\n",
    "    z = df['Gas'].astype(float), # Data to be color-coded\n",
    "    locationmode = 'USA-states', # set of locations match entries in `locations`\n",
    "    colorscale = 'Blues',\n",
    "    text=df['text'],\n",
    "    colorbar_title = \"Gas Price (USD)\",\n",
    "))\n",
    "\n",
    "fig.update_layout(\n",
    "    title_text = '2021 Gas Price by State',\n",
    "    geo_scope='usa', # limite map scope to USA\n",
    ")\n",
    "\n",
    "fig.show()\n",
    "df\n"
   ]
  },
  {
   "cell_type": "code",
   "execution_count": 3,
   "metadata": {
    "scrolled": true
   },
   "outputs": [
    {
     "data": {
      "application/vnd.plotly.v1+json": {
       "config": {
        "plotlyServerURL": "https://plot.ly"
       },
       "data": [
        {
         "colorbar": {
          "title": {
           "text": "# of Refineries"
          }
         },
         "colorscale": [
          [
           0,
           "rgb(255,245,240)"
          ],
          [
           0.125,
           "rgb(254,224,210)"
          ],
          [
           0.25,
           "rgb(252,187,161)"
          ],
          [
           0.375,
           "rgb(252,146,114)"
          ],
          [
           0.5,
           "rgb(251,106,74)"
          ],
          [
           0.625,
           "rgb(239,59,44)"
          ],
          [
           0.75,
           "rgb(203,24,29)"
          ],
          [
           0.875,
           "rgb(165,15,21)"
          ],
          [
           1,
           "rgb(103,0,13)"
          ]
         ],
         "locationmode": "USA-states",
         "locations": [
          "AK",
          "AL",
          "AR",
          "AZ",
          "CA",
          "CO",
          "CT",
          "DC",
          "DE",
          "FL",
          "GA",
          "HI",
          "IA",
          "ID",
          "IL",
          "IN",
          "KS",
          "KY",
          "LA",
          "MA",
          "MD",
          "ME",
          "MI",
          "MN",
          "MO",
          "MS",
          "MT",
          "NC",
          "ND",
          "NE",
          "NH",
          "NJ",
          "NM",
          "NV",
          "NY",
          "OH",
          "OK",
          "OR",
          "PA",
          "RI",
          "SC",
          "SD",
          "TN",
          "TX",
          "UT",
          "VA",
          "VT",
          "WA",
          "WI",
          "WV",
          "WY"
         ],
         "type": "choropleth",
         "z": [
          4,
          3,
          1,
          0,
          16,
          1,
          0,
          0,
          1,
          0,
          1,
          1,
          0,
          0,
          4,
          2,
          2,
          2,
          16,
          0,
          0,
          0,
          1,
          2,
          0,
          4,
          3,
          0,
          2,
          0,
          0,
          6,
          3,
          1,
          0,
          4,
          4,
          0,
          6,
          0,
          0,
          0,
          1,
          21,
          3,
          0,
          0,
          5,
          1,
          1,
          6
         ]
        }
       ],
       "layout": {
        "geo": {
         "scope": "usa"
        },
        "template": {
         "data": {
          "bar": [
           {
            "error_x": {
             "color": "#2a3f5f"
            },
            "error_y": {
             "color": "#2a3f5f"
            },
            "marker": {
             "line": {
              "color": "#E5ECF6",
              "width": 0.5
             }
            },
            "type": "bar"
           }
          ],
          "barpolar": [
           {
            "marker": {
             "line": {
              "color": "#E5ECF6",
              "width": 0.5
             }
            },
            "type": "barpolar"
           }
          ],
          "carpet": [
           {
            "aaxis": {
             "endlinecolor": "#2a3f5f",
             "gridcolor": "white",
             "linecolor": "white",
             "minorgridcolor": "white",
             "startlinecolor": "#2a3f5f"
            },
            "baxis": {
             "endlinecolor": "#2a3f5f",
             "gridcolor": "white",
             "linecolor": "white",
             "minorgridcolor": "white",
             "startlinecolor": "#2a3f5f"
            },
            "type": "carpet"
           }
          ],
          "choropleth": [
           {
            "colorbar": {
             "outlinewidth": 0,
             "ticks": ""
            },
            "type": "choropleth"
           }
          ],
          "contour": [
           {
            "colorbar": {
             "outlinewidth": 0,
             "ticks": ""
            },
            "colorscale": [
             [
              0,
              "#0d0887"
             ],
             [
              0.1111111111111111,
              "#46039f"
             ],
             [
              0.2222222222222222,
              "#7201a8"
             ],
             [
              0.3333333333333333,
              "#9c179e"
             ],
             [
              0.4444444444444444,
              "#bd3786"
             ],
             [
              0.5555555555555556,
              "#d8576b"
             ],
             [
              0.6666666666666666,
              "#ed7953"
             ],
             [
              0.7777777777777778,
              "#fb9f3a"
             ],
             [
              0.8888888888888888,
              "#fdca26"
             ],
             [
              1,
              "#f0f921"
             ]
            ],
            "type": "contour"
           }
          ],
          "contourcarpet": [
           {
            "colorbar": {
             "outlinewidth": 0,
             "ticks": ""
            },
            "type": "contourcarpet"
           }
          ],
          "heatmap": [
           {
            "colorbar": {
             "outlinewidth": 0,
             "ticks": ""
            },
            "colorscale": [
             [
              0,
              "#0d0887"
             ],
             [
              0.1111111111111111,
              "#46039f"
             ],
             [
              0.2222222222222222,
              "#7201a8"
             ],
             [
              0.3333333333333333,
              "#9c179e"
             ],
             [
              0.4444444444444444,
              "#bd3786"
             ],
             [
              0.5555555555555556,
              "#d8576b"
             ],
             [
              0.6666666666666666,
              "#ed7953"
             ],
             [
              0.7777777777777778,
              "#fb9f3a"
             ],
             [
              0.8888888888888888,
              "#fdca26"
             ],
             [
              1,
              "#f0f921"
             ]
            ],
            "type": "heatmap"
           }
          ],
          "heatmapgl": [
           {
            "colorbar": {
             "outlinewidth": 0,
             "ticks": ""
            },
            "colorscale": [
             [
              0,
              "#0d0887"
             ],
             [
              0.1111111111111111,
              "#46039f"
             ],
             [
              0.2222222222222222,
              "#7201a8"
             ],
             [
              0.3333333333333333,
              "#9c179e"
             ],
             [
              0.4444444444444444,
              "#bd3786"
             ],
             [
              0.5555555555555556,
              "#d8576b"
             ],
             [
              0.6666666666666666,
              "#ed7953"
             ],
             [
              0.7777777777777778,
              "#fb9f3a"
             ],
             [
              0.8888888888888888,
              "#fdca26"
             ],
             [
              1,
              "#f0f921"
             ]
            ],
            "type": "heatmapgl"
           }
          ],
          "histogram": [
           {
            "marker": {
             "colorbar": {
              "outlinewidth": 0,
              "ticks": ""
             }
            },
            "type": "histogram"
           }
          ],
          "histogram2d": [
           {
            "colorbar": {
             "outlinewidth": 0,
             "ticks": ""
            },
            "colorscale": [
             [
              0,
              "#0d0887"
             ],
             [
              0.1111111111111111,
              "#46039f"
             ],
             [
              0.2222222222222222,
              "#7201a8"
             ],
             [
              0.3333333333333333,
              "#9c179e"
             ],
             [
              0.4444444444444444,
              "#bd3786"
             ],
             [
              0.5555555555555556,
              "#d8576b"
             ],
             [
              0.6666666666666666,
              "#ed7953"
             ],
             [
              0.7777777777777778,
              "#fb9f3a"
             ],
             [
              0.8888888888888888,
              "#fdca26"
             ],
             [
              1,
              "#f0f921"
             ]
            ],
            "type": "histogram2d"
           }
          ],
          "histogram2dcontour": [
           {
            "colorbar": {
             "outlinewidth": 0,
             "ticks": ""
            },
            "colorscale": [
             [
              0,
              "#0d0887"
             ],
             [
              0.1111111111111111,
              "#46039f"
             ],
             [
              0.2222222222222222,
              "#7201a8"
             ],
             [
              0.3333333333333333,
              "#9c179e"
             ],
             [
              0.4444444444444444,
              "#bd3786"
             ],
             [
              0.5555555555555556,
              "#d8576b"
             ],
             [
              0.6666666666666666,
              "#ed7953"
             ],
             [
              0.7777777777777778,
              "#fb9f3a"
             ],
             [
              0.8888888888888888,
              "#fdca26"
             ],
             [
              1,
              "#f0f921"
             ]
            ],
            "type": "histogram2dcontour"
           }
          ],
          "mesh3d": [
           {
            "colorbar": {
             "outlinewidth": 0,
             "ticks": ""
            },
            "type": "mesh3d"
           }
          ],
          "parcoords": [
           {
            "line": {
             "colorbar": {
              "outlinewidth": 0,
              "ticks": ""
             }
            },
            "type": "parcoords"
           }
          ],
          "pie": [
           {
            "automargin": true,
            "type": "pie"
           }
          ],
          "scatter": [
           {
            "marker": {
             "colorbar": {
              "outlinewidth": 0,
              "ticks": ""
             }
            },
            "type": "scatter"
           }
          ],
          "scatter3d": [
           {
            "line": {
             "colorbar": {
              "outlinewidth": 0,
              "ticks": ""
             }
            },
            "marker": {
             "colorbar": {
              "outlinewidth": 0,
              "ticks": ""
             }
            },
            "type": "scatter3d"
           }
          ],
          "scattercarpet": [
           {
            "marker": {
             "colorbar": {
              "outlinewidth": 0,
              "ticks": ""
             }
            },
            "type": "scattercarpet"
           }
          ],
          "scattergeo": [
           {
            "marker": {
             "colorbar": {
              "outlinewidth": 0,
              "ticks": ""
             }
            },
            "type": "scattergeo"
           }
          ],
          "scattergl": [
           {
            "marker": {
             "colorbar": {
              "outlinewidth": 0,
              "ticks": ""
             }
            },
            "type": "scattergl"
           }
          ],
          "scattermapbox": [
           {
            "marker": {
             "colorbar": {
              "outlinewidth": 0,
              "ticks": ""
             }
            },
            "type": "scattermapbox"
           }
          ],
          "scatterpolar": [
           {
            "marker": {
             "colorbar": {
              "outlinewidth": 0,
              "ticks": ""
             }
            },
            "type": "scatterpolar"
           }
          ],
          "scatterpolargl": [
           {
            "marker": {
             "colorbar": {
              "outlinewidth": 0,
              "ticks": ""
             }
            },
            "type": "scatterpolargl"
           }
          ],
          "scatterternary": [
           {
            "marker": {
             "colorbar": {
              "outlinewidth": 0,
              "ticks": ""
             }
            },
            "type": "scatterternary"
           }
          ],
          "surface": [
           {
            "colorbar": {
             "outlinewidth": 0,
             "ticks": ""
            },
            "colorscale": [
             [
              0,
              "#0d0887"
             ],
             [
              0.1111111111111111,
              "#46039f"
             ],
             [
              0.2222222222222222,
              "#7201a8"
             ],
             [
              0.3333333333333333,
              "#9c179e"
             ],
             [
              0.4444444444444444,
              "#bd3786"
             ],
             [
              0.5555555555555556,
              "#d8576b"
             ],
             [
              0.6666666666666666,
              "#ed7953"
             ],
             [
              0.7777777777777778,
              "#fb9f3a"
             ],
             [
              0.8888888888888888,
              "#fdca26"
             ],
             [
              1,
              "#f0f921"
             ]
            ],
            "type": "surface"
           }
          ],
          "table": [
           {
            "cells": {
             "fill": {
              "color": "#EBF0F8"
             },
             "line": {
              "color": "white"
             }
            },
            "header": {
             "fill": {
              "color": "#C8D4E3"
             },
             "line": {
              "color": "white"
             }
            },
            "type": "table"
           }
          ]
         },
         "layout": {
          "annotationdefaults": {
           "arrowcolor": "#2a3f5f",
           "arrowhead": 0,
           "arrowwidth": 1
          },
          "coloraxis": {
           "colorbar": {
            "outlinewidth": 0,
            "ticks": ""
           }
          },
          "colorscale": {
           "diverging": [
            [
             0,
             "#8e0152"
            ],
            [
             0.1,
             "#c51b7d"
            ],
            [
             0.2,
             "#de77ae"
            ],
            [
             0.3,
             "#f1b6da"
            ],
            [
             0.4,
             "#fde0ef"
            ],
            [
             0.5,
             "#f7f7f7"
            ],
            [
             0.6,
             "#e6f5d0"
            ],
            [
             0.7,
             "#b8e186"
            ],
            [
             0.8,
             "#7fbc41"
            ],
            [
             0.9,
             "#4d9221"
            ],
            [
             1,
             "#276419"
            ]
           ],
           "sequential": [
            [
             0,
             "#0d0887"
            ],
            [
             0.1111111111111111,
             "#46039f"
            ],
            [
             0.2222222222222222,
             "#7201a8"
            ],
            [
             0.3333333333333333,
             "#9c179e"
            ],
            [
             0.4444444444444444,
             "#bd3786"
            ],
            [
             0.5555555555555556,
             "#d8576b"
            ],
            [
             0.6666666666666666,
             "#ed7953"
            ],
            [
             0.7777777777777778,
             "#fb9f3a"
            ],
            [
             0.8888888888888888,
             "#fdca26"
            ],
            [
             1,
             "#f0f921"
            ]
           ],
           "sequentialminus": [
            [
             0,
             "#0d0887"
            ],
            [
             0.1111111111111111,
             "#46039f"
            ],
            [
             0.2222222222222222,
             "#7201a8"
            ],
            [
             0.3333333333333333,
             "#9c179e"
            ],
            [
             0.4444444444444444,
             "#bd3786"
            ],
            [
             0.5555555555555556,
             "#d8576b"
            ],
            [
             0.6666666666666666,
             "#ed7953"
            ],
            [
             0.7777777777777778,
             "#fb9f3a"
            ],
            [
             0.8888888888888888,
             "#fdca26"
            ],
            [
             1,
             "#f0f921"
            ]
           ]
          },
          "colorway": [
           "#636efa",
           "#EF553B",
           "#00cc96",
           "#ab63fa",
           "#FFA15A",
           "#19d3f3",
           "#FF6692",
           "#B6E880",
           "#FF97FF",
           "#FECB52"
          ],
          "font": {
           "color": "#2a3f5f"
          },
          "geo": {
           "bgcolor": "white",
           "lakecolor": "white",
           "landcolor": "#E5ECF6",
           "showlakes": true,
           "showland": true,
           "subunitcolor": "white"
          },
          "hoverlabel": {
           "align": "left"
          },
          "hovermode": "closest",
          "mapbox": {
           "style": "light"
          },
          "paper_bgcolor": "white",
          "plot_bgcolor": "#E5ECF6",
          "polar": {
           "angularaxis": {
            "gridcolor": "white",
            "linecolor": "white",
            "ticks": ""
           },
           "bgcolor": "#E5ECF6",
           "radialaxis": {
            "gridcolor": "white",
            "linecolor": "white",
            "ticks": ""
           }
          },
          "scene": {
           "xaxis": {
            "backgroundcolor": "#E5ECF6",
            "gridcolor": "white",
            "gridwidth": 2,
            "linecolor": "white",
            "showbackground": true,
            "ticks": "",
            "zerolinecolor": "white"
           },
           "yaxis": {
            "backgroundcolor": "#E5ECF6",
            "gridcolor": "white",
            "gridwidth": 2,
            "linecolor": "white",
            "showbackground": true,
            "ticks": "",
            "zerolinecolor": "white"
           },
           "zaxis": {
            "backgroundcolor": "#E5ECF6",
            "gridcolor": "white",
            "gridwidth": 2,
            "linecolor": "white",
            "showbackground": true,
            "ticks": "",
            "zerolinecolor": "white"
           }
          },
          "shapedefaults": {
           "line": {
            "color": "#2a3f5f"
           }
          },
          "ternary": {
           "aaxis": {
            "gridcolor": "white",
            "linecolor": "white",
            "ticks": ""
           },
           "baxis": {
            "gridcolor": "white",
            "linecolor": "white",
            "ticks": ""
           },
           "bgcolor": "#E5ECF6",
           "caxis": {
            "gridcolor": "white",
            "linecolor": "white",
            "ticks": ""
           }
          },
          "title": {
           "x": 0.05
          },
          "xaxis": {
           "automargin": true,
           "gridcolor": "white",
           "linecolor": "white",
           "ticks": "",
           "title": {
            "standoff": 15
           },
           "zerolinecolor": "white",
           "zerolinewidth": 2
          },
          "yaxis": {
           "automargin": true,
           "gridcolor": "white",
           "linecolor": "white",
           "ticks": "",
           "title": {
            "standoff": 15
           },
           "zerolinecolor": "white",
           "zerolinewidth": 2
          }
         }
        },
        "title": {
         "text": "2021 # of Refineries by State"
        }
       }
      },
      "text/html": [
       "<div>\n",
       "        \n",
       "        \n",
       "            <div id=\"63fc50f6-31ea-498f-9bd6-3a40cfe4c399\" class=\"plotly-graph-div\" style=\"height:525px; width:100%;\"></div>\n",
       "            <script type=\"text/javascript\">\n",
       "                require([\"plotly\"], function(Plotly) {\n",
       "                    window.PLOTLYENV=window.PLOTLYENV || {};\n",
       "                    \n",
       "                if (document.getElementById(\"63fc50f6-31ea-498f-9bd6-3a40cfe4c399\")) {\n",
       "                    Plotly.newPlot(\n",
       "                        '63fc50f6-31ea-498f-9bd6-3a40cfe4c399',\n",
       "                        [{\"colorbar\": {\"title\": {\"text\": \"# of Refineries\"}}, \"colorscale\": [[0.0, \"rgb(255,245,240)\"], [0.125, \"rgb(254,224,210)\"], [0.25, \"rgb(252,187,161)\"], [0.375, \"rgb(252,146,114)\"], [0.5, \"rgb(251,106,74)\"], [0.625, \"rgb(239,59,44)\"], [0.75, \"rgb(203,24,29)\"], [0.875, \"rgb(165,15,21)\"], [1.0, \"rgb(103,0,13)\"]], \"locationmode\": \"USA-states\", \"locations\": [\"AK\", \"AL\", \"AR\", \"AZ\", \"CA\", \"CO\", \"CT\", \"DC\", \"DE\", \"FL\", \"GA\", \"HI\", \"IA\", \"ID\", \"IL\", \"IN\", \"KS\", \"KY\", \"LA\", \"MA\", \"MD\", \"ME\", \"MI\", \"MN\", \"MO\", \"MS\", \"MT\", \"NC\", \"ND\", \"NE\", \"NH\", \"NJ\", \"NM\", \"NV\", \"NY\", \"OH\", \"OK\", \"OR\", \"PA\", \"RI\", \"SC\", \"SD\", \"TN\", \"TX\", \"UT\", \"VA\", \"VT\", \"WA\", \"WI\", \"WV\", \"WY\"], \"type\": \"choropleth\", \"z\": [4.0, 3.0, 1.0, 0.0, 16.0, 1.0, 0.0, 0.0, 1.0, 0.0, 1.0, 1.0, 0.0, 0.0, 4.0, 2.0, 2.0, 2.0, 16.0, 0.0, 0.0, 0.0, 1.0, 2.0, 0.0, 4.0, 3.0, 0.0, 2.0, 0.0, 0.0, 6.0, 3.0, 1.0, 0.0, 4.0, 4.0, 0.0, 6.0, 0.0, 0.0, 0.0, 1.0, 21.0, 3.0, 0.0, 0.0, 5.0, 1.0, 1.0, 6.0]}],\n",
       "                        {\"geo\": {\"scope\": \"usa\"}, \"template\": {\"data\": {\"bar\": [{\"error_x\": {\"color\": \"#2a3f5f\"}, \"error_y\": {\"color\": \"#2a3f5f\"}, \"marker\": {\"line\": {\"color\": \"#E5ECF6\", \"width\": 0.5}}, \"type\": \"bar\"}], \"barpolar\": [{\"marker\": {\"line\": {\"color\": \"#E5ECF6\", \"width\": 0.5}}, \"type\": \"barpolar\"}], \"carpet\": [{\"aaxis\": {\"endlinecolor\": \"#2a3f5f\", \"gridcolor\": \"white\", \"linecolor\": \"white\", \"minorgridcolor\": \"white\", \"startlinecolor\": \"#2a3f5f\"}, \"baxis\": {\"endlinecolor\": \"#2a3f5f\", \"gridcolor\": \"white\", \"linecolor\": \"white\", \"minorgridcolor\": \"white\", \"startlinecolor\": \"#2a3f5f\"}, \"type\": \"carpet\"}], \"choropleth\": [{\"colorbar\": {\"outlinewidth\": 0, \"ticks\": \"\"}, \"type\": \"choropleth\"}], \"contour\": [{\"colorbar\": {\"outlinewidth\": 0, \"ticks\": \"\"}, \"colorscale\": [[0.0, \"#0d0887\"], [0.1111111111111111, \"#46039f\"], [0.2222222222222222, \"#7201a8\"], [0.3333333333333333, \"#9c179e\"], [0.4444444444444444, \"#bd3786\"], [0.5555555555555556, \"#d8576b\"], [0.6666666666666666, \"#ed7953\"], [0.7777777777777778, \"#fb9f3a\"], [0.8888888888888888, \"#fdca26\"], [1.0, \"#f0f921\"]], \"type\": \"contour\"}], \"contourcarpet\": [{\"colorbar\": {\"outlinewidth\": 0, \"ticks\": \"\"}, \"type\": \"contourcarpet\"}], \"heatmap\": [{\"colorbar\": {\"outlinewidth\": 0, \"ticks\": \"\"}, \"colorscale\": [[0.0, \"#0d0887\"], [0.1111111111111111, \"#46039f\"], [0.2222222222222222, \"#7201a8\"], [0.3333333333333333, \"#9c179e\"], [0.4444444444444444, \"#bd3786\"], [0.5555555555555556, \"#d8576b\"], [0.6666666666666666, \"#ed7953\"], [0.7777777777777778, \"#fb9f3a\"], [0.8888888888888888, \"#fdca26\"], [1.0, \"#f0f921\"]], \"type\": \"heatmap\"}], \"heatmapgl\": [{\"colorbar\": {\"outlinewidth\": 0, \"ticks\": \"\"}, \"colorscale\": [[0.0, \"#0d0887\"], [0.1111111111111111, \"#46039f\"], [0.2222222222222222, \"#7201a8\"], [0.3333333333333333, \"#9c179e\"], [0.4444444444444444, \"#bd3786\"], [0.5555555555555556, \"#d8576b\"], [0.6666666666666666, \"#ed7953\"], [0.7777777777777778, \"#fb9f3a\"], [0.8888888888888888, \"#fdca26\"], [1.0, \"#f0f921\"]], \"type\": \"heatmapgl\"}], \"histogram\": [{\"marker\": {\"colorbar\": {\"outlinewidth\": 0, \"ticks\": \"\"}}, \"type\": \"histogram\"}], \"histogram2d\": [{\"colorbar\": {\"outlinewidth\": 0, \"ticks\": \"\"}, \"colorscale\": [[0.0, \"#0d0887\"], [0.1111111111111111, \"#46039f\"], [0.2222222222222222, \"#7201a8\"], [0.3333333333333333, \"#9c179e\"], [0.4444444444444444, \"#bd3786\"], [0.5555555555555556, \"#d8576b\"], [0.6666666666666666, \"#ed7953\"], [0.7777777777777778, \"#fb9f3a\"], [0.8888888888888888, \"#fdca26\"], [1.0, \"#f0f921\"]], \"type\": \"histogram2d\"}], \"histogram2dcontour\": [{\"colorbar\": {\"outlinewidth\": 0, \"ticks\": \"\"}, \"colorscale\": [[0.0, \"#0d0887\"], [0.1111111111111111, \"#46039f\"], [0.2222222222222222, \"#7201a8\"], [0.3333333333333333, \"#9c179e\"], [0.4444444444444444, \"#bd3786\"], [0.5555555555555556, \"#d8576b\"], [0.6666666666666666, \"#ed7953\"], [0.7777777777777778, \"#fb9f3a\"], [0.8888888888888888, \"#fdca26\"], [1.0, \"#f0f921\"]], \"type\": \"histogram2dcontour\"}], \"mesh3d\": [{\"colorbar\": {\"outlinewidth\": 0, \"ticks\": \"\"}, \"type\": \"mesh3d\"}], \"parcoords\": [{\"line\": {\"colorbar\": {\"outlinewidth\": 0, \"ticks\": \"\"}}, \"type\": \"parcoords\"}], \"pie\": [{\"automargin\": true, \"type\": \"pie\"}], \"scatter\": [{\"marker\": {\"colorbar\": {\"outlinewidth\": 0, \"ticks\": \"\"}}, \"type\": \"scatter\"}], \"scatter3d\": [{\"line\": {\"colorbar\": {\"outlinewidth\": 0, \"ticks\": \"\"}}, \"marker\": {\"colorbar\": {\"outlinewidth\": 0, \"ticks\": \"\"}}, \"type\": \"scatter3d\"}], \"scattercarpet\": [{\"marker\": {\"colorbar\": {\"outlinewidth\": 0, \"ticks\": \"\"}}, \"type\": \"scattercarpet\"}], \"scattergeo\": [{\"marker\": {\"colorbar\": {\"outlinewidth\": 0, \"ticks\": \"\"}}, \"type\": \"scattergeo\"}], \"scattergl\": [{\"marker\": {\"colorbar\": {\"outlinewidth\": 0, \"ticks\": \"\"}}, \"type\": \"scattergl\"}], \"scattermapbox\": [{\"marker\": {\"colorbar\": {\"outlinewidth\": 0, \"ticks\": \"\"}}, \"type\": \"scattermapbox\"}], \"scatterpolar\": [{\"marker\": {\"colorbar\": {\"outlinewidth\": 0, \"ticks\": \"\"}}, \"type\": \"scatterpolar\"}], \"scatterpolargl\": [{\"marker\": {\"colorbar\": {\"outlinewidth\": 0, \"ticks\": \"\"}}, \"type\": \"scatterpolargl\"}], \"scatterternary\": [{\"marker\": {\"colorbar\": {\"outlinewidth\": 0, \"ticks\": \"\"}}, \"type\": \"scatterternary\"}], \"surface\": [{\"colorbar\": {\"outlinewidth\": 0, \"ticks\": \"\"}, \"colorscale\": [[0.0, \"#0d0887\"], [0.1111111111111111, \"#46039f\"], [0.2222222222222222, \"#7201a8\"], [0.3333333333333333, \"#9c179e\"], [0.4444444444444444, \"#bd3786\"], [0.5555555555555556, \"#d8576b\"], [0.6666666666666666, \"#ed7953\"], [0.7777777777777778, \"#fb9f3a\"], [0.8888888888888888, \"#fdca26\"], [1.0, \"#f0f921\"]], \"type\": \"surface\"}], \"table\": [{\"cells\": {\"fill\": {\"color\": \"#EBF0F8\"}, \"line\": {\"color\": \"white\"}}, \"header\": {\"fill\": {\"color\": \"#C8D4E3\"}, \"line\": {\"color\": \"white\"}}, \"type\": \"table\"}]}, \"layout\": {\"annotationdefaults\": {\"arrowcolor\": \"#2a3f5f\", \"arrowhead\": 0, \"arrowwidth\": 1}, \"coloraxis\": {\"colorbar\": {\"outlinewidth\": 0, \"ticks\": \"\"}}, \"colorscale\": {\"diverging\": [[0, \"#8e0152\"], [0.1, \"#c51b7d\"], [0.2, \"#de77ae\"], [0.3, \"#f1b6da\"], [0.4, \"#fde0ef\"], [0.5, \"#f7f7f7\"], [0.6, \"#e6f5d0\"], [0.7, \"#b8e186\"], [0.8, \"#7fbc41\"], [0.9, \"#4d9221\"], [1, \"#276419\"]], \"sequential\": [[0.0, \"#0d0887\"], [0.1111111111111111, \"#46039f\"], [0.2222222222222222, \"#7201a8\"], [0.3333333333333333, \"#9c179e\"], [0.4444444444444444, \"#bd3786\"], [0.5555555555555556, \"#d8576b\"], [0.6666666666666666, \"#ed7953\"], [0.7777777777777778, \"#fb9f3a\"], [0.8888888888888888, \"#fdca26\"], [1.0, \"#f0f921\"]], \"sequentialminus\": [[0.0, \"#0d0887\"], [0.1111111111111111, \"#46039f\"], [0.2222222222222222, \"#7201a8\"], [0.3333333333333333, \"#9c179e\"], [0.4444444444444444, \"#bd3786\"], [0.5555555555555556, \"#d8576b\"], [0.6666666666666666, \"#ed7953\"], [0.7777777777777778, \"#fb9f3a\"], [0.8888888888888888, \"#fdca26\"], [1.0, \"#f0f921\"]]}, \"colorway\": [\"#636efa\", \"#EF553B\", \"#00cc96\", \"#ab63fa\", \"#FFA15A\", \"#19d3f3\", \"#FF6692\", \"#B6E880\", \"#FF97FF\", \"#FECB52\"], \"font\": {\"color\": \"#2a3f5f\"}, \"geo\": {\"bgcolor\": \"white\", \"lakecolor\": \"white\", \"landcolor\": \"#E5ECF6\", \"showlakes\": true, \"showland\": true, \"subunitcolor\": \"white\"}, \"hoverlabel\": {\"align\": \"left\"}, \"hovermode\": \"closest\", \"mapbox\": {\"style\": \"light\"}, \"paper_bgcolor\": \"white\", \"plot_bgcolor\": \"#E5ECF6\", \"polar\": {\"angularaxis\": {\"gridcolor\": \"white\", \"linecolor\": \"white\", \"ticks\": \"\"}, \"bgcolor\": \"#E5ECF6\", \"radialaxis\": {\"gridcolor\": \"white\", \"linecolor\": \"white\", \"ticks\": \"\"}}, \"scene\": {\"xaxis\": {\"backgroundcolor\": \"#E5ECF6\", \"gridcolor\": \"white\", \"gridwidth\": 2, \"linecolor\": \"white\", \"showbackground\": true, \"ticks\": \"\", \"zerolinecolor\": \"white\"}, \"yaxis\": {\"backgroundcolor\": \"#E5ECF6\", \"gridcolor\": \"white\", \"gridwidth\": 2, \"linecolor\": \"white\", \"showbackground\": true, \"ticks\": \"\", \"zerolinecolor\": \"white\"}, \"zaxis\": {\"backgroundcolor\": \"#E5ECF6\", \"gridcolor\": \"white\", \"gridwidth\": 2, \"linecolor\": \"white\", \"showbackground\": true, \"ticks\": \"\", \"zerolinecolor\": \"white\"}}, \"shapedefaults\": {\"line\": {\"color\": \"#2a3f5f\"}}, \"ternary\": {\"aaxis\": {\"gridcolor\": \"white\", \"linecolor\": \"white\", \"ticks\": \"\"}, \"baxis\": {\"gridcolor\": \"white\", \"linecolor\": \"white\", \"ticks\": \"\"}, \"bgcolor\": \"#E5ECF6\", \"caxis\": {\"gridcolor\": \"white\", \"linecolor\": \"white\", \"ticks\": \"\"}}, \"title\": {\"x\": 0.05}, \"xaxis\": {\"automargin\": true, \"gridcolor\": \"white\", \"linecolor\": \"white\", \"ticks\": \"\", \"title\": {\"standoff\": 15}, \"zerolinecolor\": \"white\", \"zerolinewidth\": 2}, \"yaxis\": {\"automargin\": true, \"gridcolor\": \"white\", \"linecolor\": \"white\", \"ticks\": \"\", \"title\": {\"standoff\": 15}, \"zerolinecolor\": \"white\", \"zerolinewidth\": 2}}}, \"title\": {\"text\": \"2021 # of Refineries by State\"}},\n",
       "                        {\"responsive\": true}\n",
       "                    ).then(function(){\n",
       "                            \n",
       "var gd = document.getElementById('63fc50f6-31ea-498f-9bd6-3a40cfe4c399');\n",
       "var x = new MutationObserver(function (mutations, observer) {{\n",
       "        var display = window.getComputedStyle(gd).display;\n",
       "        if (!display || display === 'none') {{\n",
       "            console.log([gd, 'removed!']);\n",
       "            Plotly.purge(gd);\n",
       "            observer.disconnect();\n",
       "        }}\n",
       "}});\n",
       "\n",
       "// Listen for the removal of the full notebook cells\n",
       "var notebookContainer = gd.closest('#notebook-container');\n",
       "if (notebookContainer) {{\n",
       "    x.observe(notebookContainer, {childList: true});\n",
       "}}\n",
       "\n",
       "// Listen for the clearing of the current output cell\n",
       "var outputEl = gd.closest('.output');\n",
       "if (outputEl) {{\n",
       "    x.observe(outputEl, {childList: true});\n",
       "}}\n",
       "\n",
       "                        })\n",
       "                };\n",
       "                });\n",
       "            </script>\n",
       "        </div>"
      ]
     },
     "metadata": {},
     "output_type": "display_data"
    }
   ],
   "source": [
    "fig = go.Figure(data=go.Choropleth(\n",
    "    locations=df['State Code'], # Spatial coordinates\n",
    "    z = df['Refinery Count'].astype(float), # Data to be color-coded\n",
    "    locationmode = 'USA-states', # set of locations match entries in `locations`\n",
    "    colorscale = 'Reds',\n",
    "    colorbar_title = \"# of Refineries\",\n",
    "))\n",
    "\n",
    "fig.update_layout(\n",
    "    title_text = '2021 # of Refineries by State',\n",
    "    geo_scope='usa', # limite map scope to USA\n",
    ")\n",
    "\n",
    "fig.show()"
   ]
  },
  {
   "cell_type": "code",
   "execution_count": 7,
   "metadata": {
    "scrolled": true
   },
   "outputs": [
    {
     "data": {
      "application/vnd.plotly.v1+json": {
       "config": {
        "plotlyServerURL": "https://plot.ly"
       },
       "data": [
        {
         "colorbar": {
          "title": {
           "text": "GDP per Capita(USD)"
          }
         },
         "colorscale": [
          [
           0,
           "rgb(247,252,245)"
          ],
          [
           0.125,
           "rgb(229,245,224)"
          ],
          [
           0.25,
           "rgb(199,233,192)"
          ],
          [
           0.375,
           "rgb(161,217,155)"
          ],
          [
           0.5,
           "rgb(116,196,118)"
          ],
          [
           0.625,
           "rgb(65,171,93)"
          ],
          [
           0.75,
           "rgb(35,139,69)"
          ],
          [
           0.875,
           "rgb(0,109,44)"
          ],
          [
           1,
           "rgb(0,68,27)"
          ]
         ],
         "locationmode": "USA-states",
         "locations": [
          "AK",
          "AL",
          "AR",
          "AZ",
          "CA",
          "CO",
          "CT",
          "DE",
          "FL",
          "GA",
          "HI",
          "IA",
          "ID",
          "IL",
          "IN",
          "KS",
          "KY",
          "LA",
          "MA",
          "MD",
          "ME",
          "MI",
          "MN",
          "MO",
          "MS",
          "MT",
          "NC",
          "ND",
          "NE",
          "NH",
          "NJ",
          "NM",
          "NV",
          "NY",
          "OH",
          "OK",
          "OR",
          "PA",
          "RI",
          "SC",
          "SD",
          "TN",
          "TX",
          "UT",
          "VA",
          "VT",
          "WA",
          "WI",
          "WV",
          "WY"
         ],
         "type": "choropleth",
         "z": [
          73205,
          45219,
          42454,
          48055,
          74205,
          63882,
          76342,
          77253,
          48318,
          55832,
          64096,
          59977,
          43430,
          67268,
          55172,
          56334,
          46898,
          53589,
          82480,
          68573,
          47969,
          53209,
          64675,
          51699,
          37948,
          46609,
          54441,
          72597,
          63942,
          63067,
          69378,
          46954,
          55269,
          85746,
          57492,
          50613,
          56956,
          61594,
          57852,
          45280,
          58624,
          53933,
          61167,
          55550,
          62563,
          53523,
          74182,
          57720,
          43053,
          69900
         ]
        }
       ],
       "layout": {
        "geo": {
         "scope": "usa"
        },
        "template": {
         "data": {
          "bar": [
           {
            "error_x": {
             "color": "#2a3f5f"
            },
            "error_y": {
             "color": "#2a3f5f"
            },
            "marker": {
             "line": {
              "color": "#E5ECF6",
              "width": 0.5
             }
            },
            "type": "bar"
           }
          ],
          "barpolar": [
           {
            "marker": {
             "line": {
              "color": "#E5ECF6",
              "width": 0.5
             }
            },
            "type": "barpolar"
           }
          ],
          "carpet": [
           {
            "aaxis": {
             "endlinecolor": "#2a3f5f",
             "gridcolor": "white",
             "linecolor": "white",
             "minorgridcolor": "white",
             "startlinecolor": "#2a3f5f"
            },
            "baxis": {
             "endlinecolor": "#2a3f5f",
             "gridcolor": "white",
             "linecolor": "white",
             "minorgridcolor": "white",
             "startlinecolor": "#2a3f5f"
            },
            "type": "carpet"
           }
          ],
          "choropleth": [
           {
            "colorbar": {
             "outlinewidth": 0,
             "ticks": ""
            },
            "type": "choropleth"
           }
          ],
          "contour": [
           {
            "colorbar": {
             "outlinewidth": 0,
             "ticks": ""
            },
            "colorscale": [
             [
              0,
              "#0d0887"
             ],
             [
              0.1111111111111111,
              "#46039f"
             ],
             [
              0.2222222222222222,
              "#7201a8"
             ],
             [
              0.3333333333333333,
              "#9c179e"
             ],
             [
              0.4444444444444444,
              "#bd3786"
             ],
             [
              0.5555555555555556,
              "#d8576b"
             ],
             [
              0.6666666666666666,
              "#ed7953"
             ],
             [
              0.7777777777777778,
              "#fb9f3a"
             ],
             [
              0.8888888888888888,
              "#fdca26"
             ],
             [
              1,
              "#f0f921"
             ]
            ],
            "type": "contour"
           }
          ],
          "contourcarpet": [
           {
            "colorbar": {
             "outlinewidth": 0,
             "ticks": ""
            },
            "type": "contourcarpet"
           }
          ],
          "heatmap": [
           {
            "colorbar": {
             "outlinewidth": 0,
             "ticks": ""
            },
            "colorscale": [
             [
              0,
              "#0d0887"
             ],
             [
              0.1111111111111111,
              "#46039f"
             ],
             [
              0.2222222222222222,
              "#7201a8"
             ],
             [
              0.3333333333333333,
              "#9c179e"
             ],
             [
              0.4444444444444444,
              "#bd3786"
             ],
             [
              0.5555555555555556,
              "#d8576b"
             ],
             [
              0.6666666666666666,
              "#ed7953"
             ],
             [
              0.7777777777777778,
              "#fb9f3a"
             ],
             [
              0.8888888888888888,
              "#fdca26"
             ],
             [
              1,
              "#f0f921"
             ]
            ],
            "type": "heatmap"
           }
          ],
          "heatmapgl": [
           {
            "colorbar": {
             "outlinewidth": 0,
             "ticks": ""
            },
            "colorscale": [
             [
              0,
              "#0d0887"
             ],
             [
              0.1111111111111111,
              "#46039f"
             ],
             [
              0.2222222222222222,
              "#7201a8"
             ],
             [
              0.3333333333333333,
              "#9c179e"
             ],
             [
              0.4444444444444444,
              "#bd3786"
             ],
             [
              0.5555555555555556,
              "#d8576b"
             ],
             [
              0.6666666666666666,
              "#ed7953"
             ],
             [
              0.7777777777777778,
              "#fb9f3a"
             ],
             [
              0.8888888888888888,
              "#fdca26"
             ],
             [
              1,
              "#f0f921"
             ]
            ],
            "type": "heatmapgl"
           }
          ],
          "histogram": [
           {
            "marker": {
             "colorbar": {
              "outlinewidth": 0,
              "ticks": ""
             }
            },
            "type": "histogram"
           }
          ],
          "histogram2d": [
           {
            "colorbar": {
             "outlinewidth": 0,
             "ticks": ""
            },
            "colorscale": [
             [
              0,
              "#0d0887"
             ],
             [
              0.1111111111111111,
              "#46039f"
             ],
             [
              0.2222222222222222,
              "#7201a8"
             ],
             [
              0.3333333333333333,
              "#9c179e"
             ],
             [
              0.4444444444444444,
              "#bd3786"
             ],
             [
              0.5555555555555556,
              "#d8576b"
             ],
             [
              0.6666666666666666,
              "#ed7953"
             ],
             [
              0.7777777777777778,
              "#fb9f3a"
             ],
             [
              0.8888888888888888,
              "#fdca26"
             ],
             [
              1,
              "#f0f921"
             ]
            ],
            "type": "histogram2d"
           }
          ],
          "histogram2dcontour": [
           {
            "colorbar": {
             "outlinewidth": 0,
             "ticks": ""
            },
            "colorscale": [
             [
              0,
              "#0d0887"
             ],
             [
              0.1111111111111111,
              "#46039f"
             ],
             [
              0.2222222222222222,
              "#7201a8"
             ],
             [
              0.3333333333333333,
              "#9c179e"
             ],
             [
              0.4444444444444444,
              "#bd3786"
             ],
             [
              0.5555555555555556,
              "#d8576b"
             ],
             [
              0.6666666666666666,
              "#ed7953"
             ],
             [
              0.7777777777777778,
              "#fb9f3a"
             ],
             [
              0.8888888888888888,
              "#fdca26"
             ],
             [
              1,
              "#f0f921"
             ]
            ],
            "type": "histogram2dcontour"
           }
          ],
          "mesh3d": [
           {
            "colorbar": {
             "outlinewidth": 0,
             "ticks": ""
            },
            "type": "mesh3d"
           }
          ],
          "parcoords": [
           {
            "line": {
             "colorbar": {
              "outlinewidth": 0,
              "ticks": ""
             }
            },
            "type": "parcoords"
           }
          ],
          "pie": [
           {
            "automargin": true,
            "type": "pie"
           }
          ],
          "scatter": [
           {
            "marker": {
             "colorbar": {
              "outlinewidth": 0,
              "ticks": ""
             }
            },
            "type": "scatter"
           }
          ],
          "scatter3d": [
           {
            "line": {
             "colorbar": {
              "outlinewidth": 0,
              "ticks": ""
             }
            },
            "marker": {
             "colorbar": {
              "outlinewidth": 0,
              "ticks": ""
             }
            },
            "type": "scatter3d"
           }
          ],
          "scattercarpet": [
           {
            "marker": {
             "colorbar": {
              "outlinewidth": 0,
              "ticks": ""
             }
            },
            "type": "scattercarpet"
           }
          ],
          "scattergeo": [
           {
            "marker": {
             "colorbar": {
              "outlinewidth": 0,
              "ticks": ""
             }
            },
            "type": "scattergeo"
           }
          ],
          "scattergl": [
           {
            "marker": {
             "colorbar": {
              "outlinewidth": 0,
              "ticks": ""
             }
            },
            "type": "scattergl"
           }
          ],
          "scattermapbox": [
           {
            "marker": {
             "colorbar": {
              "outlinewidth": 0,
              "ticks": ""
             }
            },
            "type": "scattermapbox"
           }
          ],
          "scatterpolar": [
           {
            "marker": {
             "colorbar": {
              "outlinewidth": 0,
              "ticks": ""
             }
            },
            "type": "scatterpolar"
           }
          ],
          "scatterpolargl": [
           {
            "marker": {
             "colorbar": {
              "outlinewidth": 0,
              "ticks": ""
             }
            },
            "type": "scatterpolargl"
           }
          ],
          "scatterternary": [
           {
            "marker": {
             "colorbar": {
              "outlinewidth": 0,
              "ticks": ""
             }
            },
            "type": "scatterternary"
           }
          ],
          "surface": [
           {
            "colorbar": {
             "outlinewidth": 0,
             "ticks": ""
            },
            "colorscale": [
             [
              0,
              "#0d0887"
             ],
             [
              0.1111111111111111,
              "#46039f"
             ],
             [
              0.2222222222222222,
              "#7201a8"
             ],
             [
              0.3333333333333333,
              "#9c179e"
             ],
             [
              0.4444444444444444,
              "#bd3786"
             ],
             [
              0.5555555555555556,
              "#d8576b"
             ],
             [
              0.6666666666666666,
              "#ed7953"
             ],
             [
              0.7777777777777778,
              "#fb9f3a"
             ],
             [
              0.8888888888888888,
              "#fdca26"
             ],
             [
              1,
              "#f0f921"
             ]
            ],
            "type": "surface"
           }
          ],
          "table": [
           {
            "cells": {
             "fill": {
              "color": "#EBF0F8"
             },
             "line": {
              "color": "white"
             }
            },
            "header": {
             "fill": {
              "color": "#C8D4E3"
             },
             "line": {
              "color": "white"
             }
            },
            "type": "table"
           }
          ]
         },
         "layout": {
          "annotationdefaults": {
           "arrowcolor": "#2a3f5f",
           "arrowhead": 0,
           "arrowwidth": 1
          },
          "coloraxis": {
           "colorbar": {
            "outlinewidth": 0,
            "ticks": ""
           }
          },
          "colorscale": {
           "diverging": [
            [
             0,
             "#8e0152"
            ],
            [
             0.1,
             "#c51b7d"
            ],
            [
             0.2,
             "#de77ae"
            ],
            [
             0.3,
             "#f1b6da"
            ],
            [
             0.4,
             "#fde0ef"
            ],
            [
             0.5,
             "#f7f7f7"
            ],
            [
             0.6,
             "#e6f5d0"
            ],
            [
             0.7,
             "#b8e186"
            ],
            [
             0.8,
             "#7fbc41"
            ],
            [
             0.9,
             "#4d9221"
            ],
            [
             1,
             "#276419"
            ]
           ],
           "sequential": [
            [
             0,
             "#0d0887"
            ],
            [
             0.1111111111111111,
             "#46039f"
            ],
            [
             0.2222222222222222,
             "#7201a8"
            ],
            [
             0.3333333333333333,
             "#9c179e"
            ],
            [
             0.4444444444444444,
             "#bd3786"
            ],
            [
             0.5555555555555556,
             "#d8576b"
            ],
            [
             0.6666666666666666,
             "#ed7953"
            ],
            [
             0.7777777777777778,
             "#fb9f3a"
            ],
            [
             0.8888888888888888,
             "#fdca26"
            ],
            [
             1,
             "#f0f921"
            ]
           ],
           "sequentialminus": [
            [
             0,
             "#0d0887"
            ],
            [
             0.1111111111111111,
             "#46039f"
            ],
            [
             0.2222222222222222,
             "#7201a8"
            ],
            [
             0.3333333333333333,
             "#9c179e"
            ],
            [
             0.4444444444444444,
             "#bd3786"
            ],
            [
             0.5555555555555556,
             "#d8576b"
            ],
            [
             0.6666666666666666,
             "#ed7953"
            ],
            [
             0.7777777777777778,
             "#fb9f3a"
            ],
            [
             0.8888888888888888,
             "#fdca26"
            ],
            [
             1,
             "#f0f921"
            ]
           ]
          },
          "colorway": [
           "#636efa",
           "#EF553B",
           "#00cc96",
           "#ab63fa",
           "#FFA15A",
           "#19d3f3",
           "#FF6692",
           "#B6E880",
           "#FF97FF",
           "#FECB52"
          ],
          "font": {
           "color": "#2a3f5f"
          },
          "geo": {
           "bgcolor": "white",
           "lakecolor": "white",
           "landcolor": "#E5ECF6",
           "showlakes": true,
           "showland": true,
           "subunitcolor": "white"
          },
          "hoverlabel": {
           "align": "left"
          },
          "hovermode": "closest",
          "mapbox": {
           "style": "light"
          },
          "paper_bgcolor": "white",
          "plot_bgcolor": "#E5ECF6",
          "polar": {
           "angularaxis": {
            "gridcolor": "white",
            "linecolor": "white",
            "ticks": ""
           },
           "bgcolor": "#E5ECF6",
           "radialaxis": {
            "gridcolor": "white",
            "linecolor": "white",
            "ticks": ""
           }
          },
          "scene": {
           "xaxis": {
            "backgroundcolor": "#E5ECF6",
            "gridcolor": "white",
            "gridwidth": 2,
            "linecolor": "white",
            "showbackground": true,
            "ticks": "",
            "zerolinecolor": "white"
           },
           "yaxis": {
            "backgroundcolor": "#E5ECF6",
            "gridcolor": "white",
            "gridwidth": 2,
            "linecolor": "white",
            "showbackground": true,
            "ticks": "",
            "zerolinecolor": "white"
           },
           "zaxis": {
            "backgroundcolor": "#E5ECF6",
            "gridcolor": "white",
            "gridwidth": 2,
            "linecolor": "white",
            "showbackground": true,
            "ticks": "",
            "zerolinecolor": "white"
           }
          },
          "shapedefaults": {
           "line": {
            "color": "#2a3f5f"
           }
          },
          "ternary": {
           "aaxis": {
            "gridcolor": "white",
            "linecolor": "white",
            "ticks": ""
           },
           "baxis": {
            "gridcolor": "white",
            "linecolor": "white",
            "ticks": ""
           },
           "bgcolor": "#E5ECF6",
           "caxis": {
            "gridcolor": "white",
            "linecolor": "white",
            "ticks": ""
           }
          },
          "title": {
           "x": 0.05
          },
          "xaxis": {
           "automargin": true,
           "gridcolor": "white",
           "linecolor": "white",
           "ticks": "",
           "title": {
            "standoff": 15
           },
           "zerolinecolor": "white",
           "zerolinewidth": 2
          },
          "yaxis": {
           "automargin": true,
           "gridcolor": "white",
           "linecolor": "white",
           "ticks": "",
           "title": {
            "standoff": 15
           },
           "zerolinecolor": "white",
           "zerolinewidth": 2
          }
         }
        },
        "title": {
         "text": "2021 GDP per Capita by State"
        }
       }
      },
      "text/html": [
       "<div>\n",
       "        \n",
       "        \n",
       "            <div id=\"1c7cb12f-5519-4701-b84e-a2e9334d8d5e\" class=\"plotly-graph-div\" style=\"height:525px; width:100%;\"></div>\n",
       "            <script type=\"text/javascript\">\n",
       "                require([\"plotly\"], function(Plotly) {\n",
       "                    window.PLOTLYENV=window.PLOTLYENV || {};\n",
       "                    \n",
       "                if (document.getElementById(\"1c7cb12f-5519-4701-b84e-a2e9334d8d5e\")) {\n",
       "                    Plotly.newPlot(\n",
       "                        '1c7cb12f-5519-4701-b84e-a2e9334d8d5e',\n",
       "                        [{\"colorbar\": {\"title\": {\"text\": \"GDP per Capita(USD)\"}}, \"colorscale\": [[0.0, \"rgb(247,252,245)\"], [0.125, \"rgb(229,245,224)\"], [0.25, \"rgb(199,233,192)\"], [0.375, \"rgb(161,217,155)\"], [0.5, \"rgb(116,196,118)\"], [0.625, \"rgb(65,171,93)\"], [0.75, \"rgb(35,139,69)\"], [0.875, \"rgb(0,109,44)\"], [1.0, \"rgb(0,68,27)\"]], \"locationmode\": \"USA-states\", \"locations\": [\"AK\", \"AL\", \"AR\", \"AZ\", \"CA\", \"CO\", \"CT\", \"DE\", \"FL\", \"GA\", \"HI\", \"IA\", \"ID\", \"IL\", \"IN\", \"KS\", \"KY\", \"LA\", \"MA\", \"MD\", \"ME\", \"MI\", \"MN\", \"MO\", \"MS\", \"MT\", \"NC\", \"ND\", \"NE\", \"NH\", \"NJ\", \"NM\", \"NV\", \"NY\", \"OH\", \"OK\", \"OR\", \"PA\", \"RI\", \"SC\", \"SD\", \"TN\", \"TX\", \"UT\", \"VA\", \"VT\", \"WA\", \"WI\", \"WV\", \"WY\"], \"type\": \"choropleth\", \"z\": [73205.0, 45219.0, 42454.0, 48055.0, 74205.0, 63882.0, 76342.0, 77253.0, 48318.0, 55832.0, 64096.0, 59977.0, 43430.0, 67268.0, 55172.0, 56334.0, 46898.0, 53589.0, 82480.0, 68573.0, 47969.0, 53209.0, 64675.0, 51699.0, 37948.0, 46609.0, 54441.0, 72597.0, 63942.0, 63067.0, 69378.0, 46954.0, 55269.0, 85746.0, 57492.0, 50613.0, 56956.0, 61594.0, 57852.0, 45280.0, 58624.0, 53933.0, 61167.0, 55550.0, 62563.0, 53523.0, 74182.0, 57720.0, 43053.0, 69900.0]}],\n",
       "                        {\"geo\": {\"scope\": \"usa\"}, \"template\": {\"data\": {\"bar\": [{\"error_x\": {\"color\": \"#2a3f5f\"}, \"error_y\": {\"color\": \"#2a3f5f\"}, \"marker\": {\"line\": {\"color\": \"#E5ECF6\", \"width\": 0.5}}, \"type\": \"bar\"}], \"barpolar\": [{\"marker\": {\"line\": {\"color\": \"#E5ECF6\", \"width\": 0.5}}, \"type\": \"barpolar\"}], \"carpet\": [{\"aaxis\": {\"endlinecolor\": \"#2a3f5f\", \"gridcolor\": \"white\", \"linecolor\": \"white\", \"minorgridcolor\": \"white\", \"startlinecolor\": \"#2a3f5f\"}, \"baxis\": {\"endlinecolor\": \"#2a3f5f\", \"gridcolor\": \"white\", \"linecolor\": \"white\", \"minorgridcolor\": \"white\", \"startlinecolor\": \"#2a3f5f\"}, \"type\": \"carpet\"}], \"choropleth\": [{\"colorbar\": {\"outlinewidth\": 0, \"ticks\": \"\"}, \"type\": \"choropleth\"}], \"contour\": [{\"colorbar\": {\"outlinewidth\": 0, \"ticks\": \"\"}, \"colorscale\": [[0.0, \"#0d0887\"], [0.1111111111111111, \"#46039f\"], [0.2222222222222222, \"#7201a8\"], [0.3333333333333333, \"#9c179e\"], [0.4444444444444444, \"#bd3786\"], [0.5555555555555556, \"#d8576b\"], [0.6666666666666666, \"#ed7953\"], [0.7777777777777778, \"#fb9f3a\"], [0.8888888888888888, \"#fdca26\"], [1.0, \"#f0f921\"]], \"type\": \"contour\"}], \"contourcarpet\": [{\"colorbar\": {\"outlinewidth\": 0, \"ticks\": \"\"}, \"type\": \"contourcarpet\"}], \"heatmap\": [{\"colorbar\": {\"outlinewidth\": 0, \"ticks\": \"\"}, \"colorscale\": [[0.0, \"#0d0887\"], [0.1111111111111111, \"#46039f\"], [0.2222222222222222, \"#7201a8\"], [0.3333333333333333, \"#9c179e\"], [0.4444444444444444, \"#bd3786\"], [0.5555555555555556, \"#d8576b\"], [0.6666666666666666, \"#ed7953\"], [0.7777777777777778, \"#fb9f3a\"], [0.8888888888888888, \"#fdca26\"], [1.0, \"#f0f921\"]], \"type\": \"heatmap\"}], \"heatmapgl\": [{\"colorbar\": {\"outlinewidth\": 0, \"ticks\": \"\"}, \"colorscale\": [[0.0, \"#0d0887\"], [0.1111111111111111, \"#46039f\"], [0.2222222222222222, \"#7201a8\"], [0.3333333333333333, \"#9c179e\"], [0.4444444444444444, \"#bd3786\"], [0.5555555555555556, \"#d8576b\"], [0.6666666666666666, \"#ed7953\"], [0.7777777777777778, \"#fb9f3a\"], [0.8888888888888888, \"#fdca26\"], [1.0, \"#f0f921\"]], \"type\": \"heatmapgl\"}], \"histogram\": [{\"marker\": {\"colorbar\": {\"outlinewidth\": 0, \"ticks\": \"\"}}, \"type\": \"histogram\"}], \"histogram2d\": [{\"colorbar\": {\"outlinewidth\": 0, \"ticks\": \"\"}, \"colorscale\": [[0.0, \"#0d0887\"], [0.1111111111111111, \"#46039f\"], [0.2222222222222222, \"#7201a8\"], [0.3333333333333333, \"#9c179e\"], [0.4444444444444444, \"#bd3786\"], [0.5555555555555556, \"#d8576b\"], [0.6666666666666666, \"#ed7953\"], [0.7777777777777778, \"#fb9f3a\"], [0.8888888888888888, \"#fdca26\"], [1.0, \"#f0f921\"]], \"type\": \"histogram2d\"}], \"histogram2dcontour\": [{\"colorbar\": {\"outlinewidth\": 0, \"ticks\": \"\"}, \"colorscale\": [[0.0, \"#0d0887\"], [0.1111111111111111, \"#46039f\"], [0.2222222222222222, \"#7201a8\"], [0.3333333333333333, \"#9c179e\"], [0.4444444444444444, \"#bd3786\"], [0.5555555555555556, \"#d8576b\"], [0.6666666666666666, \"#ed7953\"], [0.7777777777777778, \"#fb9f3a\"], [0.8888888888888888, \"#fdca26\"], [1.0, \"#f0f921\"]], \"type\": \"histogram2dcontour\"}], \"mesh3d\": [{\"colorbar\": {\"outlinewidth\": 0, \"ticks\": \"\"}, \"type\": \"mesh3d\"}], \"parcoords\": [{\"line\": {\"colorbar\": {\"outlinewidth\": 0, \"ticks\": \"\"}}, \"type\": \"parcoords\"}], \"pie\": [{\"automargin\": true, \"type\": \"pie\"}], \"scatter\": [{\"marker\": {\"colorbar\": {\"outlinewidth\": 0, \"ticks\": \"\"}}, \"type\": \"scatter\"}], \"scatter3d\": [{\"line\": {\"colorbar\": {\"outlinewidth\": 0, \"ticks\": \"\"}}, \"marker\": {\"colorbar\": {\"outlinewidth\": 0, \"ticks\": \"\"}}, \"type\": \"scatter3d\"}], \"scattercarpet\": [{\"marker\": {\"colorbar\": {\"outlinewidth\": 0, \"ticks\": \"\"}}, \"type\": \"scattercarpet\"}], \"scattergeo\": [{\"marker\": {\"colorbar\": {\"outlinewidth\": 0, \"ticks\": \"\"}}, \"type\": \"scattergeo\"}], \"scattergl\": [{\"marker\": {\"colorbar\": {\"outlinewidth\": 0, \"ticks\": \"\"}}, \"type\": \"scattergl\"}], \"scattermapbox\": [{\"marker\": {\"colorbar\": {\"outlinewidth\": 0, \"ticks\": \"\"}}, \"type\": \"scattermapbox\"}], \"scatterpolar\": [{\"marker\": {\"colorbar\": {\"outlinewidth\": 0, \"ticks\": \"\"}}, \"type\": \"scatterpolar\"}], \"scatterpolargl\": [{\"marker\": {\"colorbar\": {\"outlinewidth\": 0, \"ticks\": \"\"}}, \"type\": \"scatterpolargl\"}], \"scatterternary\": [{\"marker\": {\"colorbar\": {\"outlinewidth\": 0, \"ticks\": \"\"}}, \"type\": \"scatterternary\"}], \"surface\": [{\"colorbar\": {\"outlinewidth\": 0, \"ticks\": \"\"}, \"colorscale\": [[0.0, \"#0d0887\"], [0.1111111111111111, \"#46039f\"], [0.2222222222222222, \"#7201a8\"], [0.3333333333333333, \"#9c179e\"], [0.4444444444444444, \"#bd3786\"], [0.5555555555555556, \"#d8576b\"], [0.6666666666666666, \"#ed7953\"], [0.7777777777777778, \"#fb9f3a\"], [0.8888888888888888, \"#fdca26\"], [1.0, \"#f0f921\"]], \"type\": \"surface\"}], \"table\": [{\"cells\": {\"fill\": {\"color\": \"#EBF0F8\"}, \"line\": {\"color\": \"white\"}}, \"header\": {\"fill\": {\"color\": \"#C8D4E3\"}, \"line\": {\"color\": \"white\"}}, \"type\": \"table\"}]}, \"layout\": {\"annotationdefaults\": {\"arrowcolor\": \"#2a3f5f\", \"arrowhead\": 0, \"arrowwidth\": 1}, \"coloraxis\": {\"colorbar\": {\"outlinewidth\": 0, \"ticks\": \"\"}}, \"colorscale\": {\"diverging\": [[0, \"#8e0152\"], [0.1, \"#c51b7d\"], [0.2, \"#de77ae\"], [0.3, \"#f1b6da\"], [0.4, \"#fde0ef\"], [0.5, \"#f7f7f7\"], [0.6, \"#e6f5d0\"], [0.7, \"#b8e186\"], [0.8, \"#7fbc41\"], [0.9, \"#4d9221\"], [1, \"#276419\"]], \"sequential\": [[0.0, \"#0d0887\"], [0.1111111111111111, \"#46039f\"], [0.2222222222222222, \"#7201a8\"], [0.3333333333333333, \"#9c179e\"], [0.4444444444444444, \"#bd3786\"], [0.5555555555555556, \"#d8576b\"], [0.6666666666666666, \"#ed7953\"], [0.7777777777777778, \"#fb9f3a\"], [0.8888888888888888, \"#fdca26\"], [1.0, \"#f0f921\"]], \"sequentialminus\": [[0.0, \"#0d0887\"], [0.1111111111111111, \"#46039f\"], [0.2222222222222222, \"#7201a8\"], [0.3333333333333333, \"#9c179e\"], [0.4444444444444444, \"#bd3786\"], [0.5555555555555556, \"#d8576b\"], [0.6666666666666666, \"#ed7953\"], [0.7777777777777778, \"#fb9f3a\"], [0.8888888888888888, \"#fdca26\"], [1.0, \"#f0f921\"]]}, \"colorway\": [\"#636efa\", \"#EF553B\", \"#00cc96\", \"#ab63fa\", \"#FFA15A\", \"#19d3f3\", \"#FF6692\", \"#B6E880\", \"#FF97FF\", \"#FECB52\"], \"font\": {\"color\": \"#2a3f5f\"}, \"geo\": {\"bgcolor\": \"white\", \"lakecolor\": \"white\", \"landcolor\": \"#E5ECF6\", \"showlakes\": true, \"showland\": true, \"subunitcolor\": \"white\"}, \"hoverlabel\": {\"align\": \"left\"}, \"hovermode\": \"closest\", \"mapbox\": {\"style\": \"light\"}, \"paper_bgcolor\": \"white\", \"plot_bgcolor\": \"#E5ECF6\", \"polar\": {\"angularaxis\": {\"gridcolor\": \"white\", \"linecolor\": \"white\", \"ticks\": \"\"}, \"bgcolor\": \"#E5ECF6\", \"radialaxis\": {\"gridcolor\": \"white\", \"linecolor\": \"white\", \"ticks\": \"\"}}, \"scene\": {\"xaxis\": {\"backgroundcolor\": \"#E5ECF6\", \"gridcolor\": \"white\", \"gridwidth\": 2, \"linecolor\": \"white\", \"showbackground\": true, \"ticks\": \"\", \"zerolinecolor\": \"white\"}, \"yaxis\": {\"backgroundcolor\": \"#E5ECF6\", \"gridcolor\": \"white\", \"gridwidth\": 2, \"linecolor\": \"white\", \"showbackground\": true, \"ticks\": \"\", \"zerolinecolor\": \"white\"}, \"zaxis\": {\"backgroundcolor\": \"#E5ECF6\", \"gridcolor\": \"white\", \"gridwidth\": 2, \"linecolor\": \"white\", \"showbackground\": true, \"ticks\": \"\", \"zerolinecolor\": \"white\"}}, \"shapedefaults\": {\"line\": {\"color\": \"#2a3f5f\"}}, \"ternary\": {\"aaxis\": {\"gridcolor\": \"white\", \"linecolor\": \"white\", \"ticks\": \"\"}, \"baxis\": {\"gridcolor\": \"white\", \"linecolor\": \"white\", \"ticks\": \"\"}, \"bgcolor\": \"#E5ECF6\", \"caxis\": {\"gridcolor\": \"white\", \"linecolor\": \"white\", \"ticks\": \"\"}}, \"title\": {\"x\": 0.05}, \"xaxis\": {\"automargin\": true, \"gridcolor\": \"white\", \"linecolor\": \"white\", \"ticks\": \"\", \"title\": {\"standoff\": 15}, \"zerolinecolor\": \"white\", \"zerolinewidth\": 2}, \"yaxis\": {\"automargin\": true, \"gridcolor\": \"white\", \"linecolor\": \"white\", \"ticks\": \"\", \"title\": {\"standoff\": 15}, \"zerolinecolor\": \"white\", \"zerolinewidth\": 2}}}, \"title\": {\"text\": \"2021 GDP per Capita by State\"}},\n",
       "                        {\"responsive\": true}\n",
       "                    ).then(function(){\n",
       "                            \n",
       "var gd = document.getElementById('1c7cb12f-5519-4701-b84e-a2e9334d8d5e');\n",
       "var x = new MutationObserver(function (mutations, observer) {{\n",
       "        var display = window.getComputedStyle(gd).display;\n",
       "        if (!display || display === 'none') {{\n",
       "            console.log([gd, 'removed!']);\n",
       "            Plotly.purge(gd);\n",
       "            observer.disconnect();\n",
       "        }}\n",
       "}});\n",
       "\n",
       "// Listen for the removal of the full notebook cells\n",
       "var notebookContainer = gd.closest('#notebook-container');\n",
       "if (notebookContainer) {{\n",
       "    x.observe(notebookContainer, {childList: true});\n",
       "}}\n",
       "\n",
       "// Listen for the clearing of the current output cell\n",
       "var outputEl = gd.closest('.output');\n",
       "if (outputEl) {{\n",
       "    x.observe(outputEl, {childList: true});\n",
       "}}\n",
       "\n",
       "                        })\n",
       "                };\n",
       "                });\n",
       "            </script>\n",
       "        </div>"
      ]
     },
     "metadata": {},
     "output_type": "display_data"
    }
   ],
   "source": [
    "df2 = df.loc[df[\"State Code\"]!= \"DC\"]\n",
    "\n",
    "fig = go.Figure(data=go.Choropleth(\n",
    "    locations=df2['State Code'], # Spatial coordinates\n",
    "    z = df2['GDP per capita'].astype(float), # Data to be color-coded\n",
    "    locationmode = 'USA-states', # set of locations match entries in `locations`\n",
    "    colorscale = 'greens',\n",
    "    colorbar_title = \"GDP per Capita(USD)\",\n",
    "))\n",
    "\n",
    "fig.update_layout(\n",
    "    title_text = '2021 GDP per Capita by State',\n",
    "    geo_scope='usa', # limite map scope to USA\n",
    ")\n",
    "\n",
    "fig.show()"
   ]
  },
  {
   "cell_type": "code",
   "execution_count": 5,
   "metadata": {},
   "outputs": [
    {
     "data": {
      "application/vnd.plotly.v1+json": {
       "config": {
        "plotlyServerURL": "https://plot.ly"
       },
       "data": [
        {
         "colorbar": {
          "title": {
           "text": "GDP per Capita(USD)"
          }
         },
         "colorscale": [
          [
           0,
           "rgb(255,255,255)"
          ],
          [
           0.125,
           "rgb(240,240,240)"
          ],
          [
           0.25,
           "rgb(217,217,217)"
          ],
          [
           0.375,
           "rgb(189,189,189)"
          ],
          [
           0.5,
           "rgb(150,150,150)"
          ],
          [
           0.625,
           "rgb(115,115,115)"
          ],
          [
           0.75,
           "rgb(82,82,82)"
          ],
          [
           0.875,
           "rgb(37,37,37)"
          ],
          [
           1,
           "rgb(0,0,0)"
          ]
         ],
         "locationmode": "USA-states",
         "locations": [
          "AK",
          "AL",
          "AR",
          "AZ",
          "CA",
          "CO",
          "CT",
          "DC",
          "DE",
          "FL",
          "GA",
          "HI",
          "IA",
          "ID",
          "IL",
          "IN",
          "KS",
          "KY",
          "LA",
          "MA",
          "MD",
          "ME",
          "MI",
          "MN",
          "MO",
          "MS",
          "MT",
          "NC",
          "ND",
          "NE",
          "NH",
          "NJ",
          "NM",
          "NV",
          "NY",
          "OH",
          "OK",
          "OR",
          "PA",
          "RI",
          "SC",
          "SD",
          "TN",
          "TX",
          "UT",
          "VA",
          "VT",
          "WA",
          "WI",
          "WV",
          "WY"
         ],
         "type": "choropleth",
         "z": [
          804505,
          5056073,
          2833697,
          5964434,
          30795141,
          5259960,
          2826350,
          346016,
          970733,
          16959269,
          8442325,
          1259541,
          3750077,
          1835903,
          10890760,
          6170034,
          2717873,
          4293205,
          3906812,
          5065221,
          4357598,
          1094388,
          8518097,
          5682653,
          5568736,
          2057476,
          1863918,
          8070717,
          1056758,
          1965105,
          1319117,
          6057711,
          1740002,
          2455442,
          10857455,
          10809247,
          3744178,
          4103451,
          10689206,
          872814,
          4404100,
          1258356,
          5800489,
          22130765,
          2355773,
          7514484,
          621608,
          7256196,
          5596635,
          1691237,
          819257
         ]
        }
       ],
       "layout": {
        "geo": {
         "scope": "usa"
        },
        "template": {
         "data": {
          "bar": [
           {
            "error_x": {
             "color": "#2a3f5f"
            },
            "error_y": {
             "color": "#2a3f5f"
            },
            "marker": {
             "line": {
              "color": "#E5ECF6",
              "width": 0.5
             }
            },
            "type": "bar"
           }
          ],
          "barpolar": [
           {
            "marker": {
             "line": {
              "color": "#E5ECF6",
              "width": 0.5
             }
            },
            "type": "barpolar"
           }
          ],
          "carpet": [
           {
            "aaxis": {
             "endlinecolor": "#2a3f5f",
             "gridcolor": "white",
             "linecolor": "white",
             "minorgridcolor": "white",
             "startlinecolor": "#2a3f5f"
            },
            "baxis": {
             "endlinecolor": "#2a3f5f",
             "gridcolor": "white",
             "linecolor": "white",
             "minorgridcolor": "white",
             "startlinecolor": "#2a3f5f"
            },
            "type": "carpet"
           }
          ],
          "choropleth": [
           {
            "colorbar": {
             "outlinewidth": 0,
             "ticks": ""
            },
            "type": "choropleth"
           }
          ],
          "contour": [
           {
            "colorbar": {
             "outlinewidth": 0,
             "ticks": ""
            },
            "colorscale": [
             [
              0,
              "#0d0887"
             ],
             [
              0.1111111111111111,
              "#46039f"
             ],
             [
              0.2222222222222222,
              "#7201a8"
             ],
             [
              0.3333333333333333,
              "#9c179e"
             ],
             [
              0.4444444444444444,
              "#bd3786"
             ],
             [
              0.5555555555555556,
              "#d8576b"
             ],
             [
              0.6666666666666666,
              "#ed7953"
             ],
             [
              0.7777777777777778,
              "#fb9f3a"
             ],
             [
              0.8888888888888888,
              "#fdca26"
             ],
             [
              1,
              "#f0f921"
             ]
            ],
            "type": "contour"
           }
          ],
          "contourcarpet": [
           {
            "colorbar": {
             "outlinewidth": 0,
             "ticks": ""
            },
            "type": "contourcarpet"
           }
          ],
          "heatmap": [
           {
            "colorbar": {
             "outlinewidth": 0,
             "ticks": ""
            },
            "colorscale": [
             [
              0,
              "#0d0887"
             ],
             [
              0.1111111111111111,
              "#46039f"
             ],
             [
              0.2222222222222222,
              "#7201a8"
             ],
             [
              0.3333333333333333,
              "#9c179e"
             ],
             [
              0.4444444444444444,
              "#bd3786"
             ],
             [
              0.5555555555555556,
              "#d8576b"
             ],
             [
              0.6666666666666666,
              "#ed7953"
             ],
             [
              0.7777777777777778,
              "#fb9f3a"
             ],
             [
              0.8888888888888888,
              "#fdca26"
             ],
             [
              1,
              "#f0f921"
             ]
            ],
            "type": "heatmap"
           }
          ],
          "heatmapgl": [
           {
            "colorbar": {
             "outlinewidth": 0,
             "ticks": ""
            },
            "colorscale": [
             [
              0,
              "#0d0887"
             ],
             [
              0.1111111111111111,
              "#46039f"
             ],
             [
              0.2222222222222222,
              "#7201a8"
             ],
             [
              0.3333333333333333,
              "#9c179e"
             ],
             [
              0.4444444444444444,
              "#bd3786"
             ],
             [
              0.5555555555555556,
              "#d8576b"
             ],
             [
              0.6666666666666666,
              "#ed7953"
             ],
             [
              0.7777777777777778,
              "#fb9f3a"
             ],
             [
              0.8888888888888888,
              "#fdca26"
             ],
             [
              1,
              "#f0f921"
             ]
            ],
            "type": "heatmapgl"
           }
          ],
          "histogram": [
           {
            "marker": {
             "colorbar": {
              "outlinewidth": 0,
              "ticks": ""
             }
            },
            "type": "histogram"
           }
          ],
          "histogram2d": [
           {
            "colorbar": {
             "outlinewidth": 0,
             "ticks": ""
            },
            "colorscale": [
             [
              0,
              "#0d0887"
             ],
             [
              0.1111111111111111,
              "#46039f"
             ],
             [
              0.2222222222222222,
              "#7201a8"
             ],
             [
              0.3333333333333333,
              "#9c179e"
             ],
             [
              0.4444444444444444,
              "#bd3786"
             ],
             [
              0.5555555555555556,
              "#d8576b"
             ],
             [
              0.6666666666666666,
              "#ed7953"
             ],
             [
              0.7777777777777778,
              "#fb9f3a"
             ],
             [
              0.8888888888888888,
              "#fdca26"
             ],
             [
              1,
              "#f0f921"
             ]
            ],
            "type": "histogram2d"
           }
          ],
          "histogram2dcontour": [
           {
            "colorbar": {
             "outlinewidth": 0,
             "ticks": ""
            },
            "colorscale": [
             [
              0,
              "#0d0887"
             ],
             [
              0.1111111111111111,
              "#46039f"
             ],
             [
              0.2222222222222222,
              "#7201a8"
             ],
             [
              0.3333333333333333,
              "#9c179e"
             ],
             [
              0.4444444444444444,
              "#bd3786"
             ],
             [
              0.5555555555555556,
              "#d8576b"
             ],
             [
              0.6666666666666666,
              "#ed7953"
             ],
             [
              0.7777777777777778,
              "#fb9f3a"
             ],
             [
              0.8888888888888888,
              "#fdca26"
             ],
             [
              1,
              "#f0f921"
             ]
            ],
            "type": "histogram2dcontour"
           }
          ],
          "mesh3d": [
           {
            "colorbar": {
             "outlinewidth": 0,
             "ticks": ""
            },
            "type": "mesh3d"
           }
          ],
          "parcoords": [
           {
            "line": {
             "colorbar": {
              "outlinewidth": 0,
              "ticks": ""
             }
            },
            "type": "parcoords"
           }
          ],
          "pie": [
           {
            "automargin": true,
            "type": "pie"
           }
          ],
          "scatter": [
           {
            "marker": {
             "colorbar": {
              "outlinewidth": 0,
              "ticks": ""
             }
            },
            "type": "scatter"
           }
          ],
          "scatter3d": [
           {
            "line": {
             "colorbar": {
              "outlinewidth": 0,
              "ticks": ""
             }
            },
            "marker": {
             "colorbar": {
              "outlinewidth": 0,
              "ticks": ""
             }
            },
            "type": "scatter3d"
           }
          ],
          "scattercarpet": [
           {
            "marker": {
             "colorbar": {
              "outlinewidth": 0,
              "ticks": ""
             }
            },
            "type": "scattercarpet"
           }
          ],
          "scattergeo": [
           {
            "marker": {
             "colorbar": {
              "outlinewidth": 0,
              "ticks": ""
             }
            },
            "type": "scattergeo"
           }
          ],
          "scattergl": [
           {
            "marker": {
             "colorbar": {
              "outlinewidth": 0,
              "ticks": ""
             }
            },
            "type": "scattergl"
           }
          ],
          "scattermapbox": [
           {
            "marker": {
             "colorbar": {
              "outlinewidth": 0,
              "ticks": ""
             }
            },
            "type": "scattermapbox"
           }
          ],
          "scatterpolar": [
           {
            "marker": {
             "colorbar": {
              "outlinewidth": 0,
              "ticks": ""
             }
            },
            "type": "scatterpolar"
           }
          ],
          "scatterpolargl": [
           {
            "marker": {
             "colorbar": {
              "outlinewidth": 0,
              "ticks": ""
             }
            },
            "type": "scatterpolargl"
           }
          ],
          "scatterternary": [
           {
            "marker": {
             "colorbar": {
              "outlinewidth": 0,
              "ticks": ""
             }
            },
            "type": "scatterternary"
           }
          ],
          "surface": [
           {
            "colorbar": {
             "outlinewidth": 0,
             "ticks": ""
            },
            "colorscale": [
             [
              0,
              "#0d0887"
             ],
             [
              0.1111111111111111,
              "#46039f"
             ],
             [
              0.2222222222222222,
              "#7201a8"
             ],
             [
              0.3333333333333333,
              "#9c179e"
             ],
             [
              0.4444444444444444,
              "#bd3786"
             ],
             [
              0.5555555555555556,
              "#d8576b"
             ],
             [
              0.6666666666666666,
              "#ed7953"
             ],
             [
              0.7777777777777778,
              "#fb9f3a"
             ],
             [
              0.8888888888888888,
              "#fdca26"
             ],
             [
              1,
              "#f0f921"
             ]
            ],
            "type": "surface"
           }
          ],
          "table": [
           {
            "cells": {
             "fill": {
              "color": "#EBF0F8"
             },
             "line": {
              "color": "white"
             }
            },
            "header": {
             "fill": {
              "color": "#C8D4E3"
             },
             "line": {
              "color": "white"
             }
            },
            "type": "table"
           }
          ]
         },
         "layout": {
          "annotationdefaults": {
           "arrowcolor": "#2a3f5f",
           "arrowhead": 0,
           "arrowwidth": 1
          },
          "coloraxis": {
           "colorbar": {
            "outlinewidth": 0,
            "ticks": ""
           }
          },
          "colorscale": {
           "diverging": [
            [
             0,
             "#8e0152"
            ],
            [
             0.1,
             "#c51b7d"
            ],
            [
             0.2,
             "#de77ae"
            ],
            [
             0.3,
             "#f1b6da"
            ],
            [
             0.4,
             "#fde0ef"
            ],
            [
             0.5,
             "#f7f7f7"
            ],
            [
             0.6,
             "#e6f5d0"
            ],
            [
             0.7,
             "#b8e186"
            ],
            [
             0.8,
             "#7fbc41"
            ],
            [
             0.9,
             "#4d9221"
            ],
            [
             1,
             "#276419"
            ]
           ],
           "sequential": [
            [
             0,
             "#0d0887"
            ],
            [
             0.1111111111111111,
             "#46039f"
            ],
            [
             0.2222222222222222,
             "#7201a8"
            ],
            [
             0.3333333333333333,
             "#9c179e"
            ],
            [
             0.4444444444444444,
             "#bd3786"
            ],
            [
             0.5555555555555556,
             "#d8576b"
            ],
            [
             0.6666666666666666,
             "#ed7953"
            ],
            [
             0.7777777777777778,
             "#fb9f3a"
            ],
            [
             0.8888888888888888,
             "#fdca26"
            ],
            [
             1,
             "#f0f921"
            ]
           ],
           "sequentialminus": [
            [
             0,
             "#0d0887"
            ],
            [
             0.1111111111111111,
             "#46039f"
            ],
            [
             0.2222222222222222,
             "#7201a8"
            ],
            [
             0.3333333333333333,
             "#9c179e"
            ],
            [
             0.4444444444444444,
             "#bd3786"
            ],
            [
             0.5555555555555556,
             "#d8576b"
            ],
            [
             0.6666666666666666,
             "#ed7953"
            ],
            [
             0.7777777777777778,
             "#fb9f3a"
            ],
            [
             0.8888888888888888,
             "#fdca26"
            ],
            [
             1,
             "#f0f921"
            ]
           ]
          },
          "colorway": [
           "#636efa",
           "#EF553B",
           "#00cc96",
           "#ab63fa",
           "#FFA15A",
           "#19d3f3",
           "#FF6692",
           "#B6E880",
           "#FF97FF",
           "#FECB52"
          ],
          "font": {
           "color": "#2a3f5f"
          },
          "geo": {
           "bgcolor": "white",
           "lakecolor": "white",
           "landcolor": "#E5ECF6",
           "showlakes": true,
           "showland": true,
           "subunitcolor": "white"
          },
          "hoverlabel": {
           "align": "left"
          },
          "hovermode": "closest",
          "mapbox": {
           "style": "light"
          },
          "paper_bgcolor": "white",
          "plot_bgcolor": "#E5ECF6",
          "polar": {
           "angularaxis": {
            "gridcolor": "white",
            "linecolor": "white",
            "ticks": ""
           },
           "bgcolor": "#E5ECF6",
           "radialaxis": {
            "gridcolor": "white",
            "linecolor": "white",
            "ticks": ""
           }
          },
          "scene": {
           "xaxis": {
            "backgroundcolor": "#E5ECF6",
            "gridcolor": "white",
            "gridwidth": 2,
            "linecolor": "white",
            "showbackground": true,
            "ticks": "",
            "zerolinecolor": "white"
           },
           "yaxis": {
            "backgroundcolor": "#E5ECF6",
            "gridcolor": "white",
            "gridwidth": 2,
            "linecolor": "white",
            "showbackground": true,
            "ticks": "",
            "zerolinecolor": "white"
           },
           "zaxis": {
            "backgroundcolor": "#E5ECF6",
            "gridcolor": "white",
            "gridwidth": 2,
            "linecolor": "white",
            "showbackground": true,
            "ticks": "",
            "zerolinecolor": "white"
           }
          },
          "shapedefaults": {
           "line": {
            "color": "#2a3f5f"
           }
          },
          "ternary": {
           "aaxis": {
            "gridcolor": "white",
            "linecolor": "white",
            "ticks": ""
           },
           "baxis": {
            "gridcolor": "white",
            "linecolor": "white",
            "ticks": ""
           },
           "bgcolor": "#E5ECF6",
           "caxis": {
            "gridcolor": "white",
            "linecolor": "white",
            "ticks": ""
           }
          },
          "title": {
           "x": 0.05
          },
          "xaxis": {
           "automargin": true,
           "gridcolor": "white",
           "linecolor": "white",
           "ticks": "",
           "title": {
            "standoff": 15
           },
           "zerolinecolor": "white",
           "zerolinewidth": 2
          },
          "yaxis": {
           "automargin": true,
           "gridcolor": "white",
           "linecolor": "white",
           "ticks": "",
           "title": {
            "standoff": 15
           },
           "zerolinecolor": "white",
           "zerolinewidth": 2
          }
         }
        },
        "title": {
         "text": "2021 GDP per Capita by State"
        }
       }
      },
      "text/html": [
       "<div>\n",
       "        \n",
       "        \n",
       "            <div id=\"933a9447-b8a2-43ce-86db-197cf5fbe45f\" class=\"plotly-graph-div\" style=\"height:525px; width:100%;\"></div>\n",
       "            <script type=\"text/javascript\">\n",
       "                require([\"plotly\"], function(Plotly) {\n",
       "                    window.PLOTLYENV=window.PLOTLYENV || {};\n",
       "                    \n",
       "                if (document.getElementById(\"933a9447-b8a2-43ce-86db-197cf5fbe45f\")) {\n",
       "                    Plotly.newPlot(\n",
       "                        '933a9447-b8a2-43ce-86db-197cf5fbe45f',\n",
       "                        [{\"colorbar\": {\"title\": {\"text\": \"GDP per Capita(USD)\"}}, \"colorscale\": [[0.0, \"rgb(255,255,255)\"], [0.125, \"rgb(240,240,240)\"], [0.25, \"rgb(217,217,217)\"], [0.375, \"rgb(189,189,189)\"], [0.5, \"rgb(150,150,150)\"], [0.625, \"rgb(115,115,115)\"], [0.75, \"rgb(82,82,82)\"], [0.875, \"rgb(37,37,37)\"], [1.0, \"rgb(0,0,0)\"]], \"locationmode\": \"USA-states\", \"locations\": [\"AK\", \"AL\", \"AR\", \"AZ\", \"CA\", \"CO\", \"CT\", \"DC\", \"DE\", \"FL\", \"GA\", \"HI\", \"IA\", \"ID\", \"IL\", \"IN\", \"KS\", \"KY\", \"LA\", \"MA\", \"MD\", \"ME\", \"MI\", \"MN\", \"MO\", \"MS\", \"MT\", \"NC\", \"ND\", \"NE\", \"NH\", \"NJ\", \"NM\", \"NV\", \"NY\", \"OH\", \"OK\", \"OR\", \"PA\", \"RI\", \"SC\", \"SD\", \"TN\", \"TX\", \"UT\", \"VA\", \"VT\", \"WA\", \"WI\", \"WV\", \"WY\"], \"type\": \"choropleth\", \"z\": [804505.0, 5056073.0, 2833697.0, 5964434.0, 30795141.0, 5259960.0, 2826350.0, 346016.0, 970733.0, 16959269.0, 8442325.0, 1259541.0, 3750077.0, 1835903.0, 10890760.0, 6170034.0, 2717873.0, 4293205.0, 3906812.0, 5065221.0, 4357598.0, 1094388.0, 8518097.0, 5682653.0, 5568736.0, 2057476.0, 1863918.0, 8070717.0, 1056758.0, 1965105.0, 1319117.0, 6057711.0, 1740002.0, 2455442.0, 10857455.0, 10809247.0, 3744178.0, 4103451.0, 10689206.0, 872814.0, 4404100.0, 1258356.0, 5800489.0, 22130765.0, 2355773.0, 7514484.0, 621608.0, 7256196.0, 5596635.0, 1691237.0, 819257.0]}],\n",
       "                        {\"geo\": {\"scope\": \"usa\"}, \"template\": {\"data\": {\"bar\": [{\"error_x\": {\"color\": \"#2a3f5f\"}, \"error_y\": {\"color\": \"#2a3f5f\"}, \"marker\": {\"line\": {\"color\": \"#E5ECF6\", \"width\": 0.5}}, \"type\": \"bar\"}], \"barpolar\": [{\"marker\": {\"line\": {\"color\": \"#E5ECF6\", \"width\": 0.5}}, \"type\": \"barpolar\"}], \"carpet\": [{\"aaxis\": {\"endlinecolor\": \"#2a3f5f\", \"gridcolor\": \"white\", \"linecolor\": \"white\", \"minorgridcolor\": \"white\", \"startlinecolor\": \"#2a3f5f\"}, \"baxis\": {\"endlinecolor\": \"#2a3f5f\", \"gridcolor\": \"white\", \"linecolor\": \"white\", \"minorgridcolor\": \"white\", \"startlinecolor\": \"#2a3f5f\"}, \"type\": \"carpet\"}], \"choropleth\": [{\"colorbar\": {\"outlinewidth\": 0, \"ticks\": \"\"}, \"type\": \"choropleth\"}], \"contour\": [{\"colorbar\": {\"outlinewidth\": 0, \"ticks\": \"\"}, \"colorscale\": [[0.0, \"#0d0887\"], [0.1111111111111111, \"#46039f\"], [0.2222222222222222, \"#7201a8\"], [0.3333333333333333, \"#9c179e\"], [0.4444444444444444, \"#bd3786\"], [0.5555555555555556, \"#d8576b\"], [0.6666666666666666, \"#ed7953\"], [0.7777777777777778, \"#fb9f3a\"], [0.8888888888888888, \"#fdca26\"], [1.0, \"#f0f921\"]], \"type\": \"contour\"}], \"contourcarpet\": [{\"colorbar\": {\"outlinewidth\": 0, \"ticks\": \"\"}, \"type\": \"contourcarpet\"}], \"heatmap\": [{\"colorbar\": {\"outlinewidth\": 0, \"ticks\": \"\"}, \"colorscale\": [[0.0, \"#0d0887\"], [0.1111111111111111, \"#46039f\"], [0.2222222222222222, \"#7201a8\"], [0.3333333333333333, \"#9c179e\"], [0.4444444444444444, \"#bd3786\"], [0.5555555555555556, \"#d8576b\"], [0.6666666666666666, \"#ed7953\"], [0.7777777777777778, \"#fb9f3a\"], [0.8888888888888888, \"#fdca26\"], [1.0, \"#f0f921\"]], \"type\": \"heatmap\"}], \"heatmapgl\": [{\"colorbar\": {\"outlinewidth\": 0, \"ticks\": \"\"}, \"colorscale\": [[0.0, \"#0d0887\"], [0.1111111111111111, \"#46039f\"], [0.2222222222222222, \"#7201a8\"], [0.3333333333333333, \"#9c179e\"], [0.4444444444444444, \"#bd3786\"], [0.5555555555555556, \"#d8576b\"], [0.6666666666666666, \"#ed7953\"], [0.7777777777777778, \"#fb9f3a\"], [0.8888888888888888, \"#fdca26\"], [1.0, \"#f0f921\"]], \"type\": \"heatmapgl\"}], \"histogram\": [{\"marker\": {\"colorbar\": {\"outlinewidth\": 0, \"ticks\": \"\"}}, \"type\": \"histogram\"}], \"histogram2d\": [{\"colorbar\": {\"outlinewidth\": 0, \"ticks\": \"\"}, \"colorscale\": [[0.0, \"#0d0887\"], [0.1111111111111111, \"#46039f\"], [0.2222222222222222, \"#7201a8\"], [0.3333333333333333, \"#9c179e\"], [0.4444444444444444, \"#bd3786\"], [0.5555555555555556, \"#d8576b\"], [0.6666666666666666, \"#ed7953\"], [0.7777777777777778, \"#fb9f3a\"], [0.8888888888888888, \"#fdca26\"], [1.0, \"#f0f921\"]], \"type\": \"histogram2d\"}], \"histogram2dcontour\": [{\"colorbar\": {\"outlinewidth\": 0, \"ticks\": \"\"}, \"colorscale\": [[0.0, \"#0d0887\"], [0.1111111111111111, \"#46039f\"], [0.2222222222222222, \"#7201a8\"], [0.3333333333333333, \"#9c179e\"], [0.4444444444444444, \"#bd3786\"], [0.5555555555555556, \"#d8576b\"], [0.6666666666666666, \"#ed7953\"], [0.7777777777777778, \"#fb9f3a\"], [0.8888888888888888, \"#fdca26\"], [1.0, \"#f0f921\"]], \"type\": \"histogram2dcontour\"}], \"mesh3d\": [{\"colorbar\": {\"outlinewidth\": 0, \"ticks\": \"\"}, \"type\": \"mesh3d\"}], \"parcoords\": [{\"line\": {\"colorbar\": {\"outlinewidth\": 0, \"ticks\": \"\"}}, \"type\": \"parcoords\"}], \"pie\": [{\"automargin\": true, \"type\": \"pie\"}], \"scatter\": [{\"marker\": {\"colorbar\": {\"outlinewidth\": 0, \"ticks\": \"\"}}, \"type\": \"scatter\"}], \"scatter3d\": [{\"line\": {\"colorbar\": {\"outlinewidth\": 0, \"ticks\": \"\"}}, \"marker\": {\"colorbar\": {\"outlinewidth\": 0, \"ticks\": \"\"}}, \"type\": \"scatter3d\"}], \"scattercarpet\": [{\"marker\": {\"colorbar\": {\"outlinewidth\": 0, \"ticks\": \"\"}}, \"type\": \"scattercarpet\"}], \"scattergeo\": [{\"marker\": {\"colorbar\": {\"outlinewidth\": 0, \"ticks\": \"\"}}, \"type\": \"scattergeo\"}], \"scattergl\": [{\"marker\": {\"colorbar\": {\"outlinewidth\": 0, \"ticks\": \"\"}}, \"type\": \"scattergl\"}], \"scattermapbox\": [{\"marker\": {\"colorbar\": {\"outlinewidth\": 0, \"ticks\": \"\"}}, \"type\": \"scattermapbox\"}], \"scatterpolar\": [{\"marker\": {\"colorbar\": {\"outlinewidth\": 0, \"ticks\": \"\"}}, \"type\": \"scatterpolar\"}], \"scatterpolargl\": [{\"marker\": {\"colorbar\": {\"outlinewidth\": 0, \"ticks\": \"\"}}, \"type\": \"scatterpolargl\"}], \"scatterternary\": [{\"marker\": {\"colorbar\": {\"outlinewidth\": 0, \"ticks\": \"\"}}, \"type\": \"scatterternary\"}], \"surface\": [{\"colorbar\": {\"outlinewidth\": 0, \"ticks\": \"\"}, \"colorscale\": [[0.0, \"#0d0887\"], [0.1111111111111111, \"#46039f\"], [0.2222222222222222, \"#7201a8\"], [0.3333333333333333, \"#9c179e\"], [0.4444444444444444, \"#bd3786\"], [0.5555555555555556, \"#d8576b\"], [0.6666666666666666, \"#ed7953\"], [0.7777777777777778, \"#fb9f3a\"], [0.8888888888888888, \"#fdca26\"], [1.0, \"#f0f921\"]], \"type\": \"surface\"}], \"table\": [{\"cells\": {\"fill\": {\"color\": \"#EBF0F8\"}, \"line\": {\"color\": \"white\"}}, \"header\": {\"fill\": {\"color\": \"#C8D4E3\"}, \"line\": {\"color\": \"white\"}}, \"type\": \"table\"}]}, \"layout\": {\"annotationdefaults\": {\"arrowcolor\": \"#2a3f5f\", \"arrowhead\": 0, \"arrowwidth\": 1}, \"coloraxis\": {\"colorbar\": {\"outlinewidth\": 0, \"ticks\": \"\"}}, \"colorscale\": {\"diverging\": [[0, \"#8e0152\"], [0.1, \"#c51b7d\"], [0.2, \"#de77ae\"], [0.3, \"#f1b6da\"], [0.4, \"#fde0ef\"], [0.5, \"#f7f7f7\"], [0.6, \"#e6f5d0\"], [0.7, \"#b8e186\"], [0.8, \"#7fbc41\"], [0.9, \"#4d9221\"], [1, \"#276419\"]], \"sequential\": [[0.0, \"#0d0887\"], [0.1111111111111111, \"#46039f\"], [0.2222222222222222, \"#7201a8\"], [0.3333333333333333, \"#9c179e\"], [0.4444444444444444, \"#bd3786\"], [0.5555555555555556, \"#d8576b\"], [0.6666666666666666, \"#ed7953\"], [0.7777777777777778, \"#fb9f3a\"], [0.8888888888888888, \"#fdca26\"], [1.0, \"#f0f921\"]], \"sequentialminus\": [[0.0, \"#0d0887\"], [0.1111111111111111, \"#46039f\"], [0.2222222222222222, \"#7201a8\"], [0.3333333333333333, \"#9c179e\"], [0.4444444444444444, \"#bd3786\"], [0.5555555555555556, \"#d8576b\"], [0.6666666666666666, \"#ed7953\"], [0.7777777777777778, \"#fb9f3a\"], [0.8888888888888888, \"#fdca26\"], [1.0, \"#f0f921\"]]}, \"colorway\": [\"#636efa\", \"#EF553B\", \"#00cc96\", \"#ab63fa\", \"#FFA15A\", \"#19d3f3\", \"#FF6692\", \"#B6E880\", \"#FF97FF\", \"#FECB52\"], \"font\": {\"color\": \"#2a3f5f\"}, \"geo\": {\"bgcolor\": \"white\", \"lakecolor\": \"white\", \"landcolor\": \"#E5ECF6\", \"showlakes\": true, \"showland\": true, \"subunitcolor\": \"white\"}, \"hoverlabel\": {\"align\": \"left\"}, \"hovermode\": \"closest\", \"mapbox\": {\"style\": \"light\"}, \"paper_bgcolor\": \"white\", \"plot_bgcolor\": \"#E5ECF6\", \"polar\": {\"angularaxis\": {\"gridcolor\": \"white\", \"linecolor\": \"white\", \"ticks\": \"\"}, \"bgcolor\": \"#E5ECF6\", \"radialaxis\": {\"gridcolor\": \"white\", \"linecolor\": \"white\", \"ticks\": \"\"}}, \"scene\": {\"xaxis\": {\"backgroundcolor\": \"#E5ECF6\", \"gridcolor\": \"white\", \"gridwidth\": 2, \"linecolor\": \"white\", \"showbackground\": true, \"ticks\": \"\", \"zerolinecolor\": \"white\"}, \"yaxis\": {\"backgroundcolor\": \"#E5ECF6\", \"gridcolor\": \"white\", \"gridwidth\": 2, \"linecolor\": \"white\", \"showbackground\": true, \"ticks\": \"\", \"zerolinecolor\": \"white\"}, \"zaxis\": {\"backgroundcolor\": \"#E5ECF6\", \"gridcolor\": \"white\", \"gridwidth\": 2, \"linecolor\": \"white\", \"showbackground\": true, \"ticks\": \"\", \"zerolinecolor\": \"white\"}}, \"shapedefaults\": {\"line\": {\"color\": \"#2a3f5f\"}}, \"ternary\": {\"aaxis\": {\"gridcolor\": \"white\", \"linecolor\": \"white\", \"ticks\": \"\"}, \"baxis\": {\"gridcolor\": \"white\", \"linecolor\": \"white\", \"ticks\": \"\"}, \"bgcolor\": \"#E5ECF6\", \"caxis\": {\"gridcolor\": \"white\", \"linecolor\": \"white\", \"ticks\": \"\"}}, \"title\": {\"x\": 0.05}, \"xaxis\": {\"automargin\": true, \"gridcolor\": \"white\", \"linecolor\": \"white\", \"ticks\": \"\", \"title\": {\"standoff\": 15}, \"zerolinecolor\": \"white\", \"zerolinewidth\": 2}, \"yaxis\": {\"automargin\": true, \"gridcolor\": \"white\", \"linecolor\": \"white\", \"ticks\": \"\", \"title\": {\"standoff\": 15}, \"zerolinecolor\": \"white\", \"zerolinewidth\": 2}}}, \"title\": {\"text\": \"2021 GDP per Capita by State\"}},\n",
       "                        {\"responsive\": true}\n",
       "                    ).then(function(){\n",
       "                            \n",
       "var gd = document.getElementById('933a9447-b8a2-43ce-86db-197cf5fbe45f');\n",
       "var x = new MutationObserver(function (mutations, observer) {{\n",
       "        var display = window.getComputedStyle(gd).display;\n",
       "        if (!display || display === 'none') {{\n",
       "            console.log([gd, 'removed!']);\n",
       "            Plotly.purge(gd);\n",
       "            observer.disconnect();\n",
       "        }}\n",
       "}});\n",
       "\n",
       "// Listen for the removal of the full notebook cells\n",
       "var notebookContainer = gd.closest('#notebook-container');\n",
       "if (notebookContainer) {{\n",
       "    x.observe(notebookContainer, {childList: true});\n",
       "}}\n",
       "\n",
       "// Listen for the clearing of the current output cell\n",
       "var outputEl = gd.closest('.output');\n",
       "if (outputEl) {{\n",
       "    x.observe(outputEl, {childList: true});\n",
       "}}\n",
       "\n",
       "                        })\n",
       "                };\n",
       "                });\n",
       "            </script>\n",
       "        </div>"
      ]
     },
     "metadata": {},
     "output_type": "display_data"
    }
   ],
   "source": [
    "fig = go.Figure(data=go.Choropleth(\n",
    "    locations=df['State Code'], # Spatial coordinates\n",
    "    z = df['TOTAL MOTOR VEHICLES'].astype(float), # Data to be color-coded\n",
    "    locationmode = 'USA-states', # set of locations match entries in `locations`\n",
    "    colorscale = 'greys',\n",
    "    colorbar_title = \"GDP per Capita(USD)\",\n",
    "))\n",
    "\n",
    "fig.update_layout(\n",
    "    title_text = '2021 GDP per Capita by State',\n",
    "    geo_scope='usa', # limite map scope to USA\n",
    ")\n",
    "\n",
    "fig.show()"
   ]
  },
  {
   "cell_type": "code",
   "execution_count": null,
   "metadata": {},
   "outputs": [],
   "source": []
  },
  {
   "cell_type": "code",
   "execution_count": null,
   "metadata": {},
   "outputs": [],
   "source": []
  },
  {
   "cell_type": "code",
   "execution_count": null,
   "metadata": {},
   "outputs": [],
   "source": []
  },
  {
   "cell_type": "code",
   "execution_count": null,
   "metadata": {},
   "outputs": [],
   "source": []
  }
 ],
 "metadata": {
  "kernelspec": {
   "display_name": "Python [conda env:LearnPython] *",
   "language": "python",
   "name": "conda-env-LearnPython-py"
  },
  "language_info": {
   "codemirror_mode": {
    "name": "ipython",
    "version": 3
   },
   "file_extension": ".py",
   "mimetype": "text/x-python",
   "name": "python",
   "nbconvert_exporter": "python",
   "pygments_lexer": "ipython3",
   "version": "3.7.7"
  }
 },
 "nbformat": 4,
 "nbformat_minor": 4
}
