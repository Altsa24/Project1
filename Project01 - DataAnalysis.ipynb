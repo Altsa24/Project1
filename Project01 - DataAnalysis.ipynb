{
 "cells": [
  {
   "cell_type": "markdown",
   "metadata": {},
   "source": [
    "# Daily Gas Prices in US"
   ]
  },
  {
   "cell_type": "markdown",
   "metadata": {},
   "source": [
    "### Libraries"
   ]
  },
  {
   "cell_type": "code",
   "execution_count": null,
   "metadata": {},
   "outputs": [],
   "source": [
    "import plotly.graph_objects as go\n",
    "import pandas as pd\n",
    "import matplotlib.pyplot as plt\n",
    "import scipy.stats as sts\n",
    "import numpy as np\n",
    "from scipy.stats import linregress\n",
    "import plotly.express as px"
   ]
  },
  {
   "cell_type": "markdown",
   "metadata": {},
   "source": [
    "### Importing Data"
   ]
  },
  {
   "cell_type": "code",
   "execution_count": null,
   "metadata": {},
   "outputs": [],
   "source": [
    "working_df = pd.read_csv(\"working_data.csv\")\n",
    "historical_df = pd.read_csv(\"historicalGasPrice.csv\")"
   ]
  },
  {
   "cell_type": "markdown",
   "metadata": {},
   "source": [
    "## Data Analysis"
   ]
  },
  {
   "cell_type": "markdown",
   "metadata": {},
   "source": [
    "### Gas Price Box Plot"
   ]
  },
  {
   "cell_type": "code",
   "execution_count": null,
   "metadata": {},
   "outputs": [],
   "source": [
    "gas_list=[\"Gas\",\"Premium\",\"Diesel\",\"MidGrade\"]\n",
    "for gas in gas_list:\n",
    "    fig = px.box(working_df, y=working_df[gas])\n",
    "    box_plot_=gas+\"(plot).html\"\n",
    "    fig.update_layout(title= gas+\" \"+\"Boxplot\")\n",
    "    name = f\"{gas}BoxPlot\"\n",
    "    fig.write_image(\"Output/\"+name+\".png\")\n",
    "    fig.show()"
   ]
  },
  {
   "cell_type": "markdown",
   "metadata": {},
   "source": [
    "### Map Analysis"
   ]
  },
  {
   "cell_type": "markdown",
   "metadata": {},
   "source": [
    "#### Gas Price per State"
   ]
  },
  {
   "cell_type": "code",
   "execution_count": null,
   "metadata": {},
   "outputs": [],
   "source": [
    "maps_df = working_df\n",
    "maps_df[\"Refinery Count\"] = maps_df[\"Refinery Count\"].fillna(0)\n",
    "maps_df=maps_df.round(3)\n",
    "\n",
    "for col in maps_df.columns:\n",
    "    maps_df[col]=maps_df[col].astype(str)\n",
    "\n",
    "maps_df[\"text\"] = maps_df[\"State\"] + '<br>'+ \\\n",
    "    \"Gas Price=\"+maps_df[\"Gas\"]+ '<br>'+ \\\n",
    "    \"GDP per Capita=\"+maps_df[\"GDP per capita\"] + '<br>'+ \\\n",
    "    \"# of Refineries=\"+maps_df[\"Refinery Count\"] + '<br>'+ \\\n",
    "    \"Total Vehicles=\"+maps_df[\"TOTAL MOTOR VEHICLES\"]\n",
    "\n",
    "fig = go.Figure(data=go.Choropleth(\n",
    "    locations=maps_df['State Code'], # Spatial coordinates\n",
    "    z = maps_df['Gas'].astype(float), # Data to be color-coded\n",
    "    locationmode = 'USA-states', # set of locations match entries in `locations`\n",
    "    colorscale = 'Blues',\n",
    "    text=maps_df['text'],\n",
    "    colorbar_title = \"Gas Price (USD)\",\n",
    "))\n",
    "\n",
    "fig.update_layout(\n",
    "    title_text = '2020 Gas Price by State',\n",
    "    geo_scope='usa', # limite map scope to USA\n",
    ")\n",
    "fig.write_image(\"Output/US_State_GasPrice.png\")\n",
    "fig.show()"
   ]
  },
  {
   "cell_type": "markdown",
   "metadata": {},
   "source": [
    "#### GDP per State"
   ]
  },
  {
   "cell_type": "code",
   "execution_count": null,
   "metadata": {},
   "outputs": [],
   "source": [
    "maps_df_2 = maps_df.loc[maps_df[\"State Code\"]!= \"DC\"]\n",
    "\n",
    "fig = go.Figure(data=go.Choropleth(\n",
    "    locations=maps_df_2['State Code'], # Spatial coordinates\n",
    "    z = maps_df_2['GDP per capita'].astype(float),\n",
    "    locationmode = 'USA-states', # set of locations match entries in `locations`\n",
    "    colorscale = 'greens',\n",
    "    colorbar_title = \"GDP per Capita(USD)\",\n",
    "))\n",
    "\n",
    "fig.update_layout(\n",
    "    title_text = '2020 GDP per Capita by State',\n",
    "    geo_scope='usa', # limite map scope to USA\n",
    ")\n",
    "fig.write_image(\"Output/US_State_GDPperCapita.png\")\n",
    "fig.show()"
   ]
  },
  {
   "cell_type": "markdown",
   "metadata": {},
   "source": [
    "#### Total Vehicles per State"
   ]
  },
  {
   "cell_type": "code",
   "execution_count": null,
   "metadata": {},
   "outputs": [],
   "source": [
    "fig = go.Figure(data=go.Choropleth(\n",
    "    locations=maps_df['State Code'], # Spatial coordinates\n",
    "    z = maps_df['TOTAL MOTOR VEHICLES'].astype(float),\n",
    "    locationmode = 'USA-states', # set of locations match entries in `locations`\n",
    "    colorscale = 'greys',\n",
    "    colorbar_title = \"Total Vehicles\",\n",
    "))\n",
    "\n",
    "fig.update_layout(\n",
    "    title_text = '2020 Total Vehicles by State',\n",
    "    geo_scope='usa', # limite map scope to USA\n",
    ")\n",
    "fig.write_image(\"Output/US_State_TotalVehicles.png\")\n",
    "fig.show()"
   ]
  },
  {
   "cell_type": "markdown",
   "metadata": {},
   "source": [
    "#### Refineries per State"
   ]
  },
  {
   "cell_type": "code",
   "execution_count": null,
   "metadata": {},
   "outputs": [],
   "source": [
    "fig = go.Figure(data=go.Choropleth(\n",
    "    locations=maps_df['State Code'], # Spatial coordinates\n",
    "    z = maps_df['Refinery Count'].astype(float),\n",
    "    locationmode = 'USA-states', # set of locations match entries in `locations`\n",
    "    colorscale = 'Reds',\n",
    "    colorbar_title = \"# of Refineries\",\n",
    "))\n",
    "\n",
    "fig.update_layout(\n",
    "    title_text = '2020 Number of Refineries by State',\n",
    "    geo_scope='usa', # limite map scope to USA\n",
    ")\n",
    "fig.write_image(\"Output/US_State_Refineries.png\")\n",
    "fig.show()"
   ]
  },
  {
   "cell_type": "markdown",
   "metadata": {},
   "source": [
    "### Gas Price vs GDP Analysis"
   ]
  },
  {
   "cell_type": "code",
   "execution_count": null,
   "metadata": {},
   "outputs": [],
   "source": [
    "working_df_woDC = working_df.loc[(working_df['State Code'] != \"DC\") ]\n",
    "\n",
    "for gas in gas_list:\n",
    "    fig = go.Figure(data=px.scatter(working_df_woDC,x='GDP per capita',\n",
    "                                    y=gas,\n",
    "                                    trendline=\"ols\"\n",
    "                                    ))\n",
    "    plot_=gas+\"(plot).html\"\n",
    "\n",
    "    fig.update_layout(title= f\"{gas} Price vs. GDP per Capita\")\n",
    "    name=f\"{gas}Price_GDP\"\n",
    "    fig.write_image(\"Output/\"+name+\".png\")\n",
    "    fig.show()"
   ]
  },
  {
   "cell_type": "markdown",
   "metadata": {},
   "source": [
    "### Gas Price vs Location Analysis"
   ]
  },
  {
   "cell_type": "code",
   "execution_count": null,
   "metadata": {},
   "outputs": [],
   "source": [
    "for gas in gas_list:\n",
    "    fig = go.Figure(data=px.scatter(working_df,x='State Latitude',\n",
    "                                    y=gas,\n",
    "                                    trendline=\"ols\")) # hover text goes here\n",
    "    plot_=gas+\"Latitud(plot).html\"\n",
    "\n",
    "    fig.update_layout(title= f\"{gas} Price (USD) vs Latitude\")\n",
    "    name=f\"{gas}Price_Latitude\"\n",
    "    fig.write_image(\"Output/\"+name+\".png\")\n",
    "    fig.show()"
   ]
  },
  {
   "cell_type": "code",
   "execution_count": null,
   "metadata": {},
   "outputs": [],
   "source": [
    "for gas in gas_list:\n",
    "    fig = go.Figure(data=px.scatter(working_df,x='State Longitude',\n",
    "                                    y=gas,\n",
    "                                    trendline=\"ols\")) # hover text goes here\n",
    "\n",
    "    fig.update_layout(title= f\"{gas} Price (USD) vs Longitude\")\n",
    "    name=f\"{gas}Price_Longitude\"\n",
    "    fig.write_image(\"Output/\"+name+\".png\")\n",
    "    fig.show()"
   ]
  },
  {
   "cell_type": "markdown",
   "metadata": {},
   "source": [
    "### Gas Price vs Number of Vehicles Analysis"
   ]
  },
  {
   "cell_type": "code",
   "execution_count": null,
   "metadata": {},
   "outputs": [],
   "source": [
    "\n",
    "for gas in gas_list:\n",
    "    fig = go.Figure(data=px.scatter(working_df,x='TOTAL MOTOR VEHICLES',\n",
    "                                    y=gas,\n",
    "                                    trendline=\"ols\")) # hover text goes here\n",
    "\n",
    "    fig.update_layout(title= f\"{gas} Price (USD) vs # of Vehicles\")\n",
    "    name=f\"{gas}Price_Vehicles\"\n",
    "    fig.write_image(\"Output/\"+name+\".png\")\n",
    "    fig.show()"
   ]
  },
  {
   "cell_type": "markdown",
   "metadata": {},
   "source": [
    "### Gas Price vs Distance to Refineries Analysis"
   ]
  },
  {
   "cell_type": "markdown",
   "metadata": {},
   "source": [
    "#### Mean Distance"
   ]
  },
  {
   "cell_type": "code",
   "execution_count": null,
   "metadata": {},
   "outputs": [],
   "source": [
    "fig = go.Figure(data=px.scatter(working_df,x=\"Mean Distance (km)\",\n",
    "                                y=\"Gas\",\n",
    "                                trendline=\"ols\")) # hover text goes here\n",
    "fig.write_image(\"Output/MeanDistance.png\")\n",
    "fig.show()"
   ]
  },
  {
   "cell_type": "markdown",
   "metadata": {},
   "source": [
    "#### Min Distance"
   ]
  },
  {
   "cell_type": "code",
   "execution_count": null,
   "metadata": {
    "scrolled": true
   },
   "outputs": [],
   "source": [
    "fig = go.Figure(data=px.scatter(working_df,x=\"Min Distance (km)\",\n",
    "                                y=\"Gas\",\n",
    "                                trendline=\"ols\")) # hover text goes here\n",
    "fig.write_image(\"Output/MinDistance.png\")\n",
    "fig.show()"
   ]
  },
  {
   "cell_type": "markdown",
   "metadata": {},
   "source": [
    "### One Year Price Variation"
   ]
  },
  {
   "cell_type": "code",
   "execution_count": null,
   "metadata": {},
   "outputs": [],
   "source": [
    "fig = go.Figure(px.line(historical_df,x='WeekNum',\n",
    "                        y='Price',\n",
    "                        title=\"Gas Price Variation in the Last 52 weeks\",\n",
    "                       labels={\"Price\":\"Gas Price (USD)\",\"WeekNum\":\"Last 52 Weeks\"}))\n",
    "fig.write_image(\"Output/TimeSeries.png\")\n",
    "fig.show()"
   ]
  }
 ],
 "metadata": {
  "kernelspec": {
   "display_name": "Python [conda env:LearnPython] *",
   "language": "python",
   "name": "conda-env-LearnPython-py"
  },
  "language_info": {
   "codemirror_mode": {
    "name": "ipython",
    "version": 3
   },
   "file_extension": ".py",
   "mimetype": "text/x-python",
   "name": "python",
   "nbconvert_exporter": "python",
   "pygments_lexer": "ipython3",
   "version": "3.7.7"
  }
 },
 "nbformat": 4,
 "nbformat_minor": 4
}
