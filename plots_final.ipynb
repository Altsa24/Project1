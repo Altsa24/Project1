{
 "cells": [
  {
   "cell_type": "code",
   "execution_count": 1,
   "metadata": {},
   "outputs": [],
   "source": [
    "import plotly.graph_objects as go\n",
    "import pandas as pd\n",
    "import matplotlib.pyplot as plt\n",
    "import scipy.stats as sts\n",
    "import numpy as np\n",
    "from scipy.stats import linregress\n",
    "import plotly.express as px\n",
    "\n",
    "working_read = \"working_data.csv\"\n",
    "working_df = pd.read_csv(working_read)\n",
    "maps_df = pd.read_csv('working_data.csv')\n",
    "\n",
    "maps_df[\"Refinery Count\"] = maps_df[\"Refinery Count\"].fillna(0)\n",
    "maps_df=maps_df.round(3)\n",
    "# definir archivos\n",
    "autopath = \"autosbystate.csv\"\n",
    "autos_df = pd.read_csv(autopath)\n",
    "gaspath = \"gasoline0406.csv\"\n",
    "gas_df = pd.read_csv(gaspath)\n",
    "distance_df = pd.read_csv(\"working_data.csv\")\n"
   ]
  },
  {
   "cell_type": "code",
   "execution_count": 2,
   "metadata": {},
   "outputs": [],
   "source": [
    "for col in maps_df.columns:\n",
    "    maps_df[col]=maps_df[col].astype(str)\n",
    "\n",
    "maps_df[\"text\"] = maps_df[\"State\"] + '<br>'+ \\\n",
    "    \"Gas Price=\"+maps_df[\"Gas\"]+ '<br>'+ \\\n",
    "    \"GDP per Capita=\"+maps_df[\"GDP per capita\"] + '<br>'+ \\\n",
    "    \"# of Refineries=\"+maps_df[\"Refinery Count\"] + '<br>'+ \\\n",
    "    \"Total Vehicles=\"+maps_df[\"TOTAL MOTOR VEHICLES\"]\n",
    "\n",
    "fig = go.Figure(data=go.Choropleth(\n",
    "    locations=maps_df['State Code'], # Spatial coordinates\n",
    "    z = maps_df['Gas'].astype(float), # Data to be color-coded\n",
    "    locationmode = 'USA-states', # set of locations match entries in `locations`\n",
    "    colorscale = 'Blues',\n",
    "    text=maps_df['text'],\n",
    "    colorbar_title = \"Gas Price (USD)\",\n",
    "))\n",
    "\n",
    "fig.update_layout(\n",
    "    title_text = '2021 Gas Price by State',\n",
    "    geo_scope='usa', # limite map scope to USA\n",
    ")\n",
    "fig.write_html('third_figure.html', auto_open=True)\n",
    "#fig.show()"
   ]
  },
  {
   "cell_type": "code",
   "execution_count": 3,
   "metadata": {},
   "outputs": [],
   "source": [
    "maps_df_2 = maps_df.loc[maps_df[\"State Code\"]!= \"DC\"]\n",
    "\n",
    "fig = go.Figure(data=go.Choropleth(\n",
    "    locations=maps_df_2['State Code'], # Spatial coordinates\n",
    "    z = maps_df_2['GDP per capita'].astype(float), # Data to be color-coded\n",
    "    locationmode = 'USA-states', # set of locations match entries in `locations`\n",
    "    colorscale = 'greens',\n",
    "    colorbar_title = \"GDP per Capita(USD)\",\n",
    "))\n",
    "\n",
    "fig.update_layout(\n",
    "    title_text = '2021 GDP per Capita by State',\n",
    "    geo_scope='usa', # limite map scope to USA\n",
    ")\n",
    "fig.write_html('first_figure.html', auto_open=True)\n",
    "#fig.show()"
   ]
  },
  {
   "cell_type": "code",
   "execution_count": 4,
   "metadata": {},
   "outputs": [],
   "source": [
    "fig = go.Figure(data=go.Choropleth(\n",
    "    locations=maps_df['State Code'], # Spatial coordinates\n",
    "    z = maps_df['TOTAL MOTOR VEHICLES'].astype(float), # Data to be color-coded\n",
    "    locationmode = 'USA-states', # set of locations match entries in `locations`\n",
    "    colorscale = 'greys',\n",
    "    colorbar_title = \"GDP per Capita(USD)\",\n",
    "))\n",
    "\n",
    "fig.update_layout(\n",
    "    title_text = '2021 GDP per Capita by State',\n",
    "    geo_scope='usa', # limite map scope to USA\n",
    ")\n",
    "fig.write_html('second_figure.html', auto_open=True)\n",
    "#fig.show()"
   ]
  },
  {
   "cell_type": "code",
   "execution_count": 6,
   "metadata": {},
   "outputs": [],
   "source": [
    "working_df['GDP per capita']= working_df['GDP per capita'].replace(\",\",\"\").astype(float)\n",
    "working_df['GDP per capita']= working_df['GDP per capita']\n",
    "working_df_woDC = working_df.loc[(working_df['State Code'] != \"DC\") ]\n",
    "gas_list=[\"Gas\",\"Premium\",\"Diesel\",\"MidGrade\"]\n",
    "for x in gas_list:\n",
    "    fig = go.Figure(data=px.scatter(x=working_df_woDC['GDP per capita'],\n",
    "                                y=working_df_woDC[x],color=working_df_woDC['GDP per capita'],trendline=\"ols\",\n",
    "                                text=working_df_woDC['State'])) # hover text goes here\n",
    "    plot_=x+\"(plot).html\"\n",
    "\n",
    "    fig.update_layout(title= x+\"Vs\"+\"GDP\")\n",
    "    fig.write_html(plot_, auto_open=True)"
   ]
  },
  {
   "cell_type": "code",
   "execution_count": 7,
   "metadata": {},
   "outputs": [],
   "source": [
    "for x in gas_list:\n",
    "    df = px.data.tips()\n",
    "    fig = px.box(df, y=working_df_woDC[x])\n",
    "    box_plot_=x+\"(plot).html\"\n",
    "    fig.update_layout(title= x+\" \"+\"Boxplot\")\n",
    "    fig.write_html(box_plot_, auto_open=True)"
   ]
  },
  {
   "cell_type": "code",
   "execution_count": null,
   "metadata": {},
   "outputs": [],
   "source": [
    "\n",
    "for x in gas_list:\n",
    "    fig = go.Figure(data=px.scatter(x=working_df['State Latitude'],\n",
    "                                y=working_df[x],color=working_df['GDP per capita'],trendline=\"ols\",\n",
    "                                text=working_df['State'])) # hover text goes here\n",
    "    plot_=x+\"Latitud(plot).html\"\n",
    "\n",
    "    fig.update_layout(title= \"Latitude vs \" + x +\" Price\")\n",
    "    fig.write_html(plot_, auto_open=True)"
   ]
  },
  {
   "cell_type": "code",
   "execution_count": 8,
   "metadata": {},
   "outputs": [],
   "source": [
    "\n",
    "for x in gas_list:\n",
    "    fig = go.Figure(data=px.scatter(x=working_df['State Longitude'],\n",
    "                                y=working_df[x],color=working_df['GDP per capita'],trendline=\"ols\",\n",
    "                                text=working_df['State'])) # hover text goes here\n",
    "    plot_=x+\"Longitude(plot).html\"\n",
    "\n",
    "    fig.update_layout(title= \"Longitude vs \" + x +\" Price\")\n",
    "    fig.write_html(plot_, auto_open=True)"
   ]
  },
  {
   "cell_type": "code",
   "execution_count": 9,
   "metadata": {},
   "outputs": [],
   "source": [
    "autos_df = autos_df.rename(columns={\"STATE\": \"states\"})\n",
    "gas_autos_df = pd.merge(gas_df,autos_df, on='states',  how='outer')\n",
    "gas_autos_df = gas_autos_df.rename(columns={\"premium\": \"Premium\",\"gasoline\": \"Gas\",\"midGrade\": \"MidGrade\",\"diesel\": \"Diesel\"})\n",
    "gas_autos_df['TOTAL MOTOR VEHICLES'] = gas_autos_df['TOTAL AUTOMOBILES'] + gas_autos_df['TOTAL BUSES'] + gas_autos_df['TOTAL TRUCKS']+ gas_autos_df['TOTAL MOTORCYCLES']\n",
    "\n",
    "for x in gas_list:\n",
    "    fig = go.Figure(data=px.scatter(x=gas_autos_df['TOTAL MOTOR VEHICLES'],\n",
    "                                y=gas_autos_df[x],color=gas_autos_df['TOTAL MOTOR VEHICLES'],trendline=\"ols\",\n",
    "                                text=gas_autos_df['states'])) # hover text goes here\n",
    "    plot_=x+\"Cars(plot).html\"\n",
    "\n",
    "    fig.update_layout(title= \"Cars vs \" + x +\" Price\")\n",
    "    fig.write_html(plot_, auto_open=True)"
   ]
  },
  {
   "cell_type": "code",
   "execution_count": 10,
   "metadata": {},
   "outputs": [],
   "source": [
    "    fig = go.Figure(data=px.scatter(x=distance_df[\"Mean Distance (km)\"]/1000,\n",
    "                                y=distance_df[\"Gas\"],trendline=\"ols\",\n",
    "                                text=distance_df['State'])) # hover text goes here\n",
    "    plot_=\"Mean_distance(plot).html\"\n",
    "\n",
    "    fig.update_layout(title= \"Distances Refinery vs Mean Gas Price\")\n",
    "    fig.write_html(plot_, auto_open=True)"
   ]
  },
  {
   "cell_type": "code",
   "execution_count": 11,
   "metadata": {},
   "outputs": [],
   "source": [
    "    fig = go.Figure(data=px.scatter(x=distance_df[\"Min Distance (km)\"]/1000,\n",
    "                                y=distance_df[\"Gas\"],trendline=\"ols\",\n",
    "                                text=distance_df['State'])) # hover text goes here\n",
    "    plot_=x+\"Longitude(plot).html\"\n",
    "\n",
    "    fig.update_layout(title= \"Distances Refinery vs Min Gas Price\")\n",
    "    fig.write_html(plot_, auto_open=True)"
   ]
  }
 ],
 "metadata": {
  "kernelspec": {
   "display_name": "Python 3.8.2 64-bit ('Boot': conda)",
   "language": "python",
   "name": "python38264bitbootconda325b24735c9f44709dfa86c5ae98a6e4"
  },
  "language_info": {
   "codemirror_mode": {
    "name": "ipython",
    "version": 3
   },
   "file_extension": ".py",
   "mimetype": "text/x-python",
   "name": "python",
   "nbconvert_exporter": "python",
   "pygments_lexer": "ipython3",
   "version": "3.8.3"
  }
 },
 "nbformat": 4,
 "nbformat_minor": 4
}
