{
 "cells": [
  {
   "cell_type": "code",
   "execution_count": 1,
   "metadata": {},
   "outputs": [],
   "source": [
    "import plotly.graph_objects as go\n",
    "import pandas as pd\n",
    "import matplotlib.pyplot as plt\n",
    "import scipy.stats as sts\n",
    "import numpy as np\n",
    "from scipy.stats import linregress\n",
    "\n",
    "\n",
    "working_read = \"working_data.csv\"\n",
    "working_df = pd.read_csv(working_read)\n",
    "maps_df = pd.read_csv('working_data.csv')\n",
    "\n",
    "maps_df[\"Refinery Count\"] = maps_df[\"Refinery Count\"].fillna(0)\n",
    "maps_df=maps_df.round(3)"
   ]
  },
  {
   "cell_type": "code",
   "execution_count": 3,
   "metadata": {},
   "outputs": [
    {
     "data": {
      "application/vnd.plotly.v1+json": {
       "config": {
        "plotlyServerURL": "https://plot.ly"
       },
       "data": [
        {
         "colorbar": {
          "title": {
           "text": "Gas Price (USD)"
          }
         },
         "colorscale": [
          [
           0,
           "rgb(247,251,255)"
          ],
          [
           0.125,
           "rgb(222,235,247)"
          ],
          [
           0.25,
           "rgb(198,219,239)"
          ],
          [
           0.375,
           "rgb(158,202,225)"
          ],
          [
           0.5,
           "rgb(107,174,214)"
          ],
          [
           0.625,
           "rgb(66,146,198)"
          ],
          [
           0.75,
           "rgb(33,113,181)"
          ],
          [
           0.875,
           "rgb(8,81,156)"
          ],
          [
           1,
           "rgb(8,48,107)"
          ]
         ],
         "locationmode": "USA-states",
         "locations": [
          "AK",
          "AL",
          "AR",
          "AZ",
          "CA",
          "CO",
          "CT",
          "DC",
          "DE",
          "FL",
          "GA",
          "HI",
          "IA",
          "ID",
          "IL",
          "IN",
          "KS",
          "KY",
          "LA",
          "MA",
          "MD",
          "ME",
          "MI",
          "MN",
          "MO",
          "MS",
          "MT",
          "NC",
          "ND",
          "NE",
          "NH",
          "NJ",
          "NM",
          "NV",
          "NY",
          "OH",
          "OK",
          "OR",
          "PA",
          "RI",
          "SC",
          "SD",
          "TN",
          "TX",
          "UT",
          "VA",
          "VT",
          "WA",
          "WI",
          "WV",
          "WY"
         ],
         "text": [
          "Alaska<br>Gas Price=2.388<br>GDP per Capita=73205.0<br># of Refineries=4.0<br>Total Vehicles=804505",
          "Alabama<br>Gas Price=1.779<br>GDP per Capita=45219.0<br># of Refineries=3.0<br>Total Vehicles=5056073",
          "Arkansas<br>Gas Price=1.78<br>GDP per Capita=42454.0<br># of Refineries=1.0<br>Total Vehicles=2833697",
          "Arizona<br>Gas Price=2.264<br>GDP per Capita=48055.0<br># of Refineries=0.0<br>Total Vehicles=5964434",
          "California<br>Gas Price=2.977<br>GDP per Capita=74205.0<br># of Refineries=16.0<br>Total Vehicles=30795141",
          "Colorado<br>Gas Price=2.283<br>GDP per Capita=63882.0<br># of Refineries=1.0<br>Total Vehicles=5259960",
          "Connecticut<br>Gas Price=2.056<br>GDP per Capita=76342.0<br># of Refineries=0.0<br>Total Vehicles=2826350",
          "District of Columbia<br>Gas Price=2.178<br>GDP per Capita=200277.0<br># of Refineries=0.0<br>Total Vehicles=346016",
          "Delaware<br>Gas Price=1.991<br>GDP per Capita=77253.0<br># of Refineries=1.0<br>Total Vehicles=970733",
          "Florida<br>Gas Price=2.008<br>GDP per Capita=48318.0<br># of Refineries=0.0<br>Total Vehicles=16959269",
          "Georgia<br>Gas Price=1.855<br>GDP per Capita=55832.0<br># of Refineries=1.0<br>Total Vehicles=8442325",
          "Hawaii<br>Gas Price=3.201<br>GDP per Capita=64096.0<br># of Refineries=1.0<br>Total Vehicles=1259541",
          "Iowa<br>Gas Price=2.033<br>GDP per Capita=59977.0<br># of Refineries=0.0<br>Total Vehicles=3750077",
          "Idaho<br>Gas Price=2.297<br>GDP per Capita=43430.0<br># of Refineries=0.0<br>Total Vehicles=1835903",
          "Illinois<br>Gas Price=2.307<br>GDP per Capita=67268.0<br># of Refineries=4.0<br>Total Vehicles=10890760",
          "Indiana<br>Gas Price=2.095<br>GDP per Capita=55172.0<br># of Refineries=2.0<br>Total Vehicles=6170034",
          "Kansas<br>Gas Price=1.863<br>GDP per Capita=56334.0<br># of Refineries=2.0<br>Total Vehicles=2717873",
          "Kentucky<br>Gas Price=1.984<br>GDP per Capita=46898.0<br># of Refineries=2.0<br>Total Vehicles=4293205",
          "Louisiana<br>Gas Price=1.743<br>GDP per Capita=53589.0<br># of Refineries=16.0<br>Total Vehicles=3906812",
          "Massachusetts<br>Gas Price=2.04<br>GDP per Capita=82480.0<br># of Refineries=0.0<br>Total Vehicles=5065221",
          "Maryland<br>Gas Price=2.103<br>GDP per Capita=68573.0<br># of Refineries=0.0<br>Total Vehicles=4357598",
          "Maine<br>Gas Price=2.054<br>GDP per Capita=47969.0<br># of Refineries=0.0<br>Total Vehicles=1094388",
          "Michigan<br>Gas Price=2.089<br>GDP per Capita=53209.0<br># of Refineries=1.0<br>Total Vehicles=8518097",
          "Minnesota<br>Gas Price=2.005<br>GDP per Capita=64675.0<br># of Refineries=2.0<br>Total Vehicles=5682653",
          "Missouri<br>Gas Price=1.837<br>GDP per Capita=51699.0<br># of Refineries=0.0<br>Total Vehicles=5568736",
          "Mississippi<br>Gas Price=1.713<br>GDP per Capita=37948.0<br># of Refineries=4.0<br>Total Vehicles=2057476",
          "Montana<br>Gas Price=2.007<br>GDP per Capita=46609.0<br># of Refineries=3.0<br>Total Vehicles=1863918",
          "North Carolina<br>Gas Price=1.965<br>GDP per Capita=54441.0<br># of Refineries=0.0<br>Total Vehicles=8070717",
          "North Dakota<br>Gas Price=1.974<br>GDP per Capita=72597.0<br># of Refineries=2.0<br>Total Vehicles=1056758",
          "Nebraska<br>Gas Price=1.971<br>GDP per Capita=63942.0<br># of Refineries=0.0<br>Total Vehicles=1965105",
          "New Hampshire<br>Gas Price=2.016<br>GDP per Capita=63067.0<br># of Refineries=0.0<br>Total Vehicles=1319117",
          "New Jersey<br>Gas Price=2.085<br>GDP per Capita=69378.0<br># of Refineries=6.0<br>Total Vehicles=6057711",
          "New Mexico<br>Gas Price=1.969<br>GDP per Capita=46954.0<br># of Refineries=3.0<br>Total Vehicles=1740002",
          "Nevada<br>Gas Price=2.519<br>GDP per Capita=55269.0<br># of Refineries=1.0<br>Total Vehicles=2455442",
          "New York<br>Gas Price=2.218<br>GDP per Capita=85746.0<br># of Refineries=0.0<br>Total Vehicles=10857455",
          "Ohio<br>Gas Price=2.034<br>GDP per Capita=57492.0<br># of Refineries=4.0<br>Total Vehicles=10809247",
          "Oklahoma<br>Gas Price=1.807<br>GDP per Capita=50613.0<br># of Refineries=4.0<br>Total Vehicles=3744178",
          "Oregon<br>Gas Price=2.537<br>GDP per Capita=56956.0<br># of Refineries=0.0<br>Total Vehicles=4103451",
          "Pennsylvania<br>Gas Price=2.311<br>GDP per Capita=61594.0<br># of Refineries=6.0<br>Total Vehicles=10689206",
          "Rhode Island<br>Gas Price=2.036<br>GDP per Capita=57852.0<br># of Refineries=0.0<br>Total Vehicles=872814",
          "South Carolina<br>Gas Price=1.831<br>GDP per Capita=45280.0<br># of Refineries=0.0<br>Total Vehicles=4404100",
          "South Dakota<br>Gas Price=1.979<br>GDP per Capita=58624.0<br># of Refineries=0.0<br>Total Vehicles=1258356",
          "Tennessee<br>Gas Price=1.858<br>GDP per Capita=53933.0<br># of Refineries=1.0<br>Total Vehicles=5800489",
          "Texas<br>Gas Price=1.797<br>GDP per Capita=61167.0<br># of Refineries=21.0<br>Total Vehicles=22130765",
          "Utah<br>Gas Price=2.288<br>GDP per Capita=55550.0<br># of Refineries=3.0<br>Total Vehicles=2355773",
          "Virginia<br>Gas Price=1.853<br>GDP per Capita=62563.0<br># of Refineries=0.0<br>Total Vehicles=7514484",
          "Vermont<br>Gas Price=2.046<br>GDP per Capita=53523.0<br># of Refineries=0.0<br>Total Vehicles=621608",
          "Washington<br>Gas Price=2.623<br>GDP per Capita=74182.0<br># of Refineries=5.0<br>Total Vehicles=7256196",
          "Wisconsin<br>Gas Price=2.04<br>GDP per Capita=57720.0<br># of Refineries=1.0<br>Total Vehicles=5596635",
          "West Virginia<br>Gas Price=2.028<br>GDP per Capita=43053.0<br># of Refineries=1.0<br>Total Vehicles=1691237",
          "Wyoming<br>Gas Price=2.037<br>GDP per Capita=69900.0<br># of Refineries=6.0<br>Total Vehicles=819257"
         ],
         "type": "choropleth",
         "z": [
          2.388,
          1.779,
          1.78,
          2.264,
          2.977,
          2.283,
          2.056,
          2.178,
          1.991,
          2.008,
          1.855,
          3.201,
          2.033,
          2.297,
          2.307,
          2.095,
          1.863,
          1.984,
          1.743,
          2.04,
          2.103,
          2.054,
          2.089,
          2.005,
          1.837,
          1.713,
          2.007,
          1.965,
          1.974,
          1.971,
          2.016,
          2.085,
          1.969,
          2.519,
          2.218,
          2.034,
          1.807,
          2.537,
          2.311,
          2.036,
          1.831,
          1.979,
          1.858,
          1.797,
          2.288,
          1.853,
          2.046,
          2.623,
          2.04,
          2.028,
          2.037
         ]
        }
       ],
       "layout": {
        "geo": {
         "scope": "usa"
        },
        "template": {
         "data": {
          "bar": [
           {
            "error_x": {
             "color": "#2a3f5f"
            },
            "error_y": {
             "color": "#2a3f5f"
            },
            "marker": {
             "line": {
              "color": "#E5ECF6",
              "width": 0.5
             }
            },
            "type": "bar"
           }
          ],
          "barpolar": [
           {
            "marker": {
             "line": {
              "color": "#E5ECF6",
              "width": 0.5
             }
            },
            "type": "barpolar"
           }
          ],
          "carpet": [
           {
            "aaxis": {
             "endlinecolor": "#2a3f5f",
             "gridcolor": "white",
             "linecolor": "white",
             "minorgridcolor": "white",
             "startlinecolor": "#2a3f5f"
            },
            "baxis": {
             "endlinecolor": "#2a3f5f",
             "gridcolor": "white",
             "linecolor": "white",
             "minorgridcolor": "white",
             "startlinecolor": "#2a3f5f"
            },
            "type": "carpet"
           }
          ],
          "choropleth": [
           {
            "colorbar": {
             "outlinewidth": 0,
             "ticks": ""
            },
            "type": "choropleth"
           }
          ],
          "contour": [
           {
            "colorbar": {
             "outlinewidth": 0,
             "ticks": ""
            },
            "colorscale": [
             [
              0,
              "#0d0887"
             ],
             [
              0.1111111111111111,
              "#46039f"
             ],
             [
              0.2222222222222222,
              "#7201a8"
             ],
             [
              0.3333333333333333,
              "#9c179e"
             ],
             [
              0.4444444444444444,
              "#bd3786"
             ],
             [
              0.5555555555555556,
              "#d8576b"
             ],
             [
              0.6666666666666666,
              "#ed7953"
             ],
             [
              0.7777777777777778,
              "#fb9f3a"
             ],
             [
              0.8888888888888888,
              "#fdca26"
             ],
             [
              1,
              "#f0f921"
             ]
            ],
            "type": "contour"
           }
          ],
          "contourcarpet": [
           {
            "colorbar": {
             "outlinewidth": 0,
             "ticks": ""
            },
            "type": "contourcarpet"
           }
          ],
          "heatmap": [
           {
            "colorbar": {
             "outlinewidth": 0,
             "ticks": ""
            },
            "colorscale": [
             [
              0,
              "#0d0887"
             ],
             [
              0.1111111111111111,
              "#46039f"
             ],
             [
              0.2222222222222222,
              "#7201a8"
             ],
             [
              0.3333333333333333,
              "#9c179e"
             ],
             [
              0.4444444444444444,
              "#bd3786"
             ],
             [
              0.5555555555555556,
              "#d8576b"
             ],
             [
              0.6666666666666666,
              "#ed7953"
             ],
             [
              0.7777777777777778,
              "#fb9f3a"
             ],
             [
              0.8888888888888888,
              "#fdca26"
             ],
             [
              1,
              "#f0f921"
             ]
            ],
            "type": "heatmap"
           }
          ],
          "heatmapgl": [
           {
            "colorbar": {
             "outlinewidth": 0,
             "ticks": ""
            },
            "colorscale": [
             [
              0,
              "#0d0887"
             ],
             [
              0.1111111111111111,
              "#46039f"
             ],
             [
              0.2222222222222222,
              "#7201a8"
             ],
             [
              0.3333333333333333,
              "#9c179e"
             ],
             [
              0.4444444444444444,
              "#bd3786"
             ],
             [
              0.5555555555555556,
              "#d8576b"
             ],
             [
              0.6666666666666666,
              "#ed7953"
             ],
             [
              0.7777777777777778,
              "#fb9f3a"
             ],
             [
              0.8888888888888888,
              "#fdca26"
             ],
             [
              1,
              "#f0f921"
             ]
            ],
            "type": "heatmapgl"
           }
          ],
          "histogram": [
           {
            "marker": {
             "colorbar": {
              "outlinewidth": 0,
              "ticks": ""
             }
            },
            "type": "histogram"
           }
          ],
          "histogram2d": [
           {
            "colorbar": {
             "outlinewidth": 0,
             "ticks": ""
            },
            "colorscale": [
             [
              0,
              "#0d0887"
             ],
             [
              0.1111111111111111,
              "#46039f"
             ],
             [
              0.2222222222222222,
              "#7201a8"
             ],
             [
              0.3333333333333333,
              "#9c179e"
             ],
             [
              0.4444444444444444,
              "#bd3786"
             ],
             [
              0.5555555555555556,
              "#d8576b"
             ],
             [
              0.6666666666666666,
              "#ed7953"
             ],
             [
              0.7777777777777778,
              "#fb9f3a"
             ],
             [
              0.8888888888888888,
              "#fdca26"
             ],
             [
              1,
              "#f0f921"
             ]
            ],
            "type": "histogram2d"
           }
          ],
          "histogram2dcontour": [
           {
            "colorbar": {
             "outlinewidth": 0,
             "ticks": ""
            },
            "colorscale": [
             [
              0,
              "#0d0887"
             ],
             [
              0.1111111111111111,
              "#46039f"
             ],
             [
              0.2222222222222222,
              "#7201a8"
             ],
             [
              0.3333333333333333,
              "#9c179e"
             ],
             [
              0.4444444444444444,
              "#bd3786"
             ],
             [
              0.5555555555555556,
              "#d8576b"
             ],
             [
              0.6666666666666666,
              "#ed7953"
             ],
             [
              0.7777777777777778,
              "#fb9f3a"
             ],
             [
              0.8888888888888888,
              "#fdca26"
             ],
             [
              1,
              "#f0f921"
             ]
            ],
            "type": "histogram2dcontour"
           }
          ],
          "mesh3d": [
           {
            "colorbar": {
             "outlinewidth": 0,
             "ticks": ""
            },
            "type": "mesh3d"
           }
          ],
          "parcoords": [
           {
            "line": {
             "colorbar": {
              "outlinewidth": 0,
              "ticks": ""
             }
            },
            "type": "parcoords"
           }
          ],
          "pie": [
           {
            "automargin": true,
            "type": "pie"
           }
          ],
          "scatter": [
           {
            "marker": {
             "colorbar": {
              "outlinewidth": 0,
              "ticks": ""
             }
            },
            "type": "scatter"
           }
          ],
          "scatter3d": [
           {
            "line": {
             "colorbar": {
              "outlinewidth": 0,
              "ticks": ""
             }
            },
            "marker": {
             "colorbar": {
              "outlinewidth": 0,
              "ticks": ""
             }
            },
            "type": "scatter3d"
           }
          ],
          "scattercarpet": [
           {
            "marker": {
             "colorbar": {
              "outlinewidth": 0,
              "ticks": ""
             }
            },
            "type": "scattercarpet"
           }
          ],
          "scattergeo": [
           {
            "marker": {
             "colorbar": {
              "outlinewidth": 0,
              "ticks": ""
             }
            },
            "type": "scattergeo"
           }
          ],
          "scattergl": [
           {
            "marker": {
             "colorbar": {
              "outlinewidth": 0,
              "ticks": ""
             }
            },
            "type": "scattergl"
           }
          ],
          "scattermapbox": [
           {
            "marker": {
             "colorbar": {
              "outlinewidth": 0,
              "ticks": ""
             }
            },
            "type": "scattermapbox"
           }
          ],
          "scatterpolar": [
           {
            "marker": {
             "colorbar": {
              "outlinewidth": 0,
              "ticks": ""
             }
            },
            "type": "scatterpolar"
           }
          ],
          "scatterpolargl": [
           {
            "marker": {
             "colorbar": {
              "outlinewidth": 0,
              "ticks": ""
             }
            },
            "type": "scatterpolargl"
           }
          ],
          "scatterternary": [
           {
            "marker": {
             "colorbar": {
              "outlinewidth": 0,
              "ticks": ""
             }
            },
            "type": "scatterternary"
           }
          ],
          "surface": [
           {
            "colorbar": {
             "outlinewidth": 0,
             "ticks": ""
            },
            "colorscale": [
             [
              0,
              "#0d0887"
             ],
             [
              0.1111111111111111,
              "#46039f"
             ],
             [
              0.2222222222222222,
              "#7201a8"
             ],
             [
              0.3333333333333333,
              "#9c179e"
             ],
             [
              0.4444444444444444,
              "#bd3786"
             ],
             [
              0.5555555555555556,
              "#d8576b"
             ],
             [
              0.6666666666666666,
              "#ed7953"
             ],
             [
              0.7777777777777778,
              "#fb9f3a"
             ],
             [
              0.8888888888888888,
              "#fdca26"
             ],
             [
              1,
              "#f0f921"
             ]
            ],
            "type": "surface"
           }
          ],
          "table": [
           {
            "cells": {
             "fill": {
              "color": "#EBF0F8"
             },
             "line": {
              "color": "white"
             }
            },
            "header": {
             "fill": {
              "color": "#C8D4E3"
             },
             "line": {
              "color": "white"
             }
            },
            "type": "table"
           }
          ]
         },
         "layout": {
          "annotationdefaults": {
           "arrowcolor": "#2a3f5f",
           "arrowhead": 0,
           "arrowwidth": 1
          },
          "coloraxis": {
           "colorbar": {
            "outlinewidth": 0,
            "ticks": ""
           }
          },
          "colorscale": {
           "diverging": [
            [
             0,
             "#8e0152"
            ],
            [
             0.1,
             "#c51b7d"
            ],
            [
             0.2,
             "#de77ae"
            ],
            [
             0.3,
             "#f1b6da"
            ],
            [
             0.4,
             "#fde0ef"
            ],
            [
             0.5,
             "#f7f7f7"
            ],
            [
             0.6,
             "#e6f5d0"
            ],
            [
             0.7,
             "#b8e186"
            ],
            [
             0.8,
             "#7fbc41"
            ],
            [
             0.9,
             "#4d9221"
            ],
            [
             1,
             "#276419"
            ]
           ],
           "sequential": [
            [
             0,
             "#0d0887"
            ],
            [
             0.1111111111111111,
             "#46039f"
            ],
            [
             0.2222222222222222,
             "#7201a8"
            ],
            [
             0.3333333333333333,
             "#9c179e"
            ],
            [
             0.4444444444444444,
             "#bd3786"
            ],
            [
             0.5555555555555556,
             "#d8576b"
            ],
            [
             0.6666666666666666,
             "#ed7953"
            ],
            [
             0.7777777777777778,
             "#fb9f3a"
            ],
            [
             0.8888888888888888,
             "#fdca26"
            ],
            [
             1,
             "#f0f921"
            ]
           ],
           "sequentialminus": [
            [
             0,
             "#0d0887"
            ],
            [
             0.1111111111111111,
             "#46039f"
            ],
            [
             0.2222222222222222,
             "#7201a8"
            ],
            [
             0.3333333333333333,
             "#9c179e"
            ],
            [
             0.4444444444444444,
             "#bd3786"
            ],
            [
             0.5555555555555556,
             "#d8576b"
            ],
            [
             0.6666666666666666,
             "#ed7953"
            ],
            [
             0.7777777777777778,
             "#fb9f3a"
            ],
            [
             0.8888888888888888,
             "#fdca26"
            ],
            [
             1,
             "#f0f921"
            ]
           ]
          },
          "colorway": [
           "#636efa",
           "#EF553B",
           "#00cc96",
           "#ab63fa",
           "#FFA15A",
           "#19d3f3",
           "#FF6692",
           "#B6E880",
           "#FF97FF",
           "#FECB52"
          ],
          "font": {
           "color": "#2a3f5f"
          },
          "geo": {
           "bgcolor": "white",
           "lakecolor": "white",
           "landcolor": "#E5ECF6",
           "showlakes": true,
           "showland": true,
           "subunitcolor": "white"
          },
          "hoverlabel": {
           "align": "left"
          },
          "hovermode": "closest",
          "mapbox": {
           "style": "light"
          },
          "paper_bgcolor": "white",
          "plot_bgcolor": "#E5ECF6",
          "polar": {
           "angularaxis": {
            "gridcolor": "white",
            "linecolor": "white",
            "ticks": ""
           },
           "bgcolor": "#E5ECF6",
           "radialaxis": {
            "gridcolor": "white",
            "linecolor": "white",
            "ticks": ""
           }
          },
          "scene": {
           "xaxis": {
            "backgroundcolor": "#E5ECF6",
            "gridcolor": "white",
            "gridwidth": 2,
            "linecolor": "white",
            "showbackground": true,
            "ticks": "",
            "zerolinecolor": "white"
           },
           "yaxis": {
            "backgroundcolor": "#E5ECF6",
            "gridcolor": "white",
            "gridwidth": 2,
            "linecolor": "white",
            "showbackground": true,
            "ticks": "",
            "zerolinecolor": "white"
           },
           "zaxis": {
            "backgroundcolor": "#E5ECF6",
            "gridcolor": "white",
            "gridwidth": 2,
            "linecolor": "white",
            "showbackground": true,
            "ticks": "",
            "zerolinecolor": "white"
           }
          },
          "shapedefaults": {
           "line": {
            "color": "#2a3f5f"
           }
          },
          "ternary": {
           "aaxis": {
            "gridcolor": "white",
            "linecolor": "white",
            "ticks": ""
           },
           "baxis": {
            "gridcolor": "white",
            "linecolor": "white",
            "ticks": ""
           },
           "bgcolor": "#E5ECF6",
           "caxis": {
            "gridcolor": "white",
            "linecolor": "white",
            "ticks": ""
           }
          },
          "title": {
           "x": 0.05
          },
          "xaxis": {
           "automargin": true,
           "gridcolor": "white",
           "linecolor": "white",
           "ticks": "",
           "title": {
            "standoff": 15
           },
           "zerolinecolor": "white",
           "zerolinewidth": 2
          },
          "yaxis": {
           "automargin": true,
           "gridcolor": "white",
           "linecolor": "white",
           "ticks": "",
           "title": {
            "standoff": 15
           },
           "zerolinecolor": "white",
           "zerolinewidth": 2
          }
         }
        },
        "title": {
         "text": "2021 Gas Price by State"
        }
       }
      }
     },
     "metadata": {},
     "output_type": "display_data"
    }
   ],
   "source": [
    "for col in maps_df.columns:\n",
    "    maps_df[col]=maps_df[col].astype(str)\n",
    "\n",
    "maps_df[\"text\"] = maps_df[\"State\"] + '<br>'+ \\\n",
    "    \"Gas Price=\"+maps_df[\"Gas\"]+ '<br>'+ \\\n",
    "    \"GDP per Capita=\"+maps_df[\"GDP per capita\"] + '<br>'+ \\\n",
    "    \"# of Refineries=\"+maps_df[\"Refinery Count\"] + '<br>'+ \\\n",
    "    \"Total Vehicles=\"+maps_df[\"TOTAL MOTOR VEHICLES\"]\n",
    "\n",
    "fig = go.Figure(data=go.Choropleth(\n",
    "    locations=maps_df['State Code'], # Spatial coordinates\n",
    "    z = maps_df['Gas'].astype(float), # Data to be color-coded\n",
    "    locationmode = 'USA-states', # set of locations match entries in `locations`\n",
    "    colorscale = 'Blues',\n",
    "    text=maps_df['text'],\n",
    "    colorbar_title = \"Gas Price (USD)\",\n",
    "))\n",
    "\n",
    "fig.update_layout(\n",
    "    title_text = '2021 Gas Price by State',\n",
    "    geo_scope='usa', # limite map scope to USA\n",
    ")\n",
    "\n",
    "fig.show()"
   ]
  },
  {
   "cell_type": "code",
   "execution_count": null,
   "metadata": {},
   "outputs": [],
   "source": [
    "maps_df_2 = maps_df.loc[maps_df[\"State Code\"]!= \"DC\"]\n",
    "\n",
    "fig = go.Figure(data=go.Choropleth(\n",
    "    locations=maps_df_2['State Code'], # Spatial coordinates\n",
    "    z = maps_df_2['GDP per capita'].astype(float), # Data to be color-coded\n",
    "    locationmode = 'USA-states', # set of locations match entries in `locations`\n",
    "    colorscale = 'greens',\n",
    "    colorbar_title = \"GDP per Capita(USD)\",\n",
    "))\n",
    "\n",
    "fig.update_layout(\n",
    "    title_text = '2021 GDP per Capita by State',\n",
    "    geo_scope='usa', # limite map scope to USA\n",
    ")\n",
    "\n",
    "fig.show()"
   ]
  },
  {
   "cell_type": "code",
   "execution_count": null,
   "metadata": {},
   "outputs": [],
   "source": [
    "fig = go.Figure(data=go.Choropleth(\n",
    "    locations=maps_df['State Code'], # Spatial coordinates\n",
    "    z = maps_df['TOTAL MOTOR VEHICLES'].astype(float), # Data to be color-coded\n",
    "    locationmode = 'USA-states', # set of locations match entries in `locations`\n",
    "    colorscale = 'greys',\n",
    "    colorbar_title = \"GDP per Capita(USD)\",\n",
    "))\n",
    "\n",
    "fig.update_layout(\n",
    "    title_text = '2021 GDP per Capita by State',\n",
    "    geo_scope='usa', # limite map scope to USA\n",
    ")\n",
    "\n",
    "fig.show()"
   ]
  },
  {
   "cell_type": "code",
   "execution_count": null,
   "metadata": {},
   "outputs": [],
   "source": [
    "working_df['GDP per capita']= working_df['GDP per capita'].replace(\",\",\"\").astype(float)\n",
    "working_df['GDP per capita']= working_df['GDP per capita']/1000\n"
   ]
  }
 ],
 "metadata": {
  "kernelspec": {
   "display_name": "Python 3.8.2 64-bit ('Boot': conda)",
   "language": "python",
   "name": "python38264bitbootconda325b24735c9f44709dfa86c5ae98a6e4"
  },
  "language_info": {
   "codemirror_mode": {
    "name": "ipython",
    "version": 3
   },
   "file_extension": ".py",
   "mimetype": "text/x-python",
   "name": "python",
   "nbconvert_exporter": "python",
   "pygments_lexer": "ipython3",
   "version": "3.8.3"
  }
 },
 "nbformat": 4,
 "nbformat_minor": 4
}
